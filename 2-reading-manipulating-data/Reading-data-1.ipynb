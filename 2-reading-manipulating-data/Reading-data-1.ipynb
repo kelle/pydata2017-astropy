{
 "cells": [
  {
   "cell_type": "markdown",
   "metadata": {},
   "source": [
    "# Reading, manipulating, and writing data with Astropy\n",
    "\n",
    "TODO:\n",
    "\n",
    "unified i/o: `astropy.io`\n",
    "\n",
    "if tabular data, returns an astropy table class\n",
    "\n",
    "let's learn about the class in general, then do some specific examples with ascii and FITS tables\n",
    "\n",
    "\n",
    "TODO: link to relevant sections of documentation\n",
    "For more information about the features presented below, you can read the\n",
    "[astropy.table](http://docs.astropy.org/en/stable/table/index.html) documentation."
   ]
  },
  {
   "cell_type": "code",
   "execution_count": 1,
   "metadata": {
    "collapsed": true
   },
   "outputs": [],
   "source": [
    "# Imports we'll need throughout the tutorial:\n",
    "import numpy as np\n",
    "import matplotlib as mpl\n",
    "import matplotlib.pyplot as plt\n",
    "%matplotlib inline\n",
    "\n",
    "from astropy.table import Table\n",
    "from astropy.io import ascii, fits"
   ]
  },
  {
   "cell_type": "markdown",
   "metadata": {},
   "source": [
    "# Astropy Tables"
   ]
  },
  {
   "cell_type": "markdown",
   "metadata": {},
   "source": [
    "The astropy [Table](http://docs.astropy.org/en/stable/table/index.html) class provides an extension of NumPy structured arrays for storing and manipulating heterogeneous tables of data. [Table](http://docs.astropy.org/en/stable/table/index.html) supports many convenient features that may be familiar to users of other packages that support table data (e.g., `Pandas`). To highlight a few:\n",
    "\n",
    "- `Table` objects can be modified in place by adding or removing columns, changing column names, or adding new rows of data.\n",
    "- `Table`s support dealing with missing values.\n",
    "- `Table`s support database operations like joins, concatenation, and grouping.\n",
    "- `Table`s support Astropy [Units and Quantities](http://astropy.readthedocs.org/en/stable/units/index.html), especially with the `QTable` class."
   ]
  },
  {
   "cell_type": "markdown",
   "metadata": {},
   "source": [
    "## Creating an astropy `Table` from scratch\n",
    "\n",
    "\n",
    "Table objects can be constructed in a variety of ways:\n",
    "\n",
    "- By reading an existing table from a file or web URL\n",
    "- By adding columns of data one by one\n",
    "- By adding rows of data one by one\n",
    "- From an existing data structure in memory, i.e. from a:\n",
    "\n",
    "  - List of data columns\n",
    "  - Dict of data columns\n",
    "  - List of row dicts\n",
    "  - Numpy homgeneous array or structured array\n",
    "  - List of row records\n",
    "  \n",
    "See the documentation section on [Constructing a table](http://astropy.readthedocs.org/en/stable/table/construct_table.html) for the gory details and plenty of examples.\n",
    "\n",
    "Let's create our first table object by creating an empty table and start by adding a single column:"
   ]
  },
  {
   "cell_type": "code",
   "execution_count": 2,
   "metadata": {},
   "outputs": [],
   "source": [
    "tbl = Table()\n",
    "tbl['name'] = ['Graham Chapman', 'John Cleese', 'Terry Gilliam', \n",
    "               'Eric Idle', 'Terry Jones', 'Michael Palin']"
   ]
  },
  {
   "cell_type": "markdown",
   "metadata": {},
   "source": [
    "In this case, the column name is given as a string index to the table object, and the data type and number of rows are inferred directly from the data. Once the table has a column, however, any new columns we add must have the same number of rows:"
   ]
  },
  {
   "cell_type": "code",
   "execution_count": 3,
   "metadata": {
    "collapsed": true
   },
   "outputs": [],
   "source": [
    "tbl['age'] = [np.nan, 78, 77, 74, 75, 74]\n",
    "\n",
    "# whereas, this would fail because it isn't the same length as the table:\n",
    "# tbl['age'] = [77, 77]"
   ]
  },
  {
   "cell_type": "markdown",
   "metadata": {},
   "source": [
    "#### Displaying or viewing tables\n",
    "\n",
    "An instantiated table object can be viewed in a number of ways. In a Jupyter notebook, showing the table will produce a nice HTML representation of the table:"
   ]
  },
  {
   "cell_type": "code",
   "execution_count": 4,
   "metadata": {},
   "outputs": [
    {
     "data": {
      "text/html": [
       "&lt;Table length=6&gt;\n",
       "<table id=\"table4374264128\" class=\"table-striped table-bordered table-condensed\">\n",
       "<thead><tr><th>name</th><th>age</th></tr></thead>\n",
       "<thead><tr><th>str14</th><th>float64</th></tr></thead>\n",
       "<tr><td>Graham Chapman</td><td>nan</td></tr>\n",
       "<tr><td>John Cleese</td><td>78.0</td></tr>\n",
       "<tr><td>Terry Gilliam</td><td>77.0</td></tr>\n",
       "<tr><td>Eric Idle</td><td>74.0</td></tr>\n",
       "<tr><td>Terry Jones</td><td>75.0</td></tr>\n",
       "<tr><td>Michael Palin</td><td>74.0</td></tr>\n",
       "</table>"
      ],
      "text/plain": [
       "<Table length=6>\n",
       "     name        age  \n",
       "    str14      float64\n",
       "-------------- -------\n",
       "Graham Chapman     nan\n",
       "   John Cleese    78.0\n",
       " Terry Gilliam    77.0\n",
       "     Eric Idle    74.0\n",
       "   Terry Jones    75.0\n",
       " Michael Palin    74.0"
      ]
     },
     "execution_count": 4,
     "metadata": {},
     "output_type": "execute_result"
    }
   ],
   "source": [
    "tbl"
   ]
  },
  {
   "cell_type": "markdown",
   "metadata": {},
   "source": [
    "If you did the same in a terminal session you get a different view that isn't as pretty but does give a bit more information about the table. In a terminal session, it would look like this:"
   ]
  },
  {
   "cell_type": "code",
   "execution_count": 5,
   "metadata": {},
   "outputs": [
    {
     "name": "stdout",
     "output_type": "stream",
     "text": [
      "     name      age \n",
      "-------------- ----\n",
      "Graham Chapman  nan\n",
      "   John Cleese 78.0\n",
      " Terry Gilliam 77.0\n",
      "     Eric Idle 74.0\n",
      "   Terry Jones 75.0\n",
      " Michael Palin 74.0\n"
     ]
    }
   ],
   "source": [
    "print(tbl)"
   ]
  },
  {
   "cell_type": "markdown",
   "metadata": {},
   "source": [
    "We can access the table column names and data types using the `colnames` and `dtype` attributes:"
   ]
  },
  {
   "cell_type": "code",
   "execution_count": 6,
   "metadata": {},
   "outputs": [
    {
     "data": {
      "text/plain": [
       "['name', 'age']"
      ]
     },
     "execution_count": 6,
     "metadata": {},
     "output_type": "execute_result"
    }
   ],
   "source": [
    "tbl.colnames"
   ]
  },
  {
   "cell_type": "code",
   "execution_count": 7,
   "metadata": {},
   "outputs": [
    {
     "data": {
      "text/plain": [
       "dtype([('name', '<U14'), ('age', '<f8')])"
      ]
     },
     "execution_count": 7,
     "metadata": {},
     "output_type": "execute_result"
    }
   ],
   "source": [
    "tbl.dtype"
   ]
  },
  {
   "cell_type": "markdown",
   "metadata": {},
   "source": [
    "For long tables, there is also a handy ``show_in_notebook()`` method that allows more interactive exploration like searching, and paged views of the data:"
   ]
  },
  {
   "cell_type": "code",
   "execution_count": 8,
   "metadata": {},
   "outputs": [
    {
     "data": {
      "text/html": [
       "&lt;Table length=6&gt;\n",
       "<table id=\"table4374264128-615833\" class=\"table-striped table-bordered table-condensed\">\n",
       "<thead><tr><th>idx</th><th>name</th><th>age</th></tr></thead>\n",
       "<tr><td>0</td><td>Graham Chapman</td><td>nan</td></tr>\n",
       "<tr><td>1</td><td>John Cleese</td><td>78.0</td></tr>\n",
       "<tr><td>2</td><td>Terry Gilliam</td><td>77.0</td></tr>\n",
       "<tr><td>3</td><td>Eric Idle</td><td>74.0</td></tr>\n",
       "<tr><td>4</td><td>Terry Jones</td><td>75.0</td></tr>\n",
       "<tr><td>5</td><td>Michael Palin</td><td>74.0</td></tr>\n",
       "</table><style>table.dataTable {clear: both; width: auto !important; margin: 0 !important;}\n",
       ".dataTables_info, .dataTables_length, .dataTables_filter, .dataTables_paginate{\n",
       "display: inline-block; margin-right: 1em; }\n",
       ".paginate_button { margin-right: 5px; }\n",
       "</style>\n",
       "<script>\n",
       "\n",
       "var astropy_sort_num = function(a, b) {\n",
       "    var a_num = parseFloat(a);\n",
       "    var b_num = parseFloat(b);\n",
       "\n",
       "    if (isNaN(a_num) && isNaN(b_num))\n",
       "        return ((a < b) ? -1 : ((a > b) ? 1 : 0));\n",
       "    else if (!isNaN(a_num) && !isNaN(b_num))\n",
       "        return ((a_num < b_num) ? -1 : ((a_num > b_num) ? 1 : 0));\n",
       "    else\n",
       "        return isNaN(a_num) ? -1 : 1;\n",
       "}\n",
       "\n",
       "require.config({paths: {\n",
       "    datatables: 'https://cdn.datatables.net/1.10.12/js/jquery.dataTables.min'\n",
       "}});\n",
       "require([\"datatables\"], function(){\n",
       "    console.log(\"$('#table4374264128-615833').dataTable()\");\n",
       "    \n",
       "jQuery.extend( jQuery.fn.dataTableExt.oSort, {\n",
       "    \"optionalnum-asc\": astropy_sort_num,\n",
       "    \"optionalnum-desc\": function (a,b) { return -astropy_sort_num(a, b); }\n",
       "});\n",
       "\n",
       "    $('#table4374264128-615833').dataTable({\n",
       "        order: [],\n",
       "        pageLength: 50,\n",
       "        lengthMenu: [[10, 25, 50, 100, 500, 1000, -1], [10, 25, 50, 100, 500, 1000, 'All']],\n",
       "        pagingType: \"full_numbers\",\n",
       "        columnDefs: [{targets: [0, 2], type: \"optionalnum\"}]\n",
       "    });\n",
       "});\n",
       "</script>\n"
      ],
      "text/plain": [
       "<IPython.core.display.HTML object>"
      ]
     },
     "execution_count": 8,
     "metadata": {},
     "output_type": "execute_result"
    }
   ],
   "source": [
    "tbl.show_in_notebook()"
   ]
  },
  {
   "cell_type": "markdown",
   "metadata": {},
   "source": [
    "#### Accessing sections of the data\n",
    "\n",
    "We can access the columns and rows the same as we would with numpy structured arrays: string indices access column names, and numeric indices access rows. In the examples below, notice that the returned objects are `Column`, `Row` or `Table` objects depending on the selection:"
   ]
  },
  {
   "cell_type": "code",
   "execution_count": 9,
   "metadata": {},
   "outputs": [
    {
     "data": {
      "text/html": [
       "&lt;Column name=&apos;name&apos; dtype=&apos;str14&apos; length=6&gt;\n",
       "<table>\n",
       "<tr><td>Graham Chapman</td></tr>\n",
       "<tr><td>John Cleese</td></tr>\n",
       "<tr><td>Terry Gilliam</td></tr>\n",
       "<tr><td>Eric Idle</td></tr>\n",
       "<tr><td>Terry Jones</td></tr>\n",
       "<tr><td>Michael Palin</td></tr>\n",
       "</table>"
      ],
      "text/plain": [
       "<Column name='name' dtype='str14' length=6>\n",
       "Graham Chapman\n",
       "   John Cleese\n",
       " Terry Gilliam\n",
       "     Eric Idle\n",
       "   Terry Jones\n",
       " Michael Palin"
      ]
     },
     "execution_count": 9,
     "metadata": {},
     "output_type": "execute_result"
    }
   ],
   "source": [
    "tbl['name']  # access entire column"
   ]
  },
  {
   "cell_type": "code",
   "execution_count": 10,
   "metadata": {},
   "outputs": [
    {
     "data": {
      "text/plain": [
       "'John Cleese'"
      ]
     },
     "execution_count": 10,
     "metadata": {},
     "output_type": "execute_result"
    }
   ],
   "source": [
    "tbl['name'][1] # row index 1 of column"
   ]
  },
  {
   "cell_type": "code",
   "execution_count": 11,
   "metadata": {},
   "outputs": [
    {
     "data": {
      "text/html": [
       "&lt;Row index=1&gt;\n",
       "<table id=\"table4374264128\">\n",
       "<thead><tr><th>name</th><th>age</th></tr></thead>\n",
       "<thead><tr><th>str14</th><th>float64</th></tr></thead>\n",
       "<tr><td>John Cleese</td><td>78.0</td></tr>\n",
       "</table>"
      ],
      "text/plain": [
       "<Row index=1>\n",
       "    name      age  \n",
       "   str14    float64\n",
       "----------- -------\n",
       "John Cleese    78.0"
      ]
     },
     "execution_count": 11,
     "metadata": {},
     "output_type": "execute_result"
    }
   ],
   "source": [
    "tbl[1]  # row object for row index 1"
   ]
  },
  {
   "cell_type": "code",
   "execution_count": 12,
   "metadata": {},
   "outputs": [
    {
     "data": {
      "text/plain": [
       "'John Cleese'"
      ]
     },
     "execution_count": 12,
     "metadata": {},
     "output_type": "execute_result"
    }
   ],
   "source": [
    "tbl[1]['name']  # name column of row index 1"
   ]
  },
  {
   "cell_type": "code",
   "execution_count": 13,
   "metadata": {},
   "outputs": [
    {
     "data": {
      "text/html": [
       "&lt;Table length=2&gt;\n",
       "<table id=\"table4520654272\" class=\"table-striped table-bordered table-condensed\">\n",
       "<thead><tr><th>name</th><th>age</th></tr></thead>\n",
       "<thead><tr><th>str14</th><th>float64</th></tr></thead>\n",
       "<tr><td>John Cleese</td><td>78.0</td></tr>\n",
       "<tr><td>Terry Gilliam</td><td>77.0</td></tr>\n",
       "</table>"
      ],
      "text/plain": [
       "<Table length=2>\n",
       "     name       age  \n",
       "    str14     float64\n",
       "------------- -------\n",
       "  John Cleese    78.0\n",
       "Terry Gilliam    77.0"
      ]
     },
     "execution_count": 13,
     "metadata": {},
     "output_type": "execute_result"
    }
   ],
   "source": [
    "tbl[1:3]  # select a range of rows and return a new table"
   ]
  },
  {
   "cell_type": "code",
   "execution_count": 14,
   "metadata": {},
   "outputs": [
    {
     "data": {
      "text/html": [
       "&lt;Table length=2&gt;\n",
       "<table id=\"table4520653880\" class=\"table-striped table-bordered table-condensed\">\n",
       "<thead><tr><th>name</th><th>age</th></tr></thead>\n",
       "<thead><tr><th>str14</th><th>float64</th></tr></thead>\n",
       "<tr><td>John Cleese</td><td>78.0</td></tr>\n",
       "<tr><td>Eric Idle</td><td>74.0</td></tr>\n",
       "</table>"
      ],
      "text/plain": [
       "<Table length=2>\n",
       "    name      age  \n",
       "   str14    float64\n",
       "----------- -------\n",
       "John Cleese    78.0\n",
       "  Eric Idle    74.0"
      ]
     },
     "execution_count": 14,
     "metadata": {},
     "output_type": "execute_result"
    }
   ],
   "source": [
    "tbl[[1, 3]] # select specific row indices and return a new table"
   ]
  },
  {
   "cell_type": "markdown",
   "metadata": {},
   "source": [
    "#### Masking rows from a table\n",
    "\n",
    "Like Numpy arrays, we can also use boolean arrays or masks to filter tables. For example, to get the subset of rows where `'age'` is < 75 and finite:"
   ]
  },
  {
   "cell_type": "code",
   "execution_count": 15,
   "metadata": {},
   "outputs": [
    {
     "name": "stderr",
     "output_type": "stream",
     "text": [
      "/Users/adrian/anaconda/lib/python3.5/site-packages/astropy/table/column.py:929: RuntimeWarning: invalid value encountered in less\n",
      "  return getattr(self.data, oper)(other)\n"
     ]
    },
    {
     "data": {
      "text/html": [
       "&lt;Table length=2&gt;\n",
       "<table id=\"table4520656456\" class=\"table-striped table-bordered table-condensed\">\n",
       "<thead><tr><th>name</th><th>age</th></tr></thead>\n",
       "<thead><tr><th>str14</th><th>float64</th></tr></thead>\n",
       "<tr><td>Eric Idle</td><td>74.0</td></tr>\n",
       "<tr><td>Michael Palin</td><td>74.0</td></tr>\n",
       "</table>"
      ],
      "text/plain": [
       "<Table length=2>\n",
       "     name       age  \n",
       "    str14     float64\n",
       "------------- -------\n",
       "    Eric Idle    74.0\n",
       "Michael Palin    74.0"
      ]
     },
     "execution_count": 15,
     "metadata": {},
     "output_type": "execute_result"
    }
   ],
   "source": [
    "mask = (tbl['age'] < 75) & np.isfinite(tbl['age'])\n",
    "tbl[mask]  # Create a new table with just the rows where the mask is True"
   ]
  },
  {
   "cell_type": "markdown",
   "metadata": {},
   "source": [
    "#### Modifying a table\n",
    "\n",
    "Once the table exists with defined columns there are a number of ways to modify the table in place.  These are fully documented in the section [Modifying a Table](http://astropy.readthedocs.org/en/stable/table/modify_table.html#modifying-a-table).\n",
    "\n",
    "We already saw an example above of how to add new columns, but let's add another column. We can also add new rows using the [add_row()](http://astropy.readthedocs.org/en/stable/api/astropy.table.Table.html#astropy.table.Table.add_row) method:"
   ]
  },
  {
   "cell_type": "code",
   "execution_count": 16,
   "metadata": {
    "collapsed": true
   },
   "outputs": [],
   "source": [
    "tbl['british'] = [True, True, False, True, True, True]"
   ]
  },
  {
   "cell_type": "code",
   "execution_count": 17,
   "metadata": {},
   "outputs": [
    {
     "data": {
      "text/html": [
       "&lt;Table length=7&gt;\n",
       "<table id=\"table4374264128\" class=\"table-striped table-bordered table-condensed\">\n",
       "<thead><tr><th>name</th><th>age</th><th>british</th></tr></thead>\n",
       "<thead><tr><th>str14</th><th>float64</th><th>bool</th></tr></thead>\n",
       "<tr><td>Graham Chapman</td><td>nan</td><td>True</td></tr>\n",
       "<tr><td>John Cleese</td><td>78.0</td><td>True</td></tr>\n",
       "<tr><td>Terry Gilliam</td><td>77.0</td><td>False</td></tr>\n",
       "<tr><td>Eric Idle</td><td>74.0</td><td>True</td></tr>\n",
       "<tr><td>Terry Jones</td><td>75.0</td><td>True</td></tr>\n",
       "<tr><td>Michael Palin</td><td>74.0</td><td>True</td></tr>\n",
       "<tr><td>Eddie Izzard</td><td>55.0</td><td>True</td></tr>\n",
       "</table>"
      ],
      "text/plain": [
       "<Table length=7>\n",
       "     name        age   british\n",
       "    str14      float64   bool \n",
       "-------------- ------- -------\n",
       "Graham Chapman     nan    True\n",
       "   John Cleese    78.0    True\n",
       " Terry Gilliam    77.0   False\n",
       "     Eric Idle    74.0    True\n",
       "   Terry Jones    75.0    True\n",
       " Michael Palin    74.0    True\n",
       "  Eddie Izzard    55.0    True"
      ]
     },
     "execution_count": 17,
     "metadata": {},
     "output_type": "execute_result"
    }
   ],
   "source": [
    "tbl.add_row(('Eddie Izzard', 55, True))  # add a new row to the end\n",
    "tbl"
   ]
  },
  {
   "cell_type": "markdown",
   "metadata": {},
   "source": [
    "Notice that the `age` column really has too many output digits given that the age should be an integer.  We can change the display behavior by setting the format using a Python format string:"
   ]
  },
  {
   "cell_type": "code",
   "execution_count": 18,
   "metadata": {},
   "outputs": [
    {
     "data": {
      "text/html": [
       "&lt;Table length=7&gt;\n",
       "<table id=\"table4374264128\" class=\"table-striped table-bordered table-condensed\">\n",
       "<thead><tr><th>name</th><th>age</th><th>british</th></tr></thead>\n",
       "<thead><tr><th>str14</th><th>float64</th><th>bool</th></tr></thead>\n",
       "<tr><td>Graham Chapman</td><td>nan</td><td>True</td></tr>\n",
       "<tr><td>John Cleese</td><td>78</td><td>True</td></tr>\n",
       "<tr><td>Terry Gilliam</td><td>77</td><td>False</td></tr>\n",
       "<tr><td>Eric Idle</td><td>74</td><td>True</td></tr>\n",
       "<tr><td>Terry Jones</td><td>75</td><td>True</td></tr>\n",
       "<tr><td>Michael Palin</td><td>74</td><td>True</td></tr>\n",
       "<tr><td>Eddie Izzard</td><td>55</td><td>True</td></tr>\n",
       "</table>"
      ],
      "text/plain": [
       "<Table length=7>\n",
       "     name        age   british\n",
       "    str14      float64   bool \n",
       "-------------- ------- -------\n",
       "Graham Chapman     nan    True\n",
       "   John Cleese      78    True\n",
       " Terry Gilliam      77   False\n",
       "     Eric Idle      74    True\n",
       "   Terry Jones      75    True\n",
       " Michael Palin      74    True\n",
       "  Eddie Izzard      55    True"
      ]
     },
     "execution_count": 18,
     "metadata": {},
     "output_type": "execute_result"
    }
   ],
   "source": [
    "tbl['age'].format = '%.0f'\n",
    "tbl"
   ]
  },
  {
   "cell_type": "markdown",
   "metadata": {},
   "source": [
    "#### Converting a table to a numpy structured array\n",
    "\n",
    "Sometimes you may not want or be able to use a `Table` object and prefer to work with a plain numpy array.  This is easily done by passing the table to the `np.array()` constructor.  \n",
    "\n",
    "Note that this makes a copy of the data.  If you have a huge table and don't want to waste memory, supply `copy=False` to the constructor, but be warned that changing the output numpy array will change the original table."
   ]
  },
  {
   "cell_type": "code",
   "execution_count": 19,
   "metadata": {},
   "outputs": [
    {
     "data": {
      "text/plain": [
       "array([('Graham Chapman',  nan,  True), ('John Cleese',  78.,  True),\n",
       "       ('Terry Gilliam',  77., False), ('Eric Idle',  74.,  True),\n",
       "       ('Terry Jones',  75.,  True), ('Michael Palin',  74.,  True),\n",
       "       ('Eddie Izzard',  55.,  True)], \n",
       "      dtype=[('name', '<U14'), ('age', '<f8'), ('british', '?')])"
      ]
     },
     "execution_count": 19,
     "metadata": {},
     "output_type": "execute_result"
    }
   ],
   "source": [
    "np.array(tbl)"
   ]
  },
  {
   "cell_type": "markdown",
   "metadata": {},
   "source": [
    "---\n",
    "\n",
    "# Reading tabular data into `Table` objects\n",
    "\n",
    "Tabular data in any format supported by the [unified input/ouput interface](http://docs.astropy.org/en/latest/io/unified.html) can be read in as a `Table` object using the [Table.read()](http://astropy.readthedocs.org/en/stable/api/astropy.table.Table.html#astropy.table.Table.read) method. Some notable examples are FITS files with a table, CSV or other delimited ASCII table, or Latex tables. Let's see some examples using files included with this repository:"
   ]
  },
  {
   "cell_type": "code",
   "execution_count": 20,
   "metadata": {},
   "outputs": [
    {
     "name": "stdout",
     "output_type": "stream",
     "text": [
      "-rw-r--r--  1 adrian  staff   2906 Nov 23 12:58 example_table_data.csv\r\n",
      "-rw-r--r--@ 1 adrian  staff  17280 Nov 23 12:57 example_table_data.fits\r\n",
      "-rw-r--r--  1 adrian  staff   2599 Nov 23 13:03 example_table_data.tex\r\n",
      "-rw-r--r--  1 adrian  staff   2906 Nov 23 13:03 example_table_data.txt\r\n"
     ]
    }
   ],
   "source": [
    "!ls -l example_table_data*"
   ]
  },
  {
   "cell_type": "code",
   "execution_count": 21,
   "metadata": {},
   "outputs": [
    {
     "data": {
      "text/html": [
       "&lt;Table length=18&gt;\n",
       "<table id=\"table4521012920\" class=\"table-striped table-bordered table-condensed\">\n",
       "<thead><tr><th>RAJ2000</th><th>DEJ2000</th><th>_2MASS</th><th>Jmag</th><th>e_Jmag</th><th>Hmag</th><th>e_Hmag</th><th>Kmag</th><th>e_Kmag</th><th>Qflg</th><th>Rflg</th><th>Bflg</th><th>Cflg</th><th>Xflg</th><th>Aflg</th></tr></thead>\n",
       "<thead><tr><th>deg</th><th>deg</th><th></th><th>mag</th><th>mag</th><th>mag</th><th>mag</th><th>mag</th><th>mag</th><th></th><th></th><th></th><th></th><th></th><th></th></tr></thead>\n",
       "<thead><tr><th>float64</th><th>float64</th><th>str17</th><th>float32</th><th>float32</th><th>float32</th><th>float32</th><th>float32</th><th>float32</th><th>str3</th><th>str3</th><th>str3</th><th>str3</th><th>uint8</th><th>uint8</th></tr></thead>\n",
       "<tr><td>10.439434</td><td>89.977051</td><td>00414546+8958373</td><td>15.36</td><td>0.068</td><td>14.871</td><td>0.101</td><td>14.606</td><td>0.114</td><td>AAB</td><td>222</td><td>111</td><td>000</td><td>0</td><td>0</td></tr>\n",
       "<tr><td>23.510793</td><td>89.977364</td><td>01340259+8958385</td><td>16.475</td><td>0.179</td><td>15.874</td><td>nan</td><td>16.14</td><td>nan</td><td>CUU</td><td>200</td><td>100</td><td>000</td><td>0</td><td>0</td></tr>\n",
       "<tr><td>74.304832</td><td>89.979912</td><td>04571315+8958476</td><td>16.703</td><td>0.138</td><td>17.575</td><td>nan</td><td>16.318</td><td>nan</td><td>BUU</td><td>200</td><td>100</td><td>000</td><td>0</td><td>0</td></tr>\n",
       "<tr><td>78.158658</td><td>89.989044</td><td>05123807+8959205</td><td>15.715</td><td>0.077</td><td>15.013</td><td>0.099</td><td>14.672</td><td>0.094</td><td>AAA</td><td>222</td><td>111</td><td>000</td><td>0</td><td>0</td></tr>\n",
       "<tr><td>78.403255</td><td>89.985268</td><td>05133678+8959069</td><td>18.6</td><td>nan</td><td>16.479</td><td>nan</td><td>15.078</td><td>0.125</td><td>UUB</td><td>002</td><td>001</td><td>000</td><td>0</td><td>0</td></tr>\n",
       "<tr><td>79.221887</td><td>89.972488</td><td>05165325+8958209</td><td>16.056</td><td>0.127</td><td>15.654</td><td>0.216</td><td>15.353</td><td>0.216</td><td>BCC</td><td>222</td><td>111</td><td>000</td><td>0</td><td>0</td></tr>\n",
       "<tr><td>86.793746</td><td>89.969536</td><td>05471049+8958103</td><td>16.78</td><td>0.149</td><td>17.081</td><td>nan</td><td>15.471</td><td>nan</td><td>BUU</td><td>200</td><td>100</td><td>000</td><td>0</td><td>0</td></tr>\n",
       "<tr><td>110.92212</td><td>89.983841</td><td>07234130+8959018</td><td>18.471</td><td>nan</td><td>15.569</td><td>0.144</td><td>17.006</td><td>nan</td><td>UBU</td><td>020</td><td>010</td><td>000</td><td>0</td><td>0</td></tr>\n",
       "<tr><td>180.216382</td><td>89.967781</td><td>12005193+8958040</td><td>16.804</td><td>0.155</td><td>17.634</td><td>nan</td><td>17.163</td><td>nan</td><td>BUU</td><td>200</td><td>100</td><td>000</td><td>0</td><td>0</td></tr>\n",
       "<tr><td>191.63972</td><td>89.974533</td><td>12463353+8958283</td><td>13.776</td><td>0.027</td><td>13.21</td><td>0.032</td><td>13.08</td><td>0.035</td><td>AAA</td><td>222</td><td>111</td><td>000</td><td>0</td><td>0</td></tr>\n",
       "<tr><td>197.450988</td><td>89.977242</td><td>13094823+8958380</td><td>16.366</td><td>0.141</td><td>15.707</td><td>0.198</td><td>15.202</td><td>0.172</td><td>BCC</td><td>222</td><td>111</td><td>000</td><td>0</td><td>0</td></tr>\n",
       "<tr><td>241.847897</td><td>89.990128</td><td>16072349+8959244</td><td>16.676</td><td>0.176</td><td>15.912</td><td>0.187</td><td>15.526</td><td>0.213</td><td>CCC</td><td>222</td><td>111</td><td>000</td><td>0</td><td>0</td></tr>\n",
       "<tr><td>260.073455</td><td>89.968155</td><td>17201762+8958053</td><td>16.277</td><td>0.124</td><td>15.771</td><td>0.176</td><td>15.161</td><td>0.16</td><td>BCC</td><td>222</td><td>111</td><td>000</td><td>0</td><td>0</td></tr>\n",
       "<tr><td>304.956115</td><td>89.967041</td><td>20194946+8958013</td><td>16.568</td><td>0.149</td><td>15.985</td><td>nan</td><td>16.421</td><td>nan</td><td>BUU</td><td>200</td><td>100</td><td>000</td><td>0</td><td>0</td></tr>\n",
       "<tr><td>316.795845</td><td>89.982071</td><td>21071100+8958554</td><td>16.445</td><td>0.143</td><td>15.82</td><td>0.177</td><td>15.248</td><td>0.191</td><td>BCC</td><td>222</td><td>111</td><td>000</td><td>0</td><td>0</td></tr>\n",
       "<tr><td>321.653808</td><td>89.967438</td><td>21263691+8958027</td><td>18.516</td><td>nan</td><td>15.405</td><td>0.142</td><td>17.028</td><td>nan</td><td>UBU</td><td>020</td><td>010</td><td>000</td><td>0</td><td>0</td></tr>\n",
       "<tr><td>342.747968</td><td>89.973076</td><td>22505951+8958230</td><td>15.306</td><td>0.048</td><td>14.594</td><td>0.089</td><td>14.335</td><td>0.087</td><td>AAA</td><td>222</td><td>111</td><td>000</td><td>0</td><td>0</td></tr>\n",
       "<tr><td>347.869091</td><td>89.977455</td><td>23112858+8958388</td><td>18.393</td><td>nan</td><td>15.74</td><td>0.154</td><td>17.091</td><td>nan</td><td>UBU</td><td>020</td><td>010</td><td>000</td><td>0</td><td>0</td></tr>\n",
       "</table>"
      ],
      "text/plain": [
       "<Table length=18>\n",
       " RAJ2000    DEJ2000       _2MASS        Jmag   e_Jmag ... Bflg Cflg  Xflg  Aflg\n",
       "   deg        deg                       mag     mag   ...                      \n",
       " float64    float64       str17       float32 float32 ... str3 str3 uint8 uint8\n",
       "---------- --------- ---------------- ------- ------- ... ---- ---- ----- -----\n",
       " 10.439434 89.977051 00414546+8958373   15.36   0.068 ...  111  000     0     0\n",
       " 23.510793 89.977364 01340259+8958385  16.475   0.179 ...  100  000     0     0\n",
       " 74.304832 89.979912 04571315+8958476  16.703   0.138 ...  100  000     0     0\n",
       " 78.158658 89.989044 05123807+8959205  15.715   0.077 ...  111  000     0     0\n",
       " 78.403255 89.985268 05133678+8959069    18.6     nan ...  001  000     0     0\n",
       " 79.221887 89.972488 05165325+8958209  16.056   0.127 ...  111  000     0     0\n",
       " 86.793746 89.969536 05471049+8958103   16.78   0.149 ...  100  000     0     0\n",
       " 110.92212 89.983841 07234130+8959018  18.471     nan ...  010  000     0     0\n",
       "180.216382 89.967781 12005193+8958040  16.804   0.155 ...  100  000     0     0\n",
       " 191.63972 89.974533 12463353+8958283  13.776   0.027 ...  111  000     0     0\n",
       "197.450988 89.977242 13094823+8958380  16.366   0.141 ...  111  000     0     0\n",
       "241.847897 89.990128 16072349+8959244  16.676   0.176 ...  111  000     0     0\n",
       "260.073455 89.968155 17201762+8958053  16.277   0.124 ...  111  000     0     0\n",
       "304.956115 89.967041 20194946+8958013  16.568   0.149 ...  100  000     0     0\n",
       "316.795845 89.982071 21071100+8958554  16.445   0.143 ...  111  000     0     0\n",
       "321.653808 89.967438 21263691+8958027  18.516     nan ...  010  000     0     0\n",
       "342.747968 89.973076 22505951+8958230  15.306   0.048 ...  111  000     0     0\n",
       "347.869091 89.977455 23112858+8958388  18.393     nan ...  010  000     0     0"
      ]
     },
     "execution_count": 21,
     "metadata": {},
     "output_type": "execute_result"
    }
   ],
   "source": [
    "tbl1 = Table.read('example_table_data.fits')\n",
    "tbl1"
   ]
  },
  {
   "cell_type": "markdown",
   "metadata": {},
   "source": [
    "The `Table.read()` method will try to figure out what type of file and data structure the input file contains:"
   ]
  },
  {
   "cell_type": "code",
   "execution_count": 22,
   "metadata": {},
   "outputs": [],
   "source": [
    "tbl2 = Table.read('example_table_data.csv')"
   ]
  },
  {
   "cell_type": "markdown",
   "metadata": {},
   "source": [
    "but sometimes you have to specify other options to help it out:"
   ]
  },
  {
   "cell_type": "code",
   "execution_count": 23,
   "metadata": {},
   "outputs": [],
   "source": [
    "tbl3 = Table.read('example_table_data.tex', format='ascii.aastex')"
   ]
  },
  {
   "cell_type": "code",
   "execution_count": 24,
   "metadata": {},
   "outputs": [],
   "source": [
    "tbl4 = Table.read('example_table_data.txt', format='ascii', delimiter='|')"
   ]
  },
  {
   "cell_type": "markdown",
   "metadata": {},
   "source": [
    "A number of common astronomical ascii formats are supported such as IPAC, sextractor, daophot, and CDS - see [the documentation](http://docs.astropy.org/en/latest/io/unified.html) for a full list, or the docstring:"
   ]
  },
  {
   "cell_type": "code",
   "execution_count": 25,
   "metadata": {
    "collapsed": true
   },
   "outputs": [],
   "source": [
    "Table.read?"
   ]
  },
  {
   "cell_type": "markdown",
   "metadata": {},
   "source": [
    "--- \n",
    "\n",
    "# Writing `Table` objects\n",
    "\n",
    "To write a table object to disk as a binary or ascii file, use the [Table.write()](http://astropy.readthedocs.org/en/stable/api/astropy.table.Table.html#astropy.table.Table.write) method. This acts just like the `.read()` method, in that in some cases it can automatically guess the format from the filename, but may require specifying the format or other parameters (e.g., delimiter).\n",
    "\n",
    "An example writing a FITS file:"
   ]
  },
  {
   "cell_type": "code",
   "execution_count": 33,
   "metadata": {},
   "outputs": [],
   "source": [
    "tbl1.write('test.fits', overwrite=True)"
   ]
  },
  {
   "cell_type": "markdown",
   "metadata": {},
   "source": [
    "And with ASCII files of various formats:"
   ]
  },
  {
   "cell_type": "code",
   "execution_count": 35,
   "metadata": {},
   "outputs": [
    {
     "name": "stdout",
     "output_type": "stream",
     "text": [
      "<?xml version=\"1.0\" encoding=\"utf-8\"?>\r\n",
      "<!-- Produced with astropy.io.votable version 2.0.2\r\n",
      "     http://www.astropy.org/ -->\r\n",
      "<VOTABLE version=\"1.3\" xmlns=\"http://www.ivoa.net/xml/VOTable/v1.3\" xmlns:xsi=\"http://www.w3.org/2001/XMLSchema-instance\" xsi:noNamespaceSchemaLocation=\"http://www.ivoa.net/xml/VOTable/v1.3\">\r\n",
      " <RESOURCE type=\"results\">\r\n",
      "  <TABLE>\r\n",
      "   <FIELD ID=\"RAJ2000\" datatype=\"double\" name=\"RAJ2000\" unit=\"deg\"/>\r\n",
      "   <FIELD ID=\"DEJ2000\" datatype=\"double\" name=\"DEJ2000\" unit=\"deg\"/>\r\n",
      "   <FIELD ID=\"_2MASS\" arraysize=\"17\" datatype=\"unicodeChar\" name=\"_2MASS\"/>\r\n",
      "   <FIELD ID=\"Jmag\" datatype=\"float\" name=\"Jmag\" unit=\"mag\"/>\r\n",
      "   <FIELD ID=\"e_Jmag\" datatype=\"float\" name=\"e_Jmag\" unit=\"mag\"/>\r\n",
      "   <FIELD ID=\"Hmag\" datatype=\"float\" name=\"Hmag\" unit=\"mag\"/>\r\n",
      "   <FIELD ID=\"e_Hmag\" datatype=\"float\" name=\"e_Hmag\" unit=\"mag\"/>\r\n",
      "   <FIELD ID=\"Kmag\" datatype=\"float\" name=\"Kmag\" unit=\"mag\"/>\r\n",
      "   <FIELD ID=\"e_Kmag\" datatype=\"float\" name=\"e_Kmag\" unit=\"mag\"/>\r\n",
      "   <FIELD ID=\"Qflg\" arraysize=\"3\" datatype=\"unicodeChar\" name=\"Qflg\"/>\r\n",
      "   <FIELD ID=\"Rflg\" arraysize=\"3\" datatype=\"unicodeChar\" name=\"Rflg\"/>\r\n",
      "   <FIELD ID=\"Bflg\" arraysize=\"3\" datatype=\"unicodeChar\" name=\"Bflg\"/>\r\n",
      "   <FIELD ID=\"Cflg\" arraysize=\"3\" datatype=\"unicodeChar\" name=\"Cflg\"/>\r\n",
      "   <FIELD ID=\"Xflg\" datatype=\"unsignedByte\" name=\"Xflg\"/>\r\n",
      "   <FIELD ID=\"Aflg\" datatype=\"unsignedByte\" name=\"Aflg\"/>\r\n",
      "   <DATA>\r\n",
      "    <TABLEDATA>\r\n",
      "     <TR>\r\n",
      "      <TD>10.439434</TD>\r\n",
      "      <TD>89.977051000000003</TD>\r\n",
      "      <TD>00414546+8958373</TD>\r\n",
      "      <TD>15.36</TD>\r\n",
      "      <TD>0.068000004</TD>\r\n",
      "      <TD>14.871</TD>\r\n"
     ]
    }
   ],
   "source": [
    "# VO table\n",
    "tbl1.write('test.vot', format='votable', overwrite=True)\n",
    "!head -n 30 test.vot"
   ]
  },
  {
   "cell_type": "code",
   "execution_count": 36,
   "metadata": {},
   "outputs": [],
   "source": [
    "tbl1.write('test.dat', format='ascii')"
   ]
  },
  {
   "cell_type": "code",
   "execution_count": 37,
   "metadata": {},
   "outputs": [],
   "source": [
    "tbl1.write('test.csv', format='ascii.csv')"
   ]
  },
  {
   "cell_type": "code",
   "execution_count": 39,
   "metadata": {},
   "outputs": [],
   "source": [
    "tbl1.write('test.ipac', format='ascii')"
   ]
  },
  {
   "cell_type": "markdown",
   "metadata": {},
   "source": [
    "While the above is often sufficient, it's important to know that the base-line format does *not* support quite a few of the \"advanced\" features, like inclusion of units.  To do that you'll likely want to use the astropy table \"enhanced\" CSV:"
   ]
  },
  {
   "cell_type": "code",
   "execution_count": 40,
   "metadata": {
    "collapsed": true
   },
   "outputs": [],
   "source": [
    "tbl1.write('test.ecsv', format='ascii.ecsv')"
   ]
  },
  {
   "cell_type": "markdown",
   "metadata": {},
   "source": [
    "---\n",
    "\n",
    "# Table columns with units\n",
    "\n",
    "TODO:\n"
   ]
  },
  {
   "cell_type": "code",
   "execution_count": null,
   "metadata": {
    "collapsed": true
   },
   "outputs": [],
   "source": []
  },
  {
   "cell_type": "markdown",
   "metadata": {},
   "source": [
    "---\n",
    "\n",
    "TODO: check on below\n",
    "\n",
    "# Exercises\n"
   ]
  },
  {
   "cell_type": "markdown",
   "metadata": {},
   "source": [
    "### Read the data"
   ]
  },
  {
   "cell_type": "markdown",
   "metadata": {},
   "source": [
    "To start with, read in the two data files representing the master source list and observations source list.  The fields for the two tables are respectively documented in:\n",
    "\n",
    "- [master_sources](http://cxc.harvard.edu/csc/columns/master.html)\n",
    "- [obs_sources](http://cxc.harvard.edu/csc/columns/persrc.html)"
   ]
  },
  {
   "cell_type": "code",
   "execution_count": null,
   "metadata": {},
   "outputs": [],
   "source": [
    "master_sources = Table.read('cdfs_master_sources.fits')\n",
    "obs_sources = Table.read('cdfs_obs_sources.fits')"
   ]
  },
  {
   "cell_type": "markdown",
   "metadata": {},
   "source": [
    "**`master_sources`**\n",
    "\n",
    "Each distinct X-ray source identified on the sky is represented in the catalog by a single \"master source\" entry and one or more \"source observation\" entries, one for each observation in which the source has been detected. The master source entry records the best estimates of the properties of a source, based on the data extracted from the set of observations in which the source has been detected.  The subset of fields in our exercise table file are:\n",
    "\n",
    "Name | Description\n",
    "------ | ------------\n",
    "msid  | Master source ID\n",
    "name  | Source name in the Chandra catalog\n",
    "ra  | Source RA (deg)\n",
    "dec | Source Dec (deg)\n",
    "\n",
    "**`obs_sources`**\n",
    "\n",
    "The individual source entries record all of the properties about a detection extracted from a single observation, as well as associated file-based data products, which are observation-specific.  The subset of fields in our exercise table file are:\n",
    "\n",
    "Name | Description\n",
    "------ | ------------\n",
    "obsid | Observation ID\n",
    "obi | Observation interval\n",
    "targname | Target name\n",
    "gti_obs | Observation date\n",
    "flux_aper_b | Broad band (0.5 - 7 keV) flux (erg/cm2/sec)\n",
    "src_cnts_aper_b | Broad band source counts\n",
    "ra_b | Source RA (deg)\n",
    "dec_b | Source Dec (deg)\n",
    "livetime | Observation duration (sec)\n",
    "posid | Position ID\n",
    "theta | Off-axis angle (arcmin)\n",
    "msid | Master source ID"
   ]
  },
  {
   "cell_type": "markdown",
   "metadata": {},
   "source": [
    "### Exploring the data\n",
    "Do the following to explore the two tables:\n",
    "\n",
    "- Display the data for each table in IPython notebook using the normal way of showing the value of a variable.\n",
    "- Get a list of the column names for each table.  *Hint*: use `<TAB>` completion to easily discover all the attributes and methods, e.g. type `master_sources.` and then hit the `<TAB>` key.\n",
    "- Find the length of each table.\n",
    "- Find the column datatypes for each table.\n",
    "\n",
    "Normally one displays a table in IPython notebook by entering the variable name in a cell and pressing `shift-Enter`.  In a terminal session the default method is using something like `print(my_table)`.  In both cases the `Table` object prefers to display only a screenful of data to prevent having a zillion lines of output if the table is huge.  If you really want to see all the data you can use the [Table.pprint](http://astropy.readthedocs.org/en/stable/api/astropy.table.Table.html#astropy.table.Table.pprint) method. If you are using a Jupyter notebook interface, try the `show_in_notebook()` method.\n",
    "\n",
    "- Display all the rows of the `master_sources` table using its `pprint()` method.\n",
    "- If you are working in a regular terminal window (not IPython notebook), try the `more()` method as well."
   ]
  },
  {
   "cell_type": "code",
   "execution_count": null,
   "metadata": {},
   "outputs": [],
   "source": []
  },
  {
   "cell_type": "markdown",
   "metadata": {},
   "source": [
    "### Modifying tables\n",
    "For our analysis we don't actually need the `obi` (observation interval) column in the `obs_sources` table.\n",
    "\n",
    "- Remove the `obi` column from the `obs_sources` table.\n",
    "\n",
    "The `gti_obs` column name is a bit obscure (GTI is a good time interval, FWIW).\n",
    "\n",
    "- Rename the `gti_obs` column to `obs_date`.\n",
    "\n",
    "It would be nice to have a count rate in addition to the source counts.\n",
    "\n",
    "- Add a new column `src_rate_aper_b` which is the source counts divided by observation duration in sec.\n",
    "\n",
    "Some of the sources have a negative net flux in the broad band"
   ]
  },
  {
   "cell_type": "code",
   "execution_count": null,
   "metadata": {},
   "outputs": [],
   "source": []
  },
  {
   "cell_type": "markdown",
   "metadata": {},
   "source": [
    "### Looking at the observation source data\n",
    "For each source detected in an individual observation (in the `obs_sources` table), let's look at the source flux values.\n",
    "\n",
    "- Use the matplotlib [`hist()`]( http://matplotlib.org/api/pyplot_api.html?highlight=pyplot.hist#matplotlib.pyplot.hist) function to make a histogram of the source fluxes.  Since the fluxes vary by orders of magnitude,\n",
    "  use the `numpy.log10` to put the fluxes in log space.\n",
    "\n",
    "- Also make the same plot but using only sources within 4 arcmin of the center.  *HINT*: use a boolean mask to select values of `theta` that are less than 4.0."
   ]
  },
  {
   "cell_type": "code",
   "execution_count": null,
   "metadata": {},
   "outputs": [],
   "source": []
  }
 ],
 "metadata": {
  "anaconda-cloud": {},
  "kernelspec": {
   "display_name": "Python [default]",
   "language": "python",
   "name": "python3"
  },
  "language_info": {
   "codemirror_mode": {
    "name": "ipython",
    "version": 3
   },
   "file_extension": ".py",
   "mimetype": "text/x-python",
   "name": "python",
   "nbconvert_exporter": "python",
   "pygments_lexer": "ipython3",
   "version": "3.5.3"
  }
 },
 "nbformat": 4,
 "nbformat_minor": 1
}
