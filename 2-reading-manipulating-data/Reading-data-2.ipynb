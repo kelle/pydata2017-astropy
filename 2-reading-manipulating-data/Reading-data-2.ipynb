{
 "cells": [
  {
   "cell_type": "markdown",
   "metadata": {
    "nbpresent": {
     "id": "7c4527ca-47d5-4222-a2d1-e40b226d16ef"
    },
    "slideshow": {
     "slide_type": "slide"
    }
   },
   "source": [
    "# Advanced Tables for JWST\n"
   ]
  },
  {
   "cell_type": "markdown",
   "metadata": {
    "nbpresent": {
     "id": "04198394-491c-47d2-a46d-9cb4dd90f9a2"
    },
    "slideshow": {
     "slide_type": "slide"
    }
   },
   "source": [
    "# Table design goals and requirements\n",
    "\n",
    "- Easily mutable container of heterogeneous tabular data\n",
    "- Relatively lightweight yet powerful enough for most needs\n",
    "- Responsive to astronomy community needs\n",
    "  - For JWST community - if something is missing, broken, needs improvement then ASK!\n",
    "- Deep integration with Astropy (I/O, units, quantity)\n",
    "- Persistent metadata (column units, table header keywords, formatting)\n",
    "- Support missing data"
   ]
  },
  {
   "cell_type": "markdown",
   "metadata": {
    "nbpresent": {
     "id": "22865d0f-c79e-4a5c-b195-ad238bd5cef7"
    },
    "slideshow": {
     "slide_type": "slide"
    }
   },
   "source": [
    "# Why doesn't Astropy use Pandas DataFrame?\n",
    "\n",
    "- Easily mutable container of heterogeneous tabular data **(only scalar data)**\n",
    "- **Relatively lightweight** yet powerful enough for most needs\n",
    "- Responsive to **astronomy community** needs\n",
    "- **Deep integration with Astropy (I/O, units, quantity)**\n",
    "- **Persistent metadata (column units, table header keywords, formatting)**\n",
    "- Support missing data: **Pandas will cast ``int`` types to ``float64`` to use ``NaN``**\n",
    "  - Large ``int64`` values lose precision\n",
    "  - Short int (e.g. ``uint8``) values take 4 times as much memory as ``MaskedColumn``\n",
    "\n",
    "### Nevertheless...\n",
    "\n",
    "We recognize Pandas is very fast, powerful and widely used.\n",
    "\n",
    "*Astropy Project recommendation is to use `astropy.Table` where possible.  This especially applies to community packages.*\n"
   ]
  },
  {
   "cell_type": "markdown",
   "metadata": {
    "nbpresent": {
     "id": "db28461d-d250-4a7a-9204-613b5bea6dc9"
    },
    "slideshow": {
     "slide_type": "slide"
    }
   },
   "source": [
    "# Example: multiband photometry of a field\n",
    "\n",
    "### Observations in 5 bands of a single field with 5 \"galaxy-like\" sources\n",
    "\n",
    "- Assumes basic image reduction and source detection is done.\n",
    "- Could be similar to JWST post-image processing workflow.\n",
    "\n",
    "### Key Table concepts to be covered\n",
    "\n",
    "- Basic table structure (dict of independent column objects)\n",
    "- Base column class properties and attributes (flexibility in data elements)\n",
    "- Table mutability and formatting\n",
    "- Database operations: join, grouping, binning, stacking, indexing\n",
    "- Missing data\n",
    "- Mixin columns (Quantity, Time, Coordinates, QTable vs. Table)"
   ]
  },
  {
   "cell_type": "code",
   "execution_count": 1,
   "metadata": {
    "collapsed": true,
    "nbpresent": {
     "id": "6df7b643-8305-4d02-8102-4651a1493c1a"
    },
    "slideshow": {
     "slide_type": "skip"
    }
   },
   "outputs": [],
   "source": [
    "%matplotlib inline\n",
    "import matplotlib.pyplot as plt\n",
    "import numpy as np\n",
    "import astropy\n",
    "from astropy import table\n",
    "from astropy.table import Column, Table, QTable\n",
    "from astropy.time import Time\n",
    "import astropy.units as u\n",
    "import photutils.datasets\n",
    "import warnings\n",
    "warnings.filterwarnings(action='ignore', category=FutureWarning)"
   ]
  },
  {
   "cell_type": "code",
   "execution_count": 2,
   "metadata": {
    "collapsed": false
   },
   "outputs": [
    {
     "data": {
      "text/plain": [
       "'1.2.1'"
      ]
     },
     "execution_count": 2,
     "metadata": {},
     "output_type": "execute_result"
    }
   ],
   "source": [
    "astropy.__version__"
   ]
  },
  {
   "cell_type": "markdown",
   "metadata": {},
   "source": [
    "### Make table of  5 random gaussians corresponding to fake elliptical galaxy-like sources\n",
    "\n",
    "Use a photutils utility function [make_random_gaussians](http://photutils.readthedocs.io/en/stable/api/photutils.datasets.make_random_gaussians.html)."
   ]
  },
  {
   "cell_type": "code",
   "execution_count": 3,
   "metadata": {
    "collapsed": false,
    "nbpresent": {
     "id": "e239a41d-288a-4bd8-b52f-c5f39a9ec860"
    },
    "slideshow": {
     "slide_type": "slide"
    }
   },
   "outputs": [],
   "source": [
    "sources = photutils.datasets.make_random_gaussians(\n",
    "    flux_range=(1000, 10000), n_sources=5, \n",
    "    xmean_range=(10, 190), ymean_range=(10, 190),\n",
    "    xstddev_range=(2, 5), ystddev_range=(2,5),\n",
    "    random_state=1)"
   ]
  },
  {
   "cell_type": "code",
   "execution_count": 4,
   "metadata": {
    "collapsed": false,
    "nbpresent": {
     "id": "435c0633-e922-4ce6-8248-6d4c4b978a76"
    },
    "scrolled": true,
    "slideshow": {
     "slide_type": "fragment"
    }
   },
   "outputs": [
    {
     "data": {
      "text/html": [
       "&lt;Table length=5&gt;\n",
       "<table id=\"table4482882752\" class=\"table-striped table-bordered table-condensed\">\n",
       "<thead><tr><th>flux</th><th>x_mean</th><th>y_mean</th><th>x_stddev</th><th>y_stddev</th><th>theta</th></tr></thead>\n",
       "<thead><tr><th>float64</th><th>float64</th><th>float64</th><th>float64</th><th>float64</th><th>float64</th></tr></thead>\n",
       "<tr><td>4753.19804232</td><td>26.6209470584</td><td>85.4550125926</td><td>4.01140253054</td><td>4.40223370603</td><td>5.62097944383</td></tr>\n",
       "<tr><td>7482.92044098</td><td>43.526838048</td><td>133.339510071</td><td>3.2519144071</td><td>4.90478472716</td><td>0.534348539339</td></tr>\n",
       "<tr><td>1001.02937336</td><td>72.2009308677</td><td>46.8014049517</td><td>3.67606948534</td><td>2.94027253448</td><td>0.245388440184</td></tr>\n",
       "<tr><td>3720.99315369</td><td>81.4181453615</td><td>168.06113855</td><td>2.42116081579</td><td>4.07696784701</td><td>1.06707599692</td></tr>\n",
       "<tr><td>2320.80301735</td><td>106.987012121</td><td>14.9297667756</td><td>2.59430446725</td><td>4.62916745689</td><td>5.51753207516</td></tr>\n",
       "</table>"
      ],
      "text/plain": [
       "<Table length=5>\n",
       "     flux         x_mean        y_mean    ...    y_stddev       theta     \n",
       "   float64       float64       float64    ...    float64       float64    \n",
       "------------- ------------- ------------- ... ------------- --------------\n",
       "4753.19804232 26.6209470584 85.4550125926 ... 4.40223370603  5.62097944383\n",
       "7482.92044098  43.526838048 133.339510071 ... 4.90478472716 0.534348539339\n",
       "1001.02937336 72.2009308677 46.8014049517 ... 2.94027253448 0.245388440184\n",
       "3720.99315369 81.4181453615  168.06113855 ... 4.07696784701  1.06707599692\n",
       "2320.80301735 106.987012121 14.9297667756 ... 4.62916745689  5.51753207516"
      ]
     },
     "execution_count": 4,
     "metadata": {},
     "output_type": "execute_result"
    }
   ],
   "source": [
    "sources"
   ]
  },
  {
   "cell_type": "markdown",
   "metadata": {},
   "source": [
    "### Digression: learn a little about the Table and Column objects\n",
    "\n",
    "- `Table` is a **container class** where `Table.columns` is the main table data structure\n",
    "- `Table.columns` is an OrderedDict of columns (`Column`, `MaskedColumn`, or mixin-column)\n",
    "- `Column` class inherits from `np.ndarray`\n",
    "- `MaskedColumn` class inherits from `np.ma.MaskedArray`"
   ]
  },
  {
   "cell_type": "code",
   "execution_count": 5,
   "metadata": {
    "collapsed": false,
    "scrolled": true
   },
   "outputs": [
    {
     "data": {
      "text/plain": [
       "(astropy.table.table.TableColumns, collections.OrderedDict, dict, object)"
      ]
     },
     "execution_count": 5,
     "metadata": {},
     "output_type": "execute_result"
    }
   ],
   "source": [
    "type(sources.columns).__mro__"
   ]
  },
  {
   "cell_type": "code",
   "execution_count": 6,
   "metadata": {
    "collapsed": false,
    "scrolled": true
   },
   "outputs": [
    {
     "data": {
      "text/plain": [
       "(astropy.table.column.Column,\n",
       " astropy.table.column.BaseColumn,\n",
       " astropy.table._column_mixins._ColumnGetitemShim,\n",
       " numpy.ndarray,\n",
       " object)"
      ]
     },
     "execution_count": 6,
     "metadata": {},
     "output_type": "execute_result"
    }
   ],
   "source": [
    "type(sources.columns['flux']).__mro__"
   ]
  },
  {
   "cell_type": "code",
   "execution_count": 7,
   "metadata": {
    "collapsed": false
   },
   "outputs": [
    {
     "data": {
      "text/plain": [
       "True"
      ]
     },
     "execution_count": 7,
     "metadata": {},
     "output_type": "execute_result"
    }
   ],
   "source": [
    "sources.columns['flux'] is sources['flux']"
   ]
  },
  {
   "cell_type": "markdown",
   "metadata": {},
   "source": [
    "### Make a synthetic image for cutouts"
   ]
  },
  {
   "cell_type": "code",
   "execution_count": 8,
   "metadata": {
    "collapsed": false,
    "nbpresent": {
     "id": "8ecb68a2-b932-43c9-a725-dab7103f3223"
    },
    "slideshow": {
     "slide_type": "slide"
    }
   },
   "outputs": [
    {
     "data": {
      "image/png": "[encoded data removed]",
      "text/plain": [
       "<matplotlib.figure.Figure at 0x112868ac8>"
      ]
     },
     "metadata": {},
     "output_type": "display_data"
    }
   ],
   "source": [
    "img = photutils.datasets.make_gaussian_sources(image_shape=(200, 200), \n",
    "                                               source_table=sources)\n",
    "plt.imshow(img);  # Trick: trailing semicolon to suppress output"
   ]
  },
  {
   "cell_type": "markdown",
   "metadata": {},
   "source": [
    "### Make postage-stamp cutouts for each source"
   ]
  },
  {
   "cell_type": "code",
   "execution_count": 9,
   "metadata": {
    "collapsed": true,
    "nbpresent": {
     "id": "8a920b74-02b4-4fa7-8018-28b0382ee02c"
    },
    "slideshow": {
     "slide_type": "slide"
    }
   },
   "outputs": [],
   "source": [
    "# Make integer columns with rounded representation of source mean position \n",
    "\n",
    "sources['x0'] = np.round(sources['x_mean']).astype(int)\n",
    "sources['y0'] = np.round(sources['y_mean']).astype(int)"
   ]
  },
  {
   "cell_type": "code",
   "execution_count": 10,
   "metadata": {
    "collapsed": false,
    "nbpresent": {
     "id": "239899b4-00fa-4529-b559-c7614b5a9473"
    },
    "slideshow": {
     "slide_type": "fragment"
    }
   },
   "outputs": [],
   "source": [
    "# Generate list of cutout images around each source\n",
    "\n",
    "npix = 10\n",
    "cutouts = [img[y0-npix:y0+npix, x0-npix:x0+npix] for x0, y0 in sources['x0', 'y0']]\n",
    "\n",
    "# `cutouts` is a list of 2-d ndarrays"
   ]
  },
  {
   "cell_type": "code",
   "execution_count": 11,
   "metadata": {
    "collapsed": true,
    "slideshow": {
     "slide_type": "fragment"
    }
   },
   "outputs": [],
   "source": [
    "# Add the cutouts into table: each element is a 2-d image\n",
    "# This shows:\n",
    "#  - Table mutability and independent columns\n",
    "#  - Storage of ndarray in each table cell\n",
    "\n",
    "sources['cutout'] = cutouts"
   ]
  },
  {
   "cell_type": "code",
   "execution_count": 12,
   "metadata": {
    "collapsed": false,
    "nbpresent": {
     "id": "68f0caa6-eed1-442f-a9dc-0307d8935308"
    },
    "slideshow": {
     "slide_type": "slide"
    }
   },
   "outputs": [
    {
     "data": {
      "image/png": "[encoded data removed]",
      "text/plain": [
       "<matplotlib.figure.Figure at 0x112953160>"
      ]
     },
     "metadata": {},
     "output_type": "display_data"
    }
   ],
   "source": [
    "plt.imshow(sources['cutout'][3], interpolation='nearest');"
   ]
  },
  {
   "cell_type": "markdown",
   "metadata": {},
   "source": [
    "### Add a source identifier to the table"
   ]
  },
  {
   "cell_type": "code",
   "execution_count": 13,
   "metadata": {
    "collapsed": false,
    "nbpresent": {
     "id": "a0725b93-1258-4d04-ba13-448ea4427dda"
    },
    "slideshow": {
     "slide_type": "slide"
    }
   },
   "outputs": [
    {
     "data": {
      "text/html": [
       "&lt;Table length=5&gt;\n",
       "<table id=\"table4482882752\" class=\"table-striped table-bordered table-condensed\">\n",
       "<thead><tr><th>flux</th><th>x_mean</th><th>y_mean</th><th>x_stddev</th><th>y_stddev</th><th>theta</th><th>x0</th><th>y0</th><th>cutout [20,20]</th><th>id</th></tr></thead>\n",
       "<thead><tr><th>float64</th><th>float64</th><th>float64</th><th>float64</th><th>float64</th><th>float64</th><th>int64</th><th>int64</th><th>float64</th><th>str11</th></tr></thead>\n",
       "<tr><td>4753.19804232</td><td>26.6209470584</td><td>85.4550125926</td><td>4.01140253054</td><td>4.40223370603</td><td>5.62097944383</td><td>27</td><td>85</td><td>0.232716683083 .. 0.656931179953</td><td>jwst-27-85</td></tr>\n",
       "<tr><td>7482.92044098</td><td>43.526838048</td><td>133.339510071</td><td>3.2519144071</td><td>4.90478472716</td><td>0.534348539339</td><td>44</td><td>133</td><td>0.0100611670495 .. 0.0371331355371</td><td>jwst-44-133</td></tr>\n",
       "<tr><td>1001.02937336</td><td>72.2009308677</td><td>46.8014049517</td><td>3.67606948534</td><td>2.94027253448</td><td>0.245388440184</td><td>72</td><td>47</td><td>0.00320277411248 .. 0.0140636535326</td><td>jwst-72-47</td></tr>\n",
       "<tr><td>3720.99315369</td><td>81.4181453615</td><td>168.06113855</td><td>2.42116081579</td><td>4.07696784701</td><td>1.06707599692</td><td>81</td><td>168</td><td>2.78324370053e-06 .. 0.000216688721074</td><td>jwst-81-168</td></tr>\n",
       "<tr><td>2320.80301735</td><td>106.987012121</td><td>14.9297667756</td><td>2.59430446725</td><td>4.62916745689</td><td>5.51753207516</td><td>107</td><td>15</td><td>0.299126306154 .. 0.676275001635</td><td>jwst-107-15</td></tr>\n",
       "</table>"
      ],
      "text/plain": [
       "<Table length=5>\n",
       "     flux         x_mean    ...      id    \n",
       "   float64       float64    ...    str11   \n",
       "------------- ------------- ... -----------\n",
       "4753.19804232 26.6209470584 ...  jwst-27-85\n",
       "7482.92044098  43.526838048 ... jwst-44-133\n",
       "1001.02937336 72.2009308677 ...  jwst-72-47\n",
       "3720.99315369 81.4181453615 ... jwst-81-168\n",
       "2320.80301735 106.987012121 ... jwst-107-15"
      ]
     },
     "execution_count": 13,
     "metadata": {},
     "output_type": "execute_result"
    }
   ],
   "source": [
    "sources['id'] = ['jwst-{}-{}'.format(x0, y0) for x0, y0 in sources['x0', 'y0']]\n",
    "sources"
   ]
  },
  {
   "cell_type": "markdown",
   "metadata": {},
   "source": [
    "### Formatting: let's be a little fussy about the Table:\n",
    "- Put the 'id' column first\n",
    "- Make the precision of table outputs more reasonable (and beautiful!)\n",
    "- Add units to `flux` and `theta` columns\n",
    "\n"
   ]
  },
  {
   "cell_type": "code",
   "execution_count": 14,
   "metadata": {
    "collapsed": false,
    "nbpresent": {
     "id": "aa357512-ca20-45d2-9c54-0add8be17ff7"
    },
    "scrolled": true,
    "slideshow": {
     "slide_type": "slide"
    }
   },
   "outputs": [
    {
     "data": {
      "text/html": [
       "&lt;Table length=5&gt;\n",
       "<table id=\"table4482882752\" class=\"table-striped table-bordered table-condensed\">\n",
       "<thead><tr><th>id</th><th>flux</th><th>x_mean</th><th>y_mean</th><th>x_stddev</th><th>y_stddev</th><th>theta</th><th>x0</th><th>y0</th><th>cutout [20,20]</th></tr></thead>\n",
       "<thead><tr><th></th><th>electron</th><th></th><th></th><th></th><th></th><th>rad</th><th></th><th></th><th></th></tr></thead>\n",
       "<thead><tr><th>str11</th><th>float64</th><th>float64</th><th>float64</th><th>float64</th><th>float64</th><th>float64</th><th>int64</th><th>int64</th><th>float64</th></tr></thead>\n",
       "<tr><td>jwst-27-85</td><td>4753.198</td><td>26.621</td><td>85.455</td><td>4.011</td><td>4.402</td><td>5.621</td><td>27</td><td>85</td><td>0.233 .. 0.657</td></tr>\n",
       "<tr><td>jwst-44-133</td><td>7482.920</td><td>43.527</td><td>133.340</td><td>3.252</td><td>4.905</td><td>0.534</td><td>44</td><td>133</td><td>0.0101 .. 0.0371</td></tr>\n",
       "<tr><td>jwst-72-47</td><td>1001.029</td><td>72.201</td><td>46.801</td><td>3.676</td><td>2.940</td><td>0.245</td><td>72</td><td>47</td><td>0.0032 .. 0.0141</td></tr>\n",
       "<tr><td>jwst-81-168</td><td>3720.993</td><td>81.418</td><td>168.061</td><td>2.421</td><td>4.077</td><td>1.067</td><td>81</td><td>168</td><td>2.78e-06 .. 0.000217</td></tr>\n",
       "<tr><td>jwst-107-15</td><td>2320.803</td><td>106.987</td><td>14.930</td><td>2.594</td><td>4.629</td><td>5.518</td><td>107</td><td>15</td><td>0.299 .. 0.676</td></tr>\n",
       "</table>"
      ],
      "text/plain": [
       "<Table length=5>\n",
       "     id       flux    x_mean  y_mean ...   x0    y0     cutout [20,20]   \n",
       "            electron                 ...                                 \n",
       "   str11    float64  float64 float64 ... int64 int64       float64       \n",
       "----------- -------- ------- ------- ... ----- ----- --------------------\n",
       " jwst-27-85 4753.198  26.621  85.455 ...    27    85       0.233 .. 0.657\n",
       "jwst-44-133 7482.920  43.527 133.340 ...    44   133     0.0101 .. 0.0371\n",
       " jwst-72-47 1001.029  72.201  46.801 ...    72    47     0.0032 .. 0.0141\n",
       "jwst-81-168 3720.993  81.418 168.061 ...    81   168 2.78e-06 .. 0.000217\n",
       "jwst-107-15 2320.803 106.987  14.930 ...   107    15       0.299 .. 0.676"
      ]
     },
     "execution_count": 14,
     "metadata": {},
     "output_type": "execute_result"
    }
   ],
   "source": [
    "# Move the `id` column to be the first column \n",
    "# (Should Table get a method `move_column` to make this easier?)\n",
    "sources_id = sources['id']\n",
    "del sources['id']\n",
    "sources.add_column(sources_id, index=0)\n",
    "\n",
    "# Set the output formatting for particular columns\n",
    "for name in ('flux', 'x_mean', 'y_mean', 'x_stddev', 'y_stddev', 'theta'):\n",
    "    sources[name].format = '.3f'  # Could also use '%.3f' or '{:.3f}'\n",
    "sources['cutout'].format = '.3g'\n",
    "\n",
    "# Set the unit for flux and theta\n",
    "sources['flux'].unit = u.electron\n",
    "sources['theta'].unit = u.rad\n",
    "\n",
    "sources"
   ]
  },
  {
   "cell_type": "markdown",
   "metadata": {
    "nbpresent": {
     "id": "b920b873-d1ac-48dc-97a3-35e693973cdc"
    },
    "slideshow": {
     "slide_type": "slide"
    }
   },
   "source": [
    "### Digression: table and column summary information"
   ]
  },
  {
   "cell_type": "code",
   "execution_count": 15,
   "metadata": {
    "collapsed": false,
    "nbpresent": {
     "id": "669db2d1-b955-40ed-927e-0a3adef02e87"
    },
    "slideshow": {
     "slide_type": "fragment"
    }
   },
   "outputs": [
    {
     "data": {
      "text/plain": [
       "<Table length=5>\n",
       "  name    dtype   shape     unit   format\n",
       "-------- ------- -------- -------- ------\n",
       "      id   str11                         \n",
       "    flux float64          electron    .3f\n",
       "  x_mean float64                      .3f\n",
       "  y_mean float64                      .3f\n",
       "x_stddev float64                      .3f\n",
       "y_stddev float64                      .3f\n",
       "   theta float64               rad    .3f\n",
       "      x0   int64                         \n",
       "      y0   int64                         \n",
       "  cutout float64 (20, 20)             .3g"
      ]
     },
     "execution_count": 15,
     "metadata": {},
     "output_type": "execute_result"
    }
   ],
   "source": [
    "sources.info"
   ]
  },
  {
   "cell_type": "code",
   "execution_count": 16,
   "metadata": {
    "collapsed": false,
    "nbpresent": {
     "id": "4c2878dd-901c-44a7-97d8-83ce2a57cf73"
    },
    "scrolled": true,
    "slideshow": {
     "slide_type": "fragment"
    }
   },
   "outputs": [
    {
     "name": "stdout",
     "output_type": "stream",
     "text": [
      "<Table length=5>\n",
      "  name        mean          std              min             max     \n",
      "-------- ------------- -------------- ----------------- -------------\n",
      "      id            --             --                --            --\n",
      "    flux 3855.78880554  2212.93605386     1001.02937336 7482.92044098\n",
      "  x_mean 66.1507746912  28.3257658899     26.6209470584 106.987012121\n",
      "  y_mean 89.7173665883  55.6664540236     14.9297667756  168.06113855\n",
      "x_stddev  3.1909703412 0.610042819261     2.42116081579 4.01140253054\n",
      "y_stddev 4.19068525431 0.681677499286     2.94027253448 4.90478472716\n",
      "   theta 2.59706489909   2.4412797746    0.245388440184 5.62097944383\n",
      "      x0          66.2  28.0955512493                27           107\n",
      "      y0          89.6  55.5539377542                15           168\n",
      "  cutout 9.37452077298  13.4002193774 2.78324370053e-06 74.0353588184\n"
     ]
    }
   ],
   "source": [
    "sources.info('stats')\n",
    "# You can write your own info specifications!"
   ]
  },
  {
   "cell_type": "code",
   "execution_count": 17,
   "metadata": {
    "collapsed": false
   },
   "outputs": [
    {
     "name": "stdout",
     "output_type": "stream",
     "text": [
      "<Table length=5>\n",
      "  name         my_min        my_median       my_max   \n",
      "-------- ----------------- ------------- -------------\n",
      "      id                --            --            --\n",
      "    flux     1001.02937336 3720.99315369 7482.92044098\n",
      "  x_mean     26.6209470584 72.2009308677 106.987012121\n",
      "  y_mean     14.9297667756 85.4550125926  168.06113855\n",
      "x_stddev     2.42116081579  3.2519144071 4.01140253054\n",
      "y_stddev     2.94027253448 4.40223370603 4.90478472716\n",
      "   theta    0.245388440184 1.06707599692 5.62097944383\n",
      "      x0                27          72.0           107\n",
      "      y0                15          85.0           168\n",
      "  cutout 2.78324370053e-06 3.45394975925 74.0353588184\n"
     ]
    }
   ],
   "source": [
    "# You can roll your own custom info!\n",
    "\n",
    "from astropy.utils.data_info import data_info_factory\n",
    "mystats = data_info_factory(names=['my_min', 'my_median', 'my_max'],\n",
    "                            funcs=[np.min, np.median, np.max])\n",
    "sources.info(mystats)"
   ]
  },
  {
   "cell_type": "markdown",
   "metadata": {},
   "source": [
    "#### Column info: name, dtype, unit, format, description"
   ]
  },
  {
   "cell_type": "code",
   "execution_count": 18,
   "metadata": {
    "collapsed": false
   },
   "outputs": [
    {
     "data": {
      "text/plain": [
       "name = theta\n",
       "dtype = float64\n",
       "unit = rad\n",
       "format = .3f\n",
       "description = Elliptical gaussian rotation angle\n",
       "class = Column\n",
       "n_bad = 0\n",
       "length = 5"
      ]
     },
     "execution_count": 18,
     "metadata": {},
     "output_type": "execute_result"
    }
   ],
   "source": [
    "sources['theta'].info.description = 'Elliptical gaussian rotation angle'\n",
    "sources['theta'].info"
   ]
  },
  {
   "cell_type": "markdown",
   "metadata": {
    "nbpresent": {
     "id": "dfa4ba7f-cac3-43a9-a213-c62459f51bc5"
    },
    "slideshow": {
     "slide_type": "slide"
    }
   },
   "source": [
    "### Make fake observations of these sources in 5 bands 'u', 'b', 'v', 'r', 'k'"
   ]
  },
  {
   "cell_type": "code",
   "execution_count": 19,
   "metadata": {
    "collapsed": true,
    "nbpresent": {
     "id": "8133930c-7eb4-4b7f-99d0-0e303f2583c4"
    },
    "slideshow": {
     "slide_type": "slide"
    }
   },
   "outputs": [],
   "source": [
    "def make_observation(sources, band, flux_mult):\n",
    "    \"\"\"\n",
    "    Make fake observation of ``sources`` in a field in ``band``.  Apply\n",
    "    ``flux_mult`` flux multiplier and some gaussian noise on parameters.\n",
    "    \"\"\"\n",
    "    n = len(sources)\n",
    "    out = sources.copy()\n",
    "\n",
    "    # Multiply flux by randomized version of flux_mult\n",
    "    out['flux'] *= flux_mult * np.random.normal(loc=1, scale=0.1, size=n)\n",
    "\n",
    "    # Add 1.0 pixel of position and stddev noise\n",
    "    for name in ('x_mean', 'y_mean'):\n",
    "        out[name] += np.random.normal(loc=0, scale=1.0, size=n)\n",
    "  \n",
    "    # Add 0.1 pixel noise to stddev\n",
    "    for name in ('x_stddev', 'y_stddev'):\n",
    "        out[name] += np.random.normal(loc=0, scale=0.1, size=n)\n",
    "        \n",
    "    # Add a list that repeats the ``band`` as the second column\n",
    "    out.add_column(Column([band] * n, name='band'), index=1)\n",
    "    \n",
    "    # Make integer columns with rounded representation of source mean position  \n",
    "    sources['x0'] = np.round(sources['x_mean']).astype(int)\n",
    "    sources['y0'] = np.round(sources['y_mean']).astype(int)\n",
    "    \n",
    "    # Generate list of cutout images around each source\n",
    "    img = photutils.datasets.make_gaussian_sources(image_shape=(200, 200), source_table=out)\n",
    "    npix = 10\n",
    "    cutouts = [img[y0-npix:y0+npix, x0-npix:x0+npix] for x0, y0 in sources['x0', 'y0']]\n",
    "    sources['cutout'] = cutouts\n",
    "\n",
    "    return out"
   ]
  },
  {
   "cell_type": "code",
   "execution_count": 20,
   "metadata": {
    "collapsed": false,
    "nbpresent": {
     "id": "463affe4-5604-4dec-8836-586349219e69"
    },
    "scrolled": true,
    "slideshow": {
     "slide_type": "slide"
    }
   },
   "outputs": [
    {
     "data": {
      "text/html": [
       "&lt;Table length=5&gt;\n",
       "<table id=\"table4606557656\" class=\"table-striped table-bordered table-condensed\">\n",
       "<thead><tr><th>id</th><th>band</th><th>flux</th><th>x_mean</th><th>y_mean</th><th>x_stddev</th><th>y_stddev</th><th>theta</th><th>x0</th><th>y0</th><th>cutout [20,20]</th></tr></thead>\n",
       "<thead><tr><th></th><th></th><th>electron</th><th></th><th></th><th></th><th></th><th>rad</th><th></th><th></th><th></th></tr></thead>\n",
       "<thead><tr><th>str11</th><th>str1</th><th>float64</th><th>float64</th><th>float64</th><th>float64</th><th>float64</th><th>float64</th><th>int64</th><th>int64</th><th>float64</th></tr></thead>\n",
       "<tr><td>jwst-27-85</td><td>u</td><td>400.427</td><td>25.498</td><td>84.417</td><td>4.000</td><td>4.347</td><td>5.621</td><td>27</td><td>85</td><td>0.233 .. 0.657</td></tr>\n",
       "<tr><td>jwst-44-133</td><td>u</td><td>848.570</td><td>43.931</td><td>135.088</td><td>3.082</td><td>4.776</td><td>0.534</td><td>44</td><td>133</td><td>0.0101 .. 0.0371</td></tr>\n",
       "<tr><td>jwst-72-47</td><td>u</td><td>109.775</td><td>71.245</td><td>45.827</td><td>3.673</td><td>2.994</td><td>0.245</td><td>72</td><td>47</td><td>0.0032 .. 0.0141</td></tr>\n",
       "<tr><td>jwst-81-168</td><td>u</td><td>333.263</td><td>82.401</td><td>170.258</td><td>2.417</td><td>3.983</td><td>1.067</td><td>81</td><td>168</td><td>2.78e-06 .. 0.000217</td></tr>\n",
       "<tr><td>jwst-107-15</td><td>u</td><td>185.181</td><td>106.098</td><td>13.677</td><td>2.462</td><td>4.664</td><td>5.518</td><td>107</td><td>15</td><td>0.299 .. 0.676</td></tr>\n",
       "</table>"
      ],
      "text/plain": [
       "<Table length=5>\n",
       "     id     band   flux    x_mean ...  theta    x0    y0     cutout [20,20]   \n",
       "                 electron         ...   rad                                   \n",
       "   str11    str1 float64  float64 ... float64 int64 int64       float64       \n",
       "----------- ---- -------- ------- ... ------- ----- ----- --------------------\n",
       " jwst-27-85    u  400.427  25.498 ...   5.621    27    85       0.233 .. 0.657\n",
       "jwst-44-133    u  848.570  43.931 ...   0.534    44   133     0.0101 .. 0.0371\n",
       " jwst-72-47    u  109.775  71.245 ...   0.245    72    47     0.0032 .. 0.0141\n",
       "jwst-81-168    u  333.263  82.401 ...   1.067    81   168 2.78e-06 .. 0.000217\n",
       "jwst-107-15    u  185.181 106.098 ...   5.518   107    15       0.299 .. 0.676"
      ]
     },
     "execution_count": 20,
     "metadata": {},
     "output_type": "execute_result"
    }
   ],
   "source": [
    "sources_list = []\n",
    "for band, flux_mult in [('u', 0.1), \n",
    "                        ('b', 0.2), \n",
    "                        ('v', 0.5), \n",
    "                        ('r', 1.0), \n",
    "                        ('k', 1.5)]:\n",
    "    sources_list.append(make_observation(sources, band, flux_mult))\n",
    "    \n",
    "sources_list[0]\n",
    "\n",
    "# Notice that the formatting and units got inherited into our new tables"
   ]
  },
  {
   "cell_type": "code",
   "execution_count": 21,
   "metadata": {
    "collapsed": false,
    "nbpresent": {
     "id": "a480a6da-bd37-4d1e-80f0-8dc1aa3cdc6f"
    },
    "slideshow": {
     "slide_type": "fragment"
    }
   },
   "outputs": [],
   "source": [
    "# Pretend that there are non-detections in some bands\n",
    "\n",
    "sources_list[0].remove_rows([1,2,3,4])\n",
    "sources_list[1].remove_row(1)\n",
    "sources_list[3].remove_row(0)"
   ]
  },
  {
   "cell_type": "markdown",
   "metadata": {
    "nbpresent": {
     "id": "48351ca5-84dd-4281-abd0-aaabb587b001"
    },
    "slideshow": {
     "slide_type": "slide"
    }
   },
   "source": [
    "## Database-like features for more power: vstack, indexing, group and join\n",
    "\n",
    "Our list of source tables **`sources_list`** has the raw data we need for analysis but is inconvenient.  Things we'd like to do:\n",
    "\n",
    "- Find all observations of a particular source\n",
    "- List all sources in a particular band\n",
    "- Compute statistics for a particular source (mean centroid, mean image cutout)\n",
    "- Make a single wide table organized by source\n",
    "\n",
    "See [Table high-level operations](http://docs.astropy.org/en/stable/table/operations.html) for all the details."
   ]
  },
  {
   "cell_type": "markdown",
   "metadata": {
    "nbpresent": {
     "id": "25c037ac-8b58-49d3-a181-6aa17ea35a09"
    },
    "slideshow": {
     "slide_type": "slide"
    }
   },
   "source": [
    "### Stacking"
   ]
  },
  {
   "cell_type": "code",
   "execution_count": 22,
   "metadata": {
    "collapsed": false,
    "nbpresent": {
     "id": "11e4722a-041d-4bc0-a760-9ffbfccd049f"
    },
    "slideshow": {
     "slide_type": "fragment"
    }
   },
   "outputs": [
    {
     "data": {
      "text/html": [
       "&lt;Table length=19&gt;\n",
       "<table id=\"table4606558048\" class=\"table-striped table-bordered table-condensed\">\n",
       "<thead><tr><th>id</th><th>band</th><th>flux</th><th>x_mean</th><th>y_mean</th><th>x_stddev</th><th>y_stddev</th><th>theta</th><th>x0</th><th>y0</th><th>cutout [20,20]</th></tr></thead>\n",
       "<thead><tr><th></th><th></th><th>electron</th><th></th><th></th><th></th><th></th><th>rad</th><th></th><th></th><th></th></tr></thead>\n",
       "<thead><tr><th>str11</th><th>str1</th><th>float64</th><th>float64</th><th>float64</th><th>float64</th><th>float64</th><th>float64</th><th>int64</th><th>int64</th><th>float64</th></tr></thead>\n",
       "<tr><td>jwst-27-85</td><td>u</td><td>400.427</td><td>25.498</td><td>84.417</td><td>4.000</td><td>4.347</td><td>5.621</td><td>27</td><td>85</td><td>0.233 .. 0.657</td></tr>\n",
       "<tr><td>jwst-27-85</td><td>b</td><td>887.356</td><td>27.016</td><td>86.662</td><td>4.107</td><td>4.433</td><td>5.621</td><td>27</td><td>85</td><td>0.0516 .. 0.0169</td></tr>\n",
       "<tr><td>jwst-72-47</td><td>b</td><td>162.792</td><td>71.571</td><td>45.789</td><td>3.655</td><td>2.966</td><td>0.245</td><td>72</td><td>47</td><td>0.00177 .. 0.000352</td></tr>\n",
       "<tr><td>jwst-81-168</td><td>b</td><td>779.235</td><td>82.053</td><td>167.492</td><td>2.503</td><td>3.980</td><td>1.067</td><td>81</td><td>168</td><td>5.21e-10 .. 0.0015</td></tr>\n",
       "<tr><td>jwst-107-15</td><td>b</td><td>550.330</td><td>107.263</td><td>16.152</td><td>2.720</td><td>4.579</td><td>5.518</td><td>107</td><td>15</td><td>0.0667 .. 0.0233</td></tr>\n",
       "<tr><td>jwst-27-85</td><td>v</td><td>2038.269</td><td>26.453</td><td>85.094</td><td>4.077</td><td>4.490</td><td>5.621</td><td>27</td><td>85</td><td>0.0189 .. 0.246</td></tr>\n",
       "<tr><td>jwst-44-133</td><td>v</td><td>4184.019</td><td>42.259</td><td>132.699</td><td>3.187</td><td>4.933</td><td>0.534</td><td>44</td><td>133</td><td>0.000166 .. 0.0946</td></tr>\n",
       "<tr><td>jwst-72-47</td><td>v</td><td>520.755</td><td>72.665</td><td>47.680</td><td>3.857</td><td>2.905</td><td>0.245</td><td>72</td><td>47</td><td>0.00204 .. 0.000561</td></tr>\n",
       "<tr><td>jwst-81-168</td><td>v</td><td>1719.747</td><td>81.544</td><td>167.318</td><td>2.514</td><td>4.194</td><td>1.067</td><td>81</td><td>168</td><td>1.91e-06 .. 7.76e-05</td></tr>\n",
       "<tr><td>jwst-107-15</td><td>v</td><td>1189.844</td><td>108.783</td><td>15.429</td><td>2.708</td><td>4.735</td><td>5.518</td><td>107</td><td>15</td><td>0.0293 .. 0.254</td></tr>\n",
       "<tr><td>jwst-44-133</td><td>r</td><td>7373.061</td><td>42.771</td><td>134.392</td><td>3.288</td><td>4.783</td><td>0.534</td><td>44</td><td>133</td><td>0.0235 .. 0.00246</td></tr>\n",
       "<tr><td>jwst-72-47</td><td>r</td><td>850.218</td><td>71.992</td><td>45.844</td><td>3.638</td><td>2.990</td><td>0.245</td><td>72</td><td>47</td><td>0.000743 .. 0.0274</td></tr>\n",
       "<tr><td>jwst-81-168</td><td>r</td><td>4052.989</td><td>80.654</td><td>167.202</td><td>2.377</td><td>4.085</td><td>1.067</td><td>81</td><td>168</td><td>1.28e-05 .. 7.99e-05</td></tr>\n",
       "<tr><td>jwst-107-15</td><td>r</td><td>2504.249</td><td>105.725</td><td>12.781</td><td>2.653</td><td>4.483</td><td>5.518</td><td>107</td><td>15</td><td>0.0549 .. 0.876</td></tr>\n",
       "<tr><td>jwst-27-85</td><td>k</td><td>5922.410</td><td>26.052</td><td>85.520</td><td>4.057</td><td>4.409</td><td>5.621</td><td>27</td><td>85</td><td>0.311 .. 0.466</td></tr>\n",
       "<tr><td>jwst-44-133</td><td>k</td><td>12028.066</td><td>44.540</td><td>132.891</td><td>3.291</td><td>4.965</td><td>0.534</td><td>44</td><td>133</td><td>0.0105 .. 0.0425</td></tr>\n",
       "<tr><td>jwst-72-47</td><td>k</td><td>1649.326</td><td>71.460</td><td>47.185</td><td>3.827</td><td>2.905</td><td>0.245</td><td>72</td><td>47</td><td>0.0075 .. 0.00406</td></tr>\n",
       "<tr><td>jwst-81-168</td><td>k</td><td>5455.393</td><td>83.390</td><td>168.687</td><td>2.521</td><td>4.068</td><td>1.067</td><td>81</td><td>168</td><td>2.47e-05 .. 1.19e-05</td></tr>\n",
       "<tr><td>jwst-107-15</td><td>k</td><td>3530.180</td><td>108.097</td><td>15.153</td><td>2.582</td><td>4.799</td><td>5.518</td><td>107</td><td>15</td><td>1.08 .. 0.105</td></tr>\n",
       "</table>"
      ],
      "text/plain": [
       "<Table length=19>\n",
       "     id     band    flux    x_mean ...  theta    x0    y0     cutout [20,20]   \n",
       "                  electron         ...   rad                                   \n",
       "   str11    str1  float64  float64 ... float64 int64 int64       float64       \n",
       "----------- ---- --------- ------- ... ------- ----- ----- --------------------\n",
       " jwst-27-85    u   400.427  25.498 ...   5.621    27    85       0.233 .. 0.657\n",
       " jwst-27-85    b   887.356  27.016 ...   5.621    27    85     0.0516 .. 0.0169\n",
       " jwst-72-47    b   162.792  71.571 ...   0.245    72    47  0.00177 .. 0.000352\n",
       "jwst-81-168    b   779.235  82.053 ...   1.067    81   168   5.21e-10 .. 0.0015\n",
       "jwst-107-15    b   550.330 107.263 ...   5.518   107    15     0.0667 .. 0.0233\n",
       " jwst-27-85    v  2038.269  26.453 ...   5.621    27    85      0.0189 .. 0.246\n",
       "jwst-44-133    v  4184.019  42.259 ...   0.534    44   133   0.000166 .. 0.0946\n",
       " jwst-72-47    v   520.755  72.665 ...   0.245    72    47  0.00204 .. 0.000561\n",
       "jwst-81-168    v  1719.747  81.544 ...   1.067    81   168 1.91e-06 .. 7.76e-05\n",
       "jwst-107-15    v  1189.844 108.783 ...   5.518   107    15      0.0293 .. 0.254\n",
       "jwst-44-133    r  7373.061  42.771 ...   0.534    44   133    0.0235 .. 0.00246\n",
       " jwst-72-47    r   850.218  71.992 ...   0.245    72    47   0.000743 .. 0.0274\n",
       "jwst-81-168    r  4052.989  80.654 ...   1.067    81   168 1.28e-05 .. 7.99e-05\n",
       "jwst-107-15    r  2504.249 105.725 ...   5.518   107    15      0.0549 .. 0.876\n",
       " jwst-27-85    k  5922.410  26.052 ...   5.621    27    85       0.311 .. 0.466\n",
       "jwst-44-133    k 12028.066  44.540 ...   0.534    44   133     0.0105 .. 0.0425\n",
       " jwst-72-47    k  1649.326  71.460 ...   0.245    72    47    0.0075 .. 0.00406\n",
       "jwst-81-168    k  5455.393  83.390 ...   1.067    81   168 2.47e-05 .. 1.19e-05\n",
       "jwst-107-15    k  3530.180 108.097 ...   5.518   107    15        1.08 .. 0.105"
      ]
     },
     "execution_count": 22,
     "metadata": {},
     "output_type": "execute_result"
    }
   ],
   "source": [
    "# Stack the list of tables to create a single table (database) of every source observation.\n",
    "\n",
    "srcs = table.vstack(sources_list)\n",
    "\n",
    "srcs"
   ]
  },
  {
   "cell_type": "markdown",
   "metadata": {
    "nbpresent": {
     "id": "437376f8-a2dc-412c-b66c-db69d06d35d3"
    }
   },
   "source": [
    "### Indexing\n",
    "\n",
    "- Indexing means that supplemental information (an index) is added to the table that allows access to particular elements in `time << O(N)`.  \n",
    "- In the case of astropy Table it uses a binary search of an ordered index table `O(log(N))`."
   ]
  },
  {
   "cell_type": "code",
   "execution_count": 23,
   "metadata": {
    "collapsed": true,
    "nbpresent": {
     "id": "f42e3d62-29c9-40e7-a26e-f698183458c1"
    }
   },
   "outputs": [],
   "source": [
    "# Now add a database index on the `id` column.  This becomes the 'primary key'.\n",
    "# In this case it does not need to be unique, though one can declare that an\n",
    "# index must be unique.\n",
    "\n",
    "srcs.add_index('id')"
   ]
  },
  {
   "cell_type": "code",
   "execution_count": 24,
   "metadata": {
    "collapsed": false,
    "nbpresent": {
     "id": "59805859-bfe3-4f0c-91f2-caef265a7a98"
    }
   },
   "outputs": [
    {
     "data": {
      "text/html": [
       "&lt;Table length=4&gt;\n",
       "<table id=\"table4606428720\" class=\"table-striped table-bordered table-condensed\">\n",
       "<thead><tr><th>id</th><th>band</th><th>flux</th><th>x_mean</th><th>y_mean</th><th>x_stddev</th><th>y_stddev</th><th>theta</th><th>x0</th><th>y0</th><th>cutout [20,20]</th></tr></thead>\n",
       "<thead><tr><th></th><th></th><th>electron</th><th></th><th></th><th></th><th></th><th>rad</th><th></th><th></th><th></th></tr></thead>\n",
       "<thead><tr><th>str11</th><th>str1</th><th>float64</th><th>float64</th><th>float64</th><th>float64</th><th>float64</th><th>float64</th><th>int64</th><th>int64</th><th>float64</th></tr></thead>\n",
       "<tr><td>jwst-27-85</td><td>v</td><td>2038.269</td><td>26.453</td><td>85.094</td><td>4.077</td><td>4.490</td><td>5.621</td><td>27</td><td>85</td><td>0.0189 .. 0.246</td></tr>\n",
       "<tr><td>jwst-27-85</td><td>b</td><td>887.356</td><td>27.016</td><td>86.662</td><td>4.107</td><td>4.433</td><td>5.621</td><td>27</td><td>85</td><td>0.0516 .. 0.0169</td></tr>\n",
       "<tr><td>jwst-27-85</td><td>k</td><td>5922.410</td><td>26.052</td><td>85.520</td><td>4.057</td><td>4.409</td><td>5.621</td><td>27</td><td>85</td><td>0.311 .. 0.466</td></tr>\n",
       "<tr><td>jwst-27-85</td><td>u</td><td>400.427</td><td>25.498</td><td>84.417</td><td>4.000</td><td>4.347</td><td>5.621</td><td>27</td><td>85</td><td>0.233 .. 0.657</td></tr>\n",
       "</table>"
      ],
      "text/plain": [
       "<Table length=4>\n",
       "    id     band   flux    x_mean ...  theta    x0    y0   cutout [20,20] \n",
       "                electron         ...   rad                               \n",
       "  str11    str1 float64  float64 ... float64 int64 int64     float64     \n",
       "---------- ---- -------- ------- ... ------- ----- ----- ----------------\n",
       "jwst-27-85    v 2038.269  26.453 ...   5.621    27    85  0.0189 .. 0.246\n",
       "jwst-27-85    b  887.356  27.016 ...   5.621    27    85 0.0516 .. 0.0169\n",
       "jwst-27-85    k 5922.410  26.052 ...   5.621    27    85   0.311 .. 0.466\n",
       "jwst-27-85    u  400.427  25.498 ...   5.621    27    85   0.233 .. 0.657"
      ]
     },
     "execution_count": 24,
     "metadata": {},
     "output_type": "execute_result"
    }
   ],
   "source": [
    "# Now access elements with id == 'jwst-27-85'.  This should be familiar to Pandas users.\n",
    "# This returns another Table.\n",
    "\n",
    "srcs.loc['jwst-27-85']"
   ]
  },
  {
   "cell_type": "code",
   "execution_count": 25,
   "metadata": {
    "collapsed": false,
    "nbpresent": {
     "id": "807044a7-e521-41ae-83f9-9cfd677b2bd7"
    }
   },
   "outputs": [],
   "source": [
    "# Let's make a secondary index to allow slicing the table by band\n",
    "srcs.add_index('band')"
   ]
  },
  {
   "cell_type": "code",
   "execution_count": 26,
   "metadata": {
    "collapsed": false,
    "nbpresent": {
     "id": "35a3f940-eafe-49d5-a664-0dae667e6f97"
    }
   },
   "outputs": [
    {
     "data": {
      "text/html": [
       "&lt;Table length=4&gt;\n",
       "<table id=\"table4608380152\" class=\"table-striped table-bordered table-condensed\">\n",
       "<thead><tr><th>id</th><th>band</th><th>flux</th><th>x_mean</th><th>y_mean</th><th>x_stddev</th><th>y_stddev</th><th>theta</th><th>x0</th><th>y0</th><th>cutout [20,20]</th></tr></thead>\n",
       "<thead><tr><th></th><th></th><th>electron</th><th></th><th></th><th></th><th></th><th>rad</th><th></th><th></th><th></th></tr></thead>\n",
       "<thead><tr><th>str11</th><th>str1</th><th>float64</th><th>float64</th><th>float64</th><th>float64</th><th>float64</th><th>float64</th><th>int64</th><th>int64</th><th>float64</th></tr></thead>\n",
       "<tr><td>jwst-27-85</td><td>b</td><td>887.356</td><td>27.016</td><td>86.662</td><td>4.107</td><td>4.433</td><td>5.621</td><td>27</td><td>85</td><td>0.0516 .. 0.0169</td></tr>\n",
       "<tr><td>jwst-72-47</td><td>b</td><td>162.792</td><td>71.571</td><td>45.789</td><td>3.655</td><td>2.966</td><td>0.245</td><td>72</td><td>47</td><td>0.00177 .. 0.000352</td></tr>\n",
       "<tr><td>jwst-81-168</td><td>b</td><td>779.235</td><td>82.053</td><td>167.492</td><td>2.503</td><td>3.980</td><td>1.067</td><td>81</td><td>168</td><td>5.21e-10 .. 0.0015</td></tr>\n",
       "<tr><td>jwst-107-15</td><td>b</td><td>550.330</td><td>107.263</td><td>16.152</td><td>2.720</td><td>4.579</td><td>5.518</td><td>107</td><td>15</td><td>0.0667 .. 0.0233</td></tr>\n",
       "</table>"
      ],
      "text/plain": [
       "<Table length=4>\n",
       "     id     band   flux    x_mean ...  theta    x0    y0     cutout [20,20]  \n",
       "                 electron         ...   rad                                  \n",
       "   str11    str1 float64  float64 ... float64 int64 int64       float64      \n",
       "----------- ---- -------- ------- ... ------- ----- ----- -------------------\n",
       " jwst-27-85    b  887.356  27.016 ...   5.621    27    85    0.0516 .. 0.0169\n",
       " jwst-72-47    b  162.792  71.571 ...   0.245    72    47 0.00177 .. 0.000352\n",
       "jwst-81-168    b  779.235  82.053 ...   1.067    81   168  5.21e-10 .. 0.0015\n",
       "jwst-107-15    b  550.330 107.263 ...   5.518   107    15    0.0667 .. 0.0233"
      ]
     },
     "execution_count": 26,
     "metadata": {},
     "output_type": "execute_result"
    }
   ],
   "source": [
    "# Get a table of all 'b' band source detections\n",
    "\n",
    "srcs.loc['band', 'b']"
   ]
  },
  {
   "cell_type": "code",
   "execution_count": 27,
   "metadata": {
    "collapsed": false,
    "nbpresent": {
     "id": "13d990e0-643b-488c-b675-948115dfc089"
    }
   },
   "outputs": [
    {
     "data": {
      "text/html": [
       "&lt;Row index=0&gt;\n",
       "<table id=\"table4606558048\">\n",
       "<thead><tr><th>id</th><th>band</th><th>flux</th><th>x_mean</th><th>y_mean</th><th>x_stddev</th><th>y_stddev</th><th>theta</th><th>x0</th><th>y0</th><th>cutout [20,20]</th></tr></thead>\n",
       "<thead><tr><th></th><th></th><th>electron</th><th></th><th></th><th></th><th></th><th>rad</th><th></th><th></th><th></th></tr></thead>\n",
       "<thead><tr><th>str11</th><th>str1</th><th>float64</th><th>float64</th><th>float64</th><th>float64</th><th>float64</th><th>float64</th><th>int64</th><th>int64</th><th>float64</th></tr></thead>\n",
       "<tr><td>jwst-27-85</td><td>u</td><td>400.427</td><td>25.498</td><td>84.417</td><td>4.000</td><td>4.347</td><td>5.621</td><td>27</td><td>85</td><td>0.233 .. 0.657</td></tr>\n",
       "</table>"
      ],
      "text/plain": [
       "<Row index=0>\n",
       "    id     band   flux    x_mean  y_mean x_stddev y_stddev  theta    x0    y0  cutout [20,20]\n",
       "                electron                                     rad                             \n",
       "  str11    str1 float64  float64 float64 float64  float64  float64 int64 int64    float64    \n",
       "---------- ---- -------- ------- ------- -------- -------- ------- ----- ----- --------------\n",
       "jwst-27-85    u  400.427  25.498  84.417    4.000    4.347   5.621    27    85 0.233 .. 0.657"
      ]
     },
     "execution_count": 27,
     "metadata": {},
     "output_type": "execute_result"
    }
   ],
   "source": [
    "# A special case is if only one table row is selected, in which case\n",
    "# a Row object is returned.  This is convenient for the common use case\n",
    "# of a table with unique keys.\n",
    "\n",
    "srcs.loc['band', 'u']"
   ]
  },
  {
   "cell_type": "markdown",
   "metadata": {
    "nbpresent": {
     "id": "ae7e9d8c-9ecb-4b21-b410-4c0052629e05"
    }
   },
   "source": [
    "### Digression: difference between Row and length=1 Table\n",
    "\n",
    "- Indexing a single element of a table returns a `Row` object which can be used to set or access a column value.  This always returns a scalar value.\n",
    "- Indexing a single row slice of a table returns a Table, so accessing a column returns a `Column` object (an array) with a length of 1.\n",
    "- This is consistent with numpy structured arrays and Pandas (`df.ix[0]` vs. `df[0:1]`)."
   ]
  },
  {
   "cell_type": "code",
   "execution_count": 28,
   "metadata": {
    "collapsed": false,
    "nbpresent": {
     "id": "67a60374-bbad-4e5e-b67a-3fc487e7678d"
    }
   },
   "outputs": [
    {
     "data": {
      "text/plain": [
       "'u'"
      ]
     },
     "execution_count": 28,
     "metadata": {},
     "output_type": "execute_result"
    }
   ],
   "source": [
    "srcs[0]['band']"
   ]
  },
  {
   "cell_type": "code",
   "execution_count": 29,
   "metadata": {
    "collapsed": false,
    "nbpresent": {
     "id": "101395fe-facb-4c06-855f-883483d44872"
    }
   },
   "outputs": [
    {
     "data": {
      "text/html": [
       "&lt;Column name=&apos;band&apos; dtype=&apos;str1&apos; length=1&gt;\n",
       "<table>\n",
       "<tr><td>u</td></tr>\n",
       "</table>"
      ],
      "text/plain": [
       "<Column name='band' dtype='str1' length=1>\n",
       "u"
      ]
     },
     "execution_count": 29,
     "metadata": {},
     "output_type": "execute_result"
    }
   ],
   "source": [
    "srcs[0:1]['band']"
   ]
  },
  {
   "cell_type": "markdown",
   "metadata": {
    "nbpresent": {
     "id": "548cb8e9-2d36-46bf-a99f-14d474465cd1"
    }
   },
   "source": [
    "### Digression: table access performance\n",
    "\n",
    "**``srcs[0:1]['band']``** and **``srcs['band'][0:1]``** give the same output, but performance is very different!"
   ]
  },
  {
   "cell_type": "code",
   "execution_count": 30,
   "metadata": {
    "collapsed": false,
    "nbpresent": {
     "id": "be14a180-2c14-4285-8033-84cd5cf4d918"
    },
    "scrolled": true
   },
   "outputs": [
    {
     "name": "stdout",
     "output_type": "stream",
     "text": [
      "1000 loops, best of 3: 710 µs per loop\n"
     ]
    }
   ],
   "source": [
    "# This creates an entire new Table object (slow) and then selects one column (fast)\n",
    "%timeit srcs[0:1]['band']"
   ]
  },
  {
   "cell_type": "code",
   "execution_count": 31,
   "metadata": {
    "collapsed": false,
    "nbpresent": {
     "id": "e2827346-e5f4-47fc-a07d-2e995d101e50"
    },
    "scrolled": true
   },
   "outputs": [
    {
     "name": "stdout",
     "output_type": "stream",
     "text": [
      "10000 loops, best of 3: 25.7 µs per loop\n"
     ]
    }
   ],
   "source": [
    "# This selects a column (fast) and then slices it (fast-ish, creates new Column)\n",
    "%timeit srcs['band'][0:1]"
   ]
  },
  {
   "cell_type": "code",
   "execution_count": 32,
   "metadata": {
    "collapsed": false,
    "nbpresent": {
     "id": "b777e5f7-4554-4c08-b1fe-3ec2868aa0a8"
    },
    "scrolled": true
   },
   "outputs": [
    {
     "name": "stdout",
     "output_type": "stream",
     "text": [
      "The slowest run took 7.35 times longer than the fastest. This could mean that an intermediate result is being cached.\n",
      "100000 loops, best of 3: 2.59 µs per loop\n"
     ]
    }
   ],
   "source": [
    "# For the most performance, drop the `Column` machinery (no metadata) and use a straight numpy array\n",
    "\n",
    "%timeit np.array(srcs['band'], copy=False)[0:1]"
   ]
  },
  {
   "cell_type": "markdown",
   "metadata": {
    "nbpresent": {
     "id": "82cd29e1-8d82-44f5-8f69-c358daf8df76"
    }
   },
   "source": [
    "### Grouping\n",
    "\n",
    "Astropy `Table` supports the powerful concept of grouping which lets you group the rows into sub-tables which you can then:\n",
    "\n",
    "- [Examine](http://docs.astropy.org/en/stable/table/operations.html#manipulating-groups): select and loop over groups\n",
    "- [Aggregate](http://docs.astropy.org/en/stable/table/operations.html#aggregation): apply a reduction function like np.mean to each group\n",
    "- [Filter](http://docs.astropy.org/en/stable/table/operations.html#filtering): select groups by means a selection function\n",
    "\n",
    "This is a close cousin to indexing, and if a table is already indexed then creating the grouped version is faster."
   ]
  },
  {
   "cell_type": "code",
   "execution_count": 33,
   "metadata": {
    "collapsed": false,
    "nbpresent": {
     "id": "3c3ba47a-841e-4638-b91e-452cd02f111a"
    }
   },
   "outputs": [
    {
     "data": {
      "text/html": [
       "&lt;Table length=19&gt;\n",
       "<table id=\"table4607449744\" class=\"table-striped table-bordered table-condensed\">\n",
       "<thead><tr><th>id</th><th>band</th><th>flux</th><th>x_mean</th><th>y_mean</th><th>x_stddev</th><th>y_stddev</th><th>theta</th><th>x0</th><th>y0</th><th>cutout [20,20]</th></tr></thead>\n",
       "<thead><tr><th></th><th></th><th>electron</th><th></th><th></th><th></th><th></th><th>rad</th><th></th><th></th><th></th></tr></thead>\n",
       "<thead><tr><th>str11</th><th>str1</th><th>float64</th><th>float64</th><th>float64</th><th>float64</th><th>float64</th><th>float64</th><th>int64</th><th>int64</th><th>float64</th></tr></thead>\n",
       "<tr><td>jwst-107-15</td><td>v</td><td>1189.844</td><td>108.783</td><td>15.429</td><td>2.708</td><td>4.735</td><td>5.518</td><td>107</td><td>15</td><td>0.0293 .. 0.254</td></tr>\n",
       "<tr><td>jwst-107-15</td><td>r</td><td>2504.249</td><td>105.725</td><td>12.781</td><td>2.653</td><td>4.483</td><td>5.518</td><td>107</td><td>15</td><td>0.0549 .. 0.876</td></tr>\n",
       "<tr><td>jwst-107-15</td><td>b</td><td>550.330</td><td>107.263</td><td>16.152</td><td>2.720</td><td>4.579</td><td>5.518</td><td>107</td><td>15</td><td>0.0667 .. 0.0233</td></tr>\n",
       "<tr><td>jwst-107-15</td><td>k</td><td>3530.180</td><td>108.097</td><td>15.153</td><td>2.582</td><td>4.799</td><td>5.518</td><td>107</td><td>15</td><td>1.08 .. 0.105</td></tr>\n",
       "<tr><td>jwst-27-85</td><td>v</td><td>2038.269</td><td>26.453</td><td>85.094</td><td>4.077</td><td>4.490</td><td>5.621</td><td>27</td><td>85</td><td>0.0189 .. 0.246</td></tr>\n",
       "<tr><td>jwst-27-85</td><td>b</td><td>887.356</td><td>27.016</td><td>86.662</td><td>4.107</td><td>4.433</td><td>5.621</td><td>27</td><td>85</td><td>0.0516 .. 0.0169</td></tr>\n",
       "<tr><td>jwst-27-85</td><td>k</td><td>5922.410</td><td>26.052</td><td>85.520</td><td>4.057</td><td>4.409</td><td>5.621</td><td>27</td><td>85</td><td>0.311 .. 0.466</td></tr>\n",
       "<tr><td>jwst-27-85</td><td>u</td><td>400.427</td><td>25.498</td><td>84.417</td><td>4.000</td><td>4.347</td><td>5.621</td><td>27</td><td>85</td><td>0.233 .. 0.657</td></tr>\n",
       "<tr><td>jwst-44-133</td><td>v</td><td>4184.019</td><td>42.259</td><td>132.699</td><td>3.187</td><td>4.933</td><td>0.534</td><td>44</td><td>133</td><td>0.000166 .. 0.0946</td></tr>\n",
       "<tr><td>jwst-44-133</td><td>r</td><td>7373.061</td><td>42.771</td><td>134.392</td><td>3.288</td><td>4.783</td><td>0.534</td><td>44</td><td>133</td><td>0.0235 .. 0.00246</td></tr>\n",
       "<tr><td>jwst-44-133</td><td>k</td><td>12028.066</td><td>44.540</td><td>132.891</td><td>3.291</td><td>4.965</td><td>0.534</td><td>44</td><td>133</td><td>0.0105 .. 0.0425</td></tr>\n",
       "<tr><td>jwst-72-47</td><td>b</td><td>162.792</td><td>71.571</td><td>45.789</td><td>3.655</td><td>2.966</td><td>0.245</td><td>72</td><td>47</td><td>0.00177 .. 0.000352</td></tr>\n",
       "<tr><td>jwst-72-47</td><td>v</td><td>520.755</td><td>72.665</td><td>47.680</td><td>3.857</td><td>2.905</td><td>0.245</td><td>72</td><td>47</td><td>0.00204 .. 0.000561</td></tr>\n",
       "<tr><td>jwst-72-47</td><td>r</td><td>850.218</td><td>71.992</td><td>45.844</td><td>3.638</td><td>2.990</td><td>0.245</td><td>72</td><td>47</td><td>0.000743 .. 0.0274</td></tr>\n",
       "<tr><td>jwst-72-47</td><td>k</td><td>1649.326</td><td>71.460</td><td>47.185</td><td>3.827</td><td>2.905</td><td>0.245</td><td>72</td><td>47</td><td>0.0075 .. 0.00406</td></tr>\n",
       "<tr><td>jwst-81-168</td><td>v</td><td>1719.747</td><td>81.544</td><td>167.318</td><td>2.514</td><td>4.194</td><td>1.067</td><td>81</td><td>168</td><td>1.91e-06 .. 7.76e-05</td></tr>\n",
       "<tr><td>jwst-81-168</td><td>k</td><td>5455.393</td><td>83.390</td><td>168.687</td><td>2.521</td><td>4.068</td><td>1.067</td><td>81</td><td>168</td><td>2.47e-05 .. 1.19e-05</td></tr>\n",
       "<tr><td>jwst-81-168</td><td>r</td><td>4052.989</td><td>80.654</td><td>167.202</td><td>2.377</td><td>4.085</td><td>1.067</td><td>81</td><td>168</td><td>1.28e-05 .. 7.99e-05</td></tr>\n",
       "<tr><td>jwst-81-168</td><td>b</td><td>779.235</td><td>82.053</td><td>167.492</td><td>2.503</td><td>3.980</td><td>1.067</td><td>81</td><td>168</td><td>5.21e-10 .. 0.0015</td></tr>\n",
       "</table>"
      ],
      "text/plain": [
       "<Table length=19>\n",
       "     id     band    flux    x_mean ...  theta    x0    y0     cutout [20,20]   \n",
       "                  electron         ...   rad                                   \n",
       "   str11    str1  float64  float64 ... float64 int64 int64       float64       \n",
       "----------- ---- --------- ------- ... ------- ----- ----- --------------------\n",
       "jwst-107-15    v  1189.844 108.783 ...   5.518   107    15      0.0293 .. 0.254\n",
       "jwst-107-15    r  2504.249 105.725 ...   5.518   107    15      0.0549 .. 0.876\n",
       "jwst-107-15    b   550.330 107.263 ...   5.518   107    15     0.0667 .. 0.0233\n",
       "jwst-107-15    k  3530.180 108.097 ...   5.518   107    15        1.08 .. 0.105\n",
       " jwst-27-85    v  2038.269  26.453 ...   5.621    27    85      0.0189 .. 0.246\n",
       " jwst-27-85    b   887.356  27.016 ...   5.621    27    85     0.0516 .. 0.0169\n",
       " jwst-27-85    k  5922.410  26.052 ...   5.621    27    85       0.311 .. 0.466\n",
       " jwst-27-85    u   400.427  25.498 ...   5.621    27    85       0.233 .. 0.657\n",
       "jwst-44-133    v  4184.019  42.259 ...   0.534    44   133   0.000166 .. 0.0946\n",
       "jwst-44-133    r  7373.061  42.771 ...   0.534    44   133    0.0235 .. 0.00246\n",
       "jwst-44-133    k 12028.066  44.540 ...   0.534    44   133     0.0105 .. 0.0425\n",
       " jwst-72-47    b   162.792  71.571 ...   0.245    72    47  0.00177 .. 0.000352\n",
       " jwst-72-47    v   520.755  72.665 ...   0.245    72    47  0.00204 .. 0.000561\n",
       " jwst-72-47    r   850.218  71.992 ...   0.245    72    47   0.000743 .. 0.0274\n",
       " jwst-72-47    k  1649.326  71.460 ...   0.245    72    47    0.0075 .. 0.00406\n",
       "jwst-81-168    v  1719.747  81.544 ...   1.067    81   168 1.91e-06 .. 7.76e-05\n",
       "jwst-81-168    k  5455.393  83.390 ...   1.067    81   168 2.47e-05 .. 1.19e-05\n",
       "jwst-81-168    r  4052.989  80.654 ...   1.067    81   168 1.28e-05 .. 7.99e-05\n",
       "jwst-81-168    b   779.235  82.053 ...   1.067    81   168   5.21e-10 .. 0.0015"
      ]
     },
     "execution_count": 33,
     "metadata": {},
     "output_type": "execute_result"
    }
   ],
   "source": [
    "srcs_grouped = srcs.group_by('id')\n",
    "\n",
    "# srcs_grouped has all the same rows but now ordered by ``id``\n",
    "srcs_grouped"
   ]
  },
  {
   "cell_type": "code",
   "execution_count": 34,
   "metadata": {
    "collapsed": false,
    "nbpresent": {
     "id": "eccb5d7c-f84b-4401-898e-6c3fc2934d30"
    }
   },
   "outputs": [
    {
     "name": "stdout",
     "output_type": "stream",
     "text": [
      "     id     band   flux    x_mean y_mean ... theta  x0  y0  cutout [20,20] \n",
      "                 electron                ...  rad                          \n",
      "----------- ---- -------- ------- ------ ... ----- --- --- ----------------\n",
      "jwst-107-15    v 1189.844 108.783 15.429 ... 5.518 107  15  0.0293 .. 0.254\n",
      "jwst-107-15    r 2504.249 105.725 12.781 ... 5.518 107  15  0.0549 .. 0.876\n",
      "jwst-107-15    b  550.330 107.263 16.152 ... 5.518 107  15 0.0667 .. 0.0233\n",
      "jwst-107-15    k 3530.180 108.097 15.153 ... 5.518 107  15    1.08 .. 0.105\n",
      "    id     band   flux   x_mean y_mean ... theta  x0  y0  cutout [20,20] \n",
      "                electron               ...  rad                          \n",
      "---------- ---- -------- ------ ------ ... ----- --- --- ----------------\n",
      "jwst-27-85    v 2038.269 26.453 85.094 ... 5.621  27  85  0.0189 .. 0.246\n",
      "jwst-27-85    b  887.356 27.016 86.662 ... 5.621  27  85 0.0516 .. 0.0169\n",
      "jwst-27-85    k 5922.410 26.052 85.520 ... 5.621  27  85   0.311 .. 0.466\n",
      "jwst-27-85    u  400.427 25.498 84.417 ... 5.621  27  85   0.233 .. 0.657\n",
      "     id     band    flux   x_mean  y_mean ... theta  x0  y0   cutout [20,20]  \n",
      "                  electron                ...  rad                            \n",
      "----------- ---- --------- ------ ------- ... ----- --- --- ------------------\n",
      "jwst-44-133    v  4184.019 42.259 132.699 ... 0.534  44 133 0.000166 .. 0.0946\n",
      "jwst-44-133    r  7373.061 42.771 134.392 ... 0.534  44 133  0.0235 .. 0.00246\n",
      "jwst-44-133    k 12028.066 44.540 132.891 ... 0.534  44 133   0.0105 .. 0.0425\n",
      "    id     band   flux   x_mean y_mean ... theta  x0  y0    cutout [20,20]  \n",
      "                electron               ...  rad                             \n",
      "---------- ---- -------- ------ ------ ... ----- --- --- -------------------\n",
      "jwst-72-47    b  162.792 71.571 45.789 ... 0.245  72  47 0.00177 .. 0.000352\n",
      "jwst-72-47    v  520.755 72.665 47.680 ... 0.245  72  47 0.00204 .. 0.000561\n",
      "jwst-72-47    r  850.218 71.992 45.844 ... 0.245  72  47  0.000743 .. 0.0274\n",
      "jwst-72-47    k 1649.326 71.460 47.185 ... 0.245  72  47   0.0075 .. 0.00406\n",
      "     id     band   flux   x_mean  y_mean ... theta  x0  y0    cutout [20,20]   \n",
      "                 electron                ...  rad                              \n",
      "----------- ---- -------- ------ ------- ... ----- --- --- --------------------\n",
      "jwst-81-168    v 1719.747 81.544 167.318 ... 1.067  81 168 1.91e-06 .. 7.76e-05\n",
      "jwst-81-168    k 5455.393 83.390 168.687 ... 1.067  81 168 2.47e-05 .. 1.19e-05\n",
      "jwst-81-168    r 4052.989 80.654 167.202 ... 1.067  81 168 1.28e-05 .. 7.99e-05\n",
      "jwst-81-168    b  779.235 82.053 167.492 ... 1.067  81 168   5.21e-10 .. 0.0015\n"
     ]
    }
   ],
   "source": [
    "for src in srcs_grouped.groups:\n",
    "    print(src)"
   ]
  },
  {
   "cell_type": "code",
   "execution_count": 35,
   "metadata": {
    "collapsed": false,
    "nbpresent": {
     "id": "c3b3c5fd-14a2-410e-934c-577f2197355e"
    },
    "scrolled": true
   },
   "outputs": [
    {
     "name": "stderr",
     "output_type": "stream",
     "text": [
      "WARNING: Cannot aggregate column 'band' with type '<U1' [astropy.table.groups]\n",
      "WARNING: Cannot aggregate column 'cutout' with type 'float64' [astropy.table.groups]\n"
     ]
    },
    {
     "data": {
      "text/html": [
       "&lt;Table length=5&gt;\n",
       "<table id=\"table4607448232\" class=\"table-striped table-bordered table-condensed\">\n",
       "<thead><tr><th>id</th><th>flux</th><th>x_mean</th><th>y_mean</th><th>x_stddev</th><th>y_stddev</th><th>theta</th><th>x0</th><th>y0</th></tr></thead>\n",
       "<thead><tr><th></th><th>electron</th><th></th><th></th><th></th><th></th><th>rad</th><th></th><th></th></tr></thead>\n",
       "<thead><tr><th>str11</th><th>float64</th><th>float64</th><th>float64</th><th>float64</th><th>float64</th><th>float64</th><th>float64</th><th>float64</th></tr></thead>\n",
       "<tr><td>jwst-107-15</td><td>1943.651</td><td>107.467</td><td>14.879</td><td>2.665</td><td>4.649</td><td>5.518</td><td>107.0</td><td>15.0</td></tr>\n",
       "<tr><td>jwst-27-85</td><td>2312.115</td><td>26.255</td><td>85.423</td><td>4.060</td><td>4.420</td><td>5.621</td><td>27.0</td><td>85.0</td></tr>\n",
       "<tr><td>jwst-44-133</td><td>7861.715</td><td>43.190</td><td>133.328</td><td>3.255</td><td>4.894</td><td>0.534</td><td>44.0</td><td>133.0</td></tr>\n",
       "<tr><td>jwst-72-47</td><td>795.773</td><td>71.922</td><td>46.625</td><td>3.744</td><td>2.941</td><td>0.245</td><td>72.0</td><td>47.0</td></tr>\n",
       "<tr><td>jwst-81-168</td><td>3001.841</td><td>81.910</td><td>167.675</td><td>2.479</td><td>4.082</td><td>1.067</td><td>81.0</td><td>168.0</td></tr>\n",
       "</table>"
      ],
      "text/plain": [
       "<Table length=5>\n",
       "     id       flux    x_mean  y_mean x_stddev y_stddev  theta     x0      y0  \n",
       "            electron                                     rad                  \n",
       "   str11    float64  float64 float64 float64  float64  float64 float64 float64\n",
       "----------- -------- ------- ------- -------- -------- ------- ------- -------\n",
       "jwst-107-15 1943.651 107.467  14.879    2.665    4.649   5.518   107.0    15.0\n",
       " jwst-27-85 2312.115  26.255  85.423    4.060    4.420   5.621    27.0    85.0\n",
       "jwst-44-133 7861.715  43.190 133.328    3.255    4.894   0.534    44.0   133.0\n",
       " jwst-72-47  795.773  71.922  46.625    3.744    2.941   0.245    72.0    47.0\n",
       "jwst-81-168 3001.841  81.910 167.675    2.479    4.082   1.067    81.0   168.0"
      ]
     },
     "execution_count": 35,
     "metadata": {},
     "output_type": "execute_result"
    }
   ],
   "source": [
    "# Now let's make a new table where each row is the mean of all rows in the group\n",
    "\n",
    "mean_srcs = srcs_grouped.groups.aggregate(np.mean)\n",
    "mean_srcs"
   ]
  },
  {
   "cell_type": "code",
   "execution_count": 36,
   "metadata": {
    "collapsed": true,
    "nbpresent": {
     "id": "f33d2a7c-7088-4f9a-a3a6-3026e90cb6a0"
    }
   },
   "outputs": [],
   "source": [
    "# We can define custom behavior depending on column type or even name\n",
    "\n",
    "def sources_mean(arr):\n",
    "    if arr.dtype.kind in ('S', 'U'):\n",
    "        out= ', '.join(arr)\n",
    "    elif arr.info.name == 'flux':\n",
    "        # Take the log mean\n",
    "        out = np.exp(np.mean(np.log(arr)))\n",
    "    else:\n",
    "        out = np.mean(arr, axis=0)\n",
    "\n",
    "    return out"
   ]
  },
  {
   "cell_type": "code",
   "execution_count": 37,
   "metadata": {
    "collapsed": false,
    "nbpresent": {
     "id": "6dd83292-ad2f-4d69-a496-9bd984824fff"
    }
   },
   "outputs": [
    {
     "data": {
      "text/html": [
       "&lt;Table length=5&gt;\n",
       "<table id=\"table4608378024\" class=\"table-striped table-bordered table-condensed\">\n",
       "<thead><tr><th>id</th><th>band</th><th>flux</th><th>x_mean</th><th>y_mean</th><th>x_stddev</th><th>y_stddev</th><th>theta</th><th>x0</th><th>y0</th><th>cutout [20,20]</th></tr></thead>\n",
       "<thead><tr><th></th><th></th><th>electron</th><th></th><th></th><th></th><th></th><th>rad</th><th></th><th></th><th></th></tr></thead>\n",
       "<thead><tr><th>str11</th><th>str10</th><th>float64</th><th>float64</th><th>float64</th><th>float64</th><th>float64</th><th>float64</th><th>float64</th><th>float64</th><th>float64</th></tr></thead>\n",
       "<tr><td>jwst-107-15</td><td>v, r, b, k</td><td>1551.125</td><td>107.467</td><td>14.879</td><td>2.665</td><td>4.649</td><td>5.518</td><td>107.0</td><td>15.0</td><td>0.307 .. 0.315</td></tr>\n",
       "<tr><td>jwst-27-85</td><td>v, b, k, u</td><td>1439.114</td><td>26.255</td><td>85.423</td><td>4.060</td><td>4.420</td><td>5.621</td><td>27.0</td><td>85.0</td><td>0.154 .. 0.346</td></tr>\n",
       "<tr><td>jwst-44-133</td><td>v, r, k</td><td>7185.866</td><td>43.190</td><td>133.328</td><td>3.255</td><td>4.894</td><td>0.534</td><td>44.0</td><td>133.0</td><td>0.0114 .. 0.0465</td></tr>\n",
       "<tr><td>jwst-72-47</td><td>b, v, r, k</td><td>587.186</td><td>71.922</td><td>46.625</td><td>3.744</td><td>2.941</td><td>0.245</td><td>72.0</td><td>47.0</td><td>0.00301 .. 0.00808</td></tr>\n",
       "<tr><td>jwst-81-168</td><td>v, k, r, b</td><td>2333.101</td><td>81.910</td><td>167.675</td><td>2.479</td><td>4.082</td><td>1.067</td><td>81.0</td><td>168.0</td><td>9.86e-06 .. 0.000418</td></tr>\n",
       "</table>"
      ],
      "text/plain": [
       "<Table length=5>\n",
       "     id        band      flux    x_mean ...    x0      y0      cutout [20,20]   \n",
       "                       electron         ...                                     \n",
       "   str11      str10    float64  float64 ... float64 float64       float64       \n",
       "----------- ---------- -------- ------- ... ------- ------- --------------------\n",
       "jwst-107-15 v, r, b, k 1551.125 107.467 ...   107.0    15.0       0.307 .. 0.315\n",
       " jwst-27-85 v, b, k, u 1439.114  26.255 ...    27.0    85.0       0.154 .. 0.346\n",
       "jwst-44-133    v, r, k 7185.866  43.190 ...    44.0   133.0     0.0114 .. 0.0465\n",
       " jwst-72-47 b, v, r, k  587.186  71.922 ...    72.0    47.0   0.00301 .. 0.00808\n",
       "jwst-81-168 v, k, r, b 2333.101  81.910 ...    81.0   168.0 9.86e-06 .. 0.000418"
      ]
     },
     "execution_count": 37,
     "metadata": {},
     "output_type": "execute_result"
    }
   ],
   "source": [
    "mean_srcs = srcs_grouped.groups.aggregate(sources_mean)\n",
    "mean_srcs"
   ]
  },
  {
   "cell_type": "code",
   "execution_count": 38,
   "metadata": {
    "collapsed": false,
    "nbpresent": {
     "id": "ad224e3e-7125-4d3d-aa82-8ca642683a08"
    }
   },
   "outputs": [
    {
     "data": {
      "text/plain": [
       "<matplotlib.image.AxesImage at 0x1030842b0>"
      ]
     },
     "execution_count": 38,
     "metadata": {},
     "output_type": "execute_result"
    },
    {
     "data": {
      "image/png": "[encoded data removed]",
      "text/plain": [
       "<matplotlib.figure.Figure at 0x112a01518>"
      ]
     },
     "metadata": {},
     "output_type": "display_data"
    }
   ],
   "source": [
    "plt.imshow(mean_srcs['cutout'][3], interpolation='nearest')"
   ]
  },
  {
   "cell_type": "markdown",
   "metadata": {
    "nbpresent": {
     "id": "6fede881-f2c1-4dbb-bc5b-7b4083a41319"
    }
   },
   "source": [
    "### Digression: Binning\n",
    "\n",
    "A common tool in analysis is to **bin** a table based on some reference value. Examples:\n",
    "\n",
    "- Photometry of a binary star in several bands taken over a span of time which should be binned by orbital phase.\n",
    "- Reducing the sampling density for a table by combining 100 rows at a time.\n",
    "- Unevenly sampled historical data which should binned to four points per year.\n",
    "\n",
    "The common theme in all these cases is to convert the key value array into a \n",
    "new `float`- or `int`-valued array whose values are identical for rows in the same output bin. As an example, generate a fake light curve:\n"
   ]
  },
  {
   "cell_type": "code",
   "execution_count": 39,
   "metadata": {
    "collapsed": true,
    "nbpresent": {
     "id": "75749b2c-6ab7-42a7-ae2c-3815076115a7"
    }
   },
   "outputs": [],
   "source": [
    "year = np.linspace(2000.0, 2010.0, 200)  # 200 observations over 10 years\n",
    "period = 1.811\n",
    "y0 = 2005.2\n",
    "mag = 14.0 + 1.2 * np.sin(2 * np.pi * (year - y0) / period) + np.random.normal(scale=0.1, size=200)\n",
    "phase = ((year - y0) / period) % 1.0\n",
    "dat = Table([year, phase, mag], names=['year', 'phase', 'mag'])"
   ]
  },
  {
   "cell_type": "code",
   "execution_count": 40,
   "metadata": {
    "collapsed": false,
    "nbpresent": {
     "id": "2431bbb4-5212-4705-994a-d14d05f02993"
    }
   },
   "outputs": [
    {
     "data": {
      "image/png": "[encoded data removed]",
      "text/plain": [
       "<matplotlib.figure.Figure at 0x112a1de80>"
      ]
     },
     "metadata": {},
     "output_type": "display_data"
    }
   ],
   "source": [
    "plt.figure(figsize=(8, 2))\n",
    "plt.subplot(1, 2, 1)\n",
    "plt.plot(dat['year'], dat['mag'], '.')\n",
    "plt.xlabel('year')\n",
    "plt.subplot(1, 2, 2)\n",
    "plt.xlabel('phase')\n",
    "plt.plot(dat['phase'], dat['mag'], '.');"
   ]
  },
  {
   "cell_type": "code",
   "execution_count": 41,
   "metadata": {
    "collapsed": false,
    "nbpresent": {
     "id": "b0f69602-a1a2-4491-88f6-58141daed464"
    }
   },
   "outputs": [
    {
     "data": {
      "text/plain": [
       "array([ 1.,  1.,  1.,  2.,  2.,  2.,  2.,  3.,  3.,  3.,  4.,  4.,  4.,\n",
       "        4.,  5.,  5.,  5.,  6.,  6.,  6.,  6.,  7.,  7.,  7.,  7.,  8.,\n",
       "        8.,  8.,  9.,  9.,  9.,  9.,  0.,  0.,  0.,  0.,  1.,  1.,  1.,\n",
       "        2.,  2.,  2.,  2.,  3.,  3.,  3.,  4.,  4.,  4.,  4.])"
      ]
     },
     "execution_count": 41,
     "metadata": {},
     "output_type": "execute_result"
    }
   ],
   "source": [
    "phase_bin = np.trunc(phase / 0.1)\n",
    "phase_bin[:50]"
   ]
  },
  {
   "cell_type": "code",
   "execution_count": 42,
   "metadata": {
    "collapsed": true,
    "nbpresent": {
     "id": "2f85f058-5271-40f4-befb-4cb102a1d395"
    }
   },
   "outputs": [],
   "source": [
    "dat_grouped = dat.group_by(phase_bin)\n",
    "dat_mean = dat_grouped.groups.aggregate(np.mean)\n",
    "dat_std = dat_grouped.groups.aggregate(np.std)"
   ]
  },
  {
   "cell_type": "code",
   "execution_count": 43,
   "metadata": {
    "collapsed": false,
    "nbpresent": {
     "id": "b1509784-99b7-4f8a-a21e-390b7ddf46e0"
    }
   },
   "outputs": [
    {
     "data": {
      "image/png": "[encoded data removed]",
      "text/plain": [
       "<matplotlib.figure.Figure at 0x112b0bda0>"
      ]
     },
     "metadata": {},
     "output_type": "display_data"
    }
   ],
   "source": [
    "plt.figure(figsize=(4, 2))\n",
    "plt.xlabel('phase')\n",
    "plt.errorbar(x=dat_mean['phase'], xerr=0.05, y=dat_mean['mag'], yerr=dat_std['mag'], fmt='.');"
   ]
  },
  {
   "cell_type": "markdown",
   "metadata": {},
   "source": [
    "### Join tables to make a single wide table by source `id`\n",
    "\n",
    "- Have one row corresponding to each of the 5 sources\n",
    "- Each row has columns with the 5 band u, b, v, r, k properties\n",
    "- De-duplicate column names by labeling as `{colname}_{band}`\n",
    "\n",
    "Because there are non-detections for some bands / sources, the result is a **Masked Table**."
   ]
  },
  {
   "cell_type": "code",
   "execution_count": 44,
   "metadata": {
    "collapsed": false
   },
   "outputs": [
    {
     "data": {
      "text/html": [
       "&lt;Table masked=True length=5&gt;\n",
       "<table id=\"table4632093640\" class=\"table-striped table-bordered table-condensed\">\n",
       "<thead><tr><th>id</th><th>band_u</th><th>flux_u</th><th>x_mean_u</th><th>y_mean_u</th><th>x_stddev_u</th><th>y_stddev_u</th><th>theta_u</th><th>x0_u</th><th>y0_u</th><th>cutout_u [20,20]</th><th>band_b</th><th>flux_b</th><th>x_mean_b</th><th>y_mean_b</th><th>x_stddev_b</th><th>y_stddev_b</th><th>theta_b</th><th>x0_b</th><th>y0_b</th><th>cutout_b [20,20]</th><th>band_v</th><th>flux_v</th><th>x_mean_v</th><th>y_mean_v</th><th>x_stddev_v</th><th>y_stddev_v</th><th>theta_v</th><th>x0_v</th><th>y0_v</th><th>cutout_v [20,20]</th><th>band_r</th><th>flux_r</th><th>x_mean_r</th><th>y_mean_r</th><th>x_stddev_r</th><th>y_stddev_r</th><th>theta_r</th><th>x0_r</th><th>y0_r</th><th>cutout_r [20,20]</th><th>band</th><th>flux</th><th>x_mean</th><th>y_mean</th><th>x_stddev</th><th>y_stddev</th><th>theta</th><th>x0</th><th>y0</th><th>cutout [20,20]</th></tr></thead>\n",
       "<thead><tr><th></th><th></th><th>electron</th><th></th><th></th><th></th><th></th><th>rad</th><th></th><th></th><th></th><th></th><th>electron</th><th></th><th></th><th></th><th></th><th>rad</th><th></th><th></th><th></th><th></th><th>electron</th><th></th><th></th><th></th><th></th><th>rad</th><th></th><th></th><th></th><th></th><th>electron</th><th></th><th></th><th></th><th></th><th>rad</th><th></th><th></th><th></th><th></th><th>electron</th><th></th><th></th><th></th><th></th><th>rad</th><th></th><th></th><th></th></tr></thead>\n",
       "<thead><tr><th>str11</th><th>str1</th><th>float64</th><th>float64</th><th>float64</th><th>float64</th><th>float64</th><th>float64</th><th>int64</th><th>int64</th><th>float64</th><th>str1</th><th>float64</th><th>float64</th><th>float64</th><th>float64</th><th>float64</th><th>float64</th><th>int64</th><th>int64</th><th>float64</th><th>str1</th><th>float64</th><th>float64</th><th>float64</th><th>float64</th><th>float64</th><th>float64</th><th>int64</th><th>int64</th><th>float64</th><th>str1</th><th>float64</th><th>float64</th><th>float64</th><th>float64</th><th>float64</th><th>float64</th><th>int64</th><th>int64</th><th>float64</th><th>str1</th><th>float64</th><th>float64</th><th>float64</th><th>float64</th><th>float64</th><th>float64</th><th>int64</th><th>int64</th><th>float64</th></tr></thead>\n",
       "<tr><td>jwst-107-15</td><td>--</td><td>--</td><td>--</td><td>--</td><td>--</td><td>--</td><td>--</td><td>--</td><td>--</td><td>-- .. --</td><td>b</td><td>550.330</td><td>107.263</td><td>16.152</td><td>2.720</td><td>4.579</td><td>5.518</td><td>107</td><td>15</td><td>0.0667 .. 0.0233</td><td>v</td><td>1189.844</td><td>108.783</td><td>15.429</td><td>2.708</td><td>4.735</td><td>5.518</td><td>107</td><td>15</td><td>0.0293 .. 0.254</td><td>r</td><td>2504.249</td><td>105.725</td><td>12.781</td><td>2.653</td><td>4.483</td><td>5.518</td><td>107</td><td>15</td><td>0.0549 .. 0.876</td><td>k</td><td>3530.180</td><td>108.097</td><td>15.153</td><td>2.582</td><td>4.799</td><td>5.518</td><td>107</td><td>15</td><td>1.08 .. 0.105</td></tr>\n",
       "<tr><td>jwst-27-85</td><td>u</td><td>400.427</td><td>25.498</td><td>84.417</td><td>4.000</td><td>4.347</td><td>5.621</td><td>27</td><td>85</td><td>0.233 .. 0.657</td><td>b</td><td>887.356</td><td>27.016</td><td>86.662</td><td>4.107</td><td>4.433</td><td>5.621</td><td>27</td><td>85</td><td>0.0516 .. 0.0169</td><td>v</td><td>2038.269</td><td>26.453</td><td>85.094</td><td>4.077</td><td>4.490</td><td>5.621</td><td>27</td><td>85</td><td>0.0189 .. 0.246</td><td>--</td><td>--</td><td>--</td><td>--</td><td>--</td><td>--</td><td>--</td><td>--</td><td>--</td><td>-- .. --</td><td>k</td><td>5922.410</td><td>26.052</td><td>85.520</td><td>4.057</td><td>4.409</td><td>5.621</td><td>27</td><td>85</td><td>0.311 .. 0.466</td></tr>\n",
       "<tr><td>jwst-44-133</td><td>--</td><td>--</td><td>--</td><td>--</td><td>--</td><td>--</td><td>--</td><td>--</td><td>--</td><td>-- .. --</td><td>--</td><td>--</td><td>--</td><td>--</td><td>--</td><td>--</td><td>--</td><td>--</td><td>--</td><td>-- .. --</td><td>v</td><td>4184.019</td><td>42.259</td><td>132.699</td><td>3.187</td><td>4.933</td><td>0.534</td><td>44</td><td>133</td><td>0.000166 .. 0.0946</td><td>r</td><td>7373.061</td><td>42.771</td><td>134.392</td><td>3.288</td><td>4.783</td><td>0.534</td><td>44</td><td>133</td><td>0.0235 .. 0.00246</td><td>k</td><td>12028.066</td><td>44.540</td><td>132.891</td><td>3.291</td><td>4.965</td><td>0.534</td><td>44</td><td>133</td><td>0.0105 .. 0.0425</td></tr>\n",
       "<tr><td>jwst-72-47</td><td>--</td><td>--</td><td>--</td><td>--</td><td>--</td><td>--</td><td>--</td><td>--</td><td>--</td><td>-- .. --</td><td>b</td><td>162.792</td><td>71.571</td><td>45.789</td><td>3.655</td><td>2.966</td><td>0.245</td><td>72</td><td>47</td><td>0.00177 .. 0.000352</td><td>v</td><td>520.755</td><td>72.665</td><td>47.680</td><td>3.857</td><td>2.905</td><td>0.245</td><td>72</td><td>47</td><td>0.00204 .. 0.000561</td><td>r</td><td>850.218</td><td>71.992</td><td>45.844</td><td>3.638</td><td>2.990</td><td>0.245</td><td>72</td><td>47</td><td>0.000743 .. 0.0274</td><td>k</td><td>1649.326</td><td>71.460</td><td>47.185</td><td>3.827</td><td>2.905</td><td>0.245</td><td>72</td><td>47</td><td>0.0075 .. 0.00406</td></tr>\n",
       "<tr><td>jwst-81-168</td><td>--</td><td>--</td><td>--</td><td>--</td><td>--</td><td>--</td><td>--</td><td>--</td><td>--</td><td>-- .. --</td><td>b</td><td>779.235</td><td>82.053</td><td>167.492</td><td>2.503</td><td>3.980</td><td>1.067</td><td>81</td><td>168</td><td>5.21e-10 .. 0.0015</td><td>v</td><td>1719.747</td><td>81.544</td><td>167.318</td><td>2.514</td><td>4.194</td><td>1.067</td><td>81</td><td>168</td><td>1.91e-06 .. 7.76e-05</td><td>r</td><td>4052.989</td><td>80.654</td><td>167.202</td><td>2.377</td><td>4.085</td><td>1.067</td><td>81</td><td>168</td><td>1.28e-05 .. 7.99e-05</td><td>k</td><td>5455.393</td><td>83.390</td><td>168.687</td><td>2.521</td><td>4.068</td><td>1.067</td><td>81</td><td>168</td><td>2.47e-05 .. 1.19e-05</td></tr>\n",
       "</table>"
      ],
      "text/plain": [
       "<Table masked=True length=5>\n",
       "     id     band_u  flux_u  x_mean_u ...   x0    y0     cutout [20,20]   \n",
       "                   electron          ...                                 \n",
       "   str11     str1  float64  float64  ... int64 int64       float64       \n",
       "----------- ------ -------- -------- ... ----- ----- --------------------\n",
       "jwst-107-15     --       --       -- ...   107    15        1.08 .. 0.105\n",
       " jwst-27-85      u  400.427   25.498 ...    27    85       0.311 .. 0.466\n",
       "jwst-44-133     --       --       -- ...    44   133     0.0105 .. 0.0425\n",
       " jwst-72-47     --       --       -- ...    72    47    0.0075 .. 0.00406\n",
       "jwst-81-168     --       --       -- ...    81   168 2.47e-05 .. 1.19e-05"
      ]
     },
     "execution_count": 44,
     "metadata": {},
     "output_type": "execute_result"
    }
   ],
   "source": [
    "sources_id = None\n",
    "for left, right in zip(sources_list[:-1], sources_list[1:]):\n",
    "    sources_id = table.join(left=sources_id or left,\n",
    "                            right=right,\n",
    "                            keys='id',\n",
    "                            join_type='outer',\n",
    "                            table_names=[left['band'][0], right['band'][0]])\n",
    "sources_id"
   ]
  },
  {
   "cell_type": "code",
   "execution_count": 45,
   "metadata": {
    "collapsed": false
   },
   "outputs": [
    {
     "data": {
      "text/plain": [
       "True"
      ]
     },
     "execution_count": 45,
     "metadata": {},
     "output_type": "execute_result"
    }
   ],
   "source": [
    "# Inspect a masked element\n",
    "\n",
    "sources_id.add_index('id')\n",
    "sources_id.loc['jwst-44-133']['flux_u'] is np.ma.masked"
   ]
  },
  {
   "cell_type": "markdown",
   "metadata": {
    "nbpresent": {
     "id": "4da39228-2386-45a3-9a5a-73176774f28b"
    }
   },
   "source": [
    "## Astropy integration: quantities, units, mixin columns, QTable and all that\n",
    "\n",
    "A major feature of astropy `Table` is integrated support for:\n",
    "\n",
    "- ``Quantity`` columns that have meaningful units\n",
    "- ``Time`` and ``Coordinate`` columns\n",
    "- Other \"mixin columns\"\n",
    "\n",
    "Mixin columns are object types that adhere to the mixin protocol and are\n",
    "stored and manipulated **natively** in the table."
   ]
  },
  {
   "cell_type": "markdown",
   "metadata": {
    "nbpresent": {
     "id": "0fa3c312-747b-447f-8dbe-9182338d58ad"
    }
   },
   "source": [
    "### Example: store a Time object in a table"
   ]
  },
  {
   "cell_type": "code",
   "execution_count": 46,
   "metadata": {
    "collapsed": false,
    "nbpresent": {
     "id": "dcab0899-6050-4b51-b218-c48aa335cbee"
    }
   },
   "outputs": [
    {
     "data": {
      "text/html": [
       "&lt;Table length=2&gt;\n",
       "<table id=\"table4607548160\" class=\"table-striped table-bordered table-condensed\">\n",
       "<thead><tr><th>index</th><th>time</th></tr></thead>\n",
       "<thead><tr><th>int64</th><th>object</th></tr></thead>\n",
       "<tr><td>1</td><td>2001-01-02T12:34:56.000</td></tr>\n",
       "<tr><td>2</td><td>2001-02-03T00:01:02.000</td></tr>\n",
       "</table>"
      ],
      "text/plain": [
       "<Table length=2>\n",
       "index           time         \n",
       "int64          object        \n",
       "----- -----------------------\n",
       "    1 2001-01-02T12:34:56.000\n",
       "    2 2001-02-03T00:01:02.000"
      ]
     },
     "execution_count": 46,
     "metadata": {},
     "output_type": "execute_result"
    }
   ],
   "source": [
    "t = Table()\n",
    "t['index'] = [1, 2]\n",
    "t['time'] = Time(['2001-01-02T12:34:56', '2001-02-03T00:01:02'])\n",
    "t"
   ]
  },
  {
   "cell_type": "code",
   "execution_count": 47,
   "metadata": {
    "collapsed": false,
    "nbpresent": {
     "id": "2a8ce3d6-9a10-413d-b442-f71a342312cb"
    }
   },
   "outputs": [
    {
     "data": {
      "text/plain": [
       "<Time object: scale='utc' format='isot' value=['2001-01-02T12:34:56.000' '2001-02-03T00:01:02.000']>"
      ]
     },
     "execution_count": 47,
     "metadata": {},
     "output_type": "execute_result"
    }
   ],
   "source": [
    "# The time column is a bona-fide Time object\n",
    "t['time']"
   ]
  },
  {
   "cell_type": "code",
   "execution_count": 48,
   "metadata": {
    "collapsed": false,
    "nbpresent": {
     "id": "bf20c29a-a34b-4e66-8e48-ebd0a2a8dd2d"
    }
   },
   "outputs": [
    {
     "data": {
      "text/plain": [
       "array([ 51911.52425926,  51943.00071759])"
      ]
     },
     "execution_count": 48,
     "metadata": {},
     "output_type": "execute_result"
    }
   ],
   "source": [
    "# In case you don't believe me\n",
    "t['time'].mjd"
   ]
  },
  {
   "cell_type": "markdown",
   "metadata": {
    "nbpresent": {
     "id": "8dce3059-e0fe-4f6f-b1d2-3106e8d7285c"
    }
   },
   "source": [
    "### Quantity: doesn't Table already support units?\n",
    "\n",
    "We saw in the `sources` table that we can define unit.  Aren't we good to go?  **No**"
   ]
  },
  {
   "cell_type": "code",
   "execution_count": 49,
   "metadata": {
    "collapsed": false,
    "nbpresent": {
     "id": "df40f679-3d17-41b7-9832-b30932ac73c8"
    }
   },
   "outputs": [
    {
     "data": {
      "text/plain": [
       "astropy.table.column.Column"
      ]
     },
     "execution_count": 49,
     "metadata": {},
     "output_type": "execute_result"
    }
   ],
   "source": [
    "type(sources['theta'])"
   ]
  },
  {
   "cell_type": "code",
   "execution_count": 50,
   "metadata": {
    "collapsed": false,
    "nbpresent": {
     "id": "46442fe3-3ff6-4008-a6c5-884ac0034739"
    }
   },
   "outputs": [
    {
     "data": {
      "text/latex": [
       "$\\mathrm{rad}$"
      ],
      "text/plain": [
       "Unit(\"rad\")"
      ]
     },
     "execution_count": 50,
     "metadata": {},
     "output_type": "execute_result"
    }
   ],
   "source": [
    "sources['theta'].unit"
   ]
  },
  {
   "cell_type": "markdown",
   "metadata": {
    "nbpresent": {
     "id": "37777a69-8759-4e9a-bc49-d47b41d972c7"
    }
   },
   "source": [
    "**Normal table `Column` class is just carrying `unit` as an attribute.**\n",
    "\n",
    "It is no more special than `description` or `format`:"
   ]
  },
  {
   "cell_type": "code",
   "execution_count": 51,
   "metadata": {
    "collapsed": false,
    "nbpresent": {
     "id": "22974075-0940-4ad6-9ec1-1afe11ee7e1a"
    },
    "scrolled": true
   },
   "outputs": [
    {
     "data": {
      "text/latex": [
       "$\\mathrm{rad}$"
      ],
      "text/plain": [
       "Unit(\"rad\")"
      ]
     },
     "execution_count": 51,
     "metadata": {},
     "output_type": "execute_result"
    }
   ],
   "source": [
    "t2 = sources['theta'] ** 2\n",
    "t2.unit"
   ]
  },
  {
   "cell_type": "markdown",
   "metadata": {
    "nbpresent": {
     "id": "89a3f266-89ae-4b1c-9072-54a4e4b57d93"
    }
   },
   "source": [
    "### QTable to the rescue\n",
    "\n",
    "Astropy has a `QTable` class for tables that use `Quantity` objects for columns with units.\n",
    "\n",
    "See the [Quantity and QTable](http://docs.astropy.org/en/stable/table/mixin_columns.html#quantity-and-qtable) section for more details."
   ]
  },
  {
   "cell_type": "code",
   "execution_count": 52,
   "metadata": {
    "collapsed": false,
    "nbpresent": {
     "id": "6b2c13c5-f982-443f-b750-acbe3ec626aa"
    }
   },
   "outputs": [
    {
     "data": {
      "text/html": [
       "&lt;QTable length=5&gt;\n",
       "<table id=\"table4346009136\" class=\"table-striped table-bordered table-condensed\">\n",
       "<thead><tr><th>id</th><th>flux</th><th>x_mean</th><th>y_mean</th><th>x_stddev</th><th>y_stddev</th><th>theta</th><th>x0</th><th>y0</th><th>cutout [20,20]</th></tr></thead>\n",
       "<thead><tr><th></th><th>electron</th><th></th><th></th><th></th><th></th><th>rad</th><th></th><th></th><th></th></tr></thead>\n",
       "<thead><tr><th>str11</th><th>float64</th><th>float64</th><th>float64</th><th>float64</th><th>float64</th><th>float64</th><th>int64</th><th>int64</th><th>float64</th></tr></thead>\n",
       "<tr><td>jwst-27-85</td><td>4753.198 electron</td><td>26.621</td><td>85.455</td><td>4.011</td><td>4.402</td><td>5.621 rad</td><td>27</td><td>85</td><td>0.371 .. 0.63</td></tr>\n",
       "<tr><td>jwst-44-133</td><td>7482.920 electron</td><td>43.527</td><td>133.340</td><td>3.252</td><td>4.905</td><td>0.534 rad</td><td>44</td><td>133</td><td>0.0098 .. 0.129</td></tr>\n",
       "<tr><td>jwst-72-47</td><td>1001.029 electron</td><td>72.201</td><td>46.801</td><td>3.676</td><td>2.940</td><td>0.245 rad</td><td>72</td><td>47</td><td>0.0076 .. 0.028</td></tr>\n",
       "<tr><td>jwst-81-168</td><td>3720.993 electron</td><td>81.418</td><td>168.061</td><td>2.421</td><td>4.077</td><td>1.067 rad</td><td>81</td><td>168</td><td>2.91e-07 .. 0.0138</td></tr>\n",
       "<tr><td>jwst-107-15</td><td>2320.803 electron</td><td>106.987</td><td>14.930</td><td>2.594</td><td>4.629</td><td>5.518 rad</td><td>107</td><td>15</td><td>0.317 .. 2.11</td></tr>\n",
       "</table>"
      ],
      "text/plain": [
       "<QTable length=5>\n",
       "     id            flux        x_mean  y_mean ...   x0    y0    cutout [20,20]  \n",
       "                 electron                     ...                               \n",
       "   str11         float64      float64 float64 ... int64 int64      float64      \n",
       "----------- ----------------- ------- ------- ... ----- ----- ------------------\n",
       " jwst-27-85 4753.198 electron  26.621  85.455 ...    27    85      0.371 .. 0.63\n",
       "jwst-44-133 7482.920 electron  43.527 133.340 ...    44   133    0.0098 .. 0.129\n",
       " jwst-72-47 1001.029 electron  72.201  46.801 ...    72    47    0.0076 .. 0.028\n",
       "jwst-81-168 3720.993 electron  81.418 168.061 ...    81   168 2.91e-07 .. 0.0138\n",
       "jwst-107-15 2320.803 electron 106.987  14.930 ...   107    15      0.317 .. 2.11"
      ]
     },
     "execution_count": 52,
     "metadata": {},
     "output_type": "execute_result"
    }
   ],
   "source": [
    "# Let's make `flux` and `theta` be real Quantity objects!\n",
    "qsources = QTable(sources)\n",
    "qsources"
   ]
  },
  {
   "cell_type": "markdown",
   "metadata": {
    "nbpresent": {
     "id": "2ca67d27-df29-41d6-95e7-e50909841b75"
    }
   },
   "source": [
    "*The repeated presence of `electron` and `rad` in each Quantity value is a problem that is fixed in 1.3-dev*."
   ]
  },
  {
   "cell_type": "code",
   "execution_count": 53,
   "metadata": {
    "collapsed": false,
    "nbpresent": {
     "id": "b56371c9-fc65-488d-bcfd-9860900d9116"
    }
   },
   "outputs": [
    {
     "data": {
      "text/plain": [
       "astropy.units.quantity.Quantity"
      ]
     },
     "execution_count": 53,
     "metadata": {},
     "output_type": "execute_result"
    }
   ],
   "source": [
    "type(qsources['theta'])"
   ]
  },
  {
   "cell_type": "code",
   "execution_count": 54,
   "metadata": {
    "collapsed": false,
    "nbpresent": {
     "id": "a551ad97-8da0-49e7-9b74-82c6c56077f6"
    }
   },
   "outputs": [
    {
     "data": {
      "text/latex": [
       "$\\mathrm{rad^{2}}$"
      ],
      "text/plain": [
       "Unit(\"rad2\")"
      ]
     },
     "execution_count": 54,
     "metadata": {},
     "output_type": "execute_result"
    }
   ],
   "source": [
    "qt2 = qsources['theta'] ** 2\n",
    "qt2.unit"
   ]
  },
  {
   "cell_type": "markdown",
   "metadata": {
    "nbpresent": {
     "id": "15e41f96-b13b-4001-beb9-d353a92dbc5c"
    }
   },
   "source": [
    "### Summary of `Table` and `QTable`\n",
    "\n",
    "In short, `Table` and `QTable` are **identical in every way except for handling columns with units**:\n",
    "- `Table` uses `Column` for any columns with units (with informational-only unit attribute)\n",
    "- `QTable` uses `Quantity` for any columns with units (with meaningful unit attribute)\n",
    "\n",
    "Use `QTable` in general if you are fully on-board with using `Quantity` and do not deal with much legacy code.\n",
    "\n",
    "Use `Table` if you are using code that is not `Quantity`-aware, OR if you need full missing data support.  `Quantity` does not support missing (masked) data."
   ]
  },
  {
   "cell_type": "markdown",
   "metadata": {
    "nbpresent": {
     "id": "a03b7659-82e3-4b87-a072-c60cfa58d0c2"
    }
   },
   "source": [
    "### Digression: storing a Pandas Series within Astropy Table"
   ]
  },
  {
   "cell_type": "code",
   "execution_count": 55,
   "metadata": {
    "collapsed": false,
    "nbpresent": {
     "id": "b4010a3d-ccb2-4266-b3fb-874a1c4df56f"
    }
   },
   "outputs": [],
   "source": [
    "from astropy.utils.data_info import ParentDtypeInfo\n",
    "import pandas as pd\n",
    "\n",
    "class SeriesMixin(pd.Series):\n",
    "    info = ParentDtypeInfo()"
   ]
  },
  {
   "cell_type": "code",
   "execution_count": 56,
   "metadata": {
    "collapsed": false,
    "nbpresent": {
     "id": "be1c29e8-7230-4c9a-90c2-16e187bfeb96"
    },
    "scrolled": true
   },
   "outputs": [],
   "source": [
    "s = SeriesMixin((np.arange(5)-2)**2)\n",
    "pt = Table([s], names=['s'])"
   ]
  },
  {
   "cell_type": "code",
   "execution_count": 57,
   "metadata": {
    "collapsed": false,
    "nbpresent": {
     "id": "b568145e-9eb8-4a7a-b707-69298de87da8"
    }
   },
   "outputs": [
    {
     "data": {
      "text/plain": [
       "name = s\n",
       "dtype = int64\n",
       "class = SeriesMixin\n",
       "n_bad = 1\n",
       "length = 5"
      ]
     },
     "execution_count": 57,
     "metadata": {},
     "output_type": "execute_result"
    }
   ],
   "source": [
    "pt['s'].info"
   ]
  },
  {
   "cell_type": "code",
   "execution_count": 58,
   "metadata": {
    "collapsed": false,
    "nbpresent": {
     "id": "769f3ac3-424d-42b7-a357-3cd70630973e"
    }
   },
   "outputs": [
    {
     "data": {
      "text/plain": [
       "True"
      ]
     },
     "execution_count": 58,
     "metadata": {},
     "output_type": "execute_result"
    }
   ],
   "source": [
    "isinstance(pt['s'], pd.Series)"
   ]
  },
  {
   "cell_type": "code",
   "execution_count": 59,
   "metadata": {
    "collapsed": false,
    "nbpresent": {
     "id": "102ec9ba-389c-4aec-9b37-12ef2481f372"
    },
    "scrolled": true
   },
   "outputs": [
    {
     "data": {
      "image/png": "[encoded data removed]",
      "text/plain": [
       "<matplotlib.figure.Figure at 0x114bf0d30>"
      ]
     },
     "metadata": {},
     "output_type": "display_data"
    }
   ],
   "source": [
    "pt['s'].plot();"
   ]
  },
  {
   "cell_type": "markdown",
   "metadata": {},
   "source": [
    "## But wait, there's more... for another day\n",
    "\n",
    "- Transform to/from other table-like objects (Pandas DataFrame, numpy structured array, LSST)\n",
    "- Subclass for custom applications (documentation example of params)\n",
    "- Unified interface for I/O (ASCII, FITS, votable)"
   ]
  }
 ],
 "metadata": {
  "anaconda-cloud": {},
  "kernelspec": {
   "display_name": "Python [conda env:py35]",
   "language": "python",
   "name": "conda-env-py35-py"
  },
  "language_info": {
   "codemirror_mode": {
    "name": "ipython",
    "version": 3
   },
   "file_extension": ".py",
   "mimetype": "text/x-python",
   "name": "python",
   "nbconvert_exporter": "python",
   "pygments_lexer": "ipython3",
   "version": "3.5.1"
  },
  "nbpresent": {
   "slides": {
    "12fd3ff2-7e7c-4c20-ad63-94b85f9c320f": {
     "id": "12fd3ff2-7e7c-4c20-ad63-94b85f9c320f",
     "prev": "8c32f22e-ca53-436d-8c4d-47995f88366e",
     "regions": {
      "402cb36c-5a3a-4c3b-85c1-ba9089a21f8f": {
       "attrs": {
        "height": 0.4,
        "width": 0.8,
        "x": 0.1,
        "y": 0.5
       },
       "content": {
        "cell": "435c0633-e922-4ce6-8248-6d4c4b978a76",
        "part": "whole"
       },
       "id": "402cb36c-5a3a-4c3b-85c1-ba9089a21f8f"
      },
      "437836ff-b5fa-4b40-b8c3-8ed01ba56208": {
       "attrs": {
        "height": 0.8,
        "width": 0.8,
        "x": 0.1,
        "y": 0.1
       },
       "content": {
        "cell": "e239a41d-288a-4bd8-b52f-c5f39a9ec860",
        "part": "whole"
       },
       "id": "437836ff-b5fa-4b40-b8c3-8ed01ba56208"
      }
     }
    },
    "15f1fd0e-2086-4557-a41d-58c04b77f9cc": {
     "id": "15f1fd0e-2086-4557-a41d-58c04b77f9cc",
     "prev": null,
     "regions": {
      "8e4865bc-9a2c-4965-a400-d979f00cda67": {
       "attrs": {
        "height": 0.8,
        "width": 0.8,
        "x": 0.1,
        "y": 0.1
       },
       "content": {
        "cell": "7c4527ca-47d5-4222-a2d1-e40b226d16ef",
        "part": "whole"
       },
       "id": "8e4865bc-9a2c-4965-a400-d979f00cda67"
      }
     }
    },
    "1bfc7cd5-24f5-46dc-aead-4c5cc4dd0b97": {
     "id": "1bfc7cd5-24f5-46dc-aead-4c5cc4dd0b97",
     "prev": "15f1fd0e-2086-4557-a41d-58c04b77f9cc",
     "regions": {
      "f1f0f5fd-d94d-4024-b548-bc97c261ccf3": {
       "attrs": {
        "height": 0.8,
        "width": 0.8,
        "x": 0.1,
        "y": 0.1
       },
       "content": {
        "cell": "04198394-491c-47d2-a46d-9cb4dd90f9a2",
        "part": "whole"
       },
       "id": "f1f0f5fd-d94d-4024-b548-bc97c261ccf3"
      }
     }
    },
    "3245d4ca-f536-4407-93cd-34766063b205": {
     "id": "3245d4ca-f536-4407-93cd-34766063b205",
     "prev": "845fd08d-6969-49be-be0f-7b79a415ddf6",
     "regions": {
      "fbfc6e16-4fa2-4297-81ca-402f83349896": {
       "attrs": {
        "height": 0.8,
        "width": 0.8,
        "x": 0.1,
        "y": 0.1
       },
       "content": {
        "cell": "dfa4ba7f-cac3-43a9-a213-c62459f51bc5",
        "part": "whole"
       },
       "id": "fbfc6e16-4fa2-4297-81ca-402f83349896"
      }
     }
    },
    "3b820531-04a8-42f9-9f9f-efed13990304": {
     "id": "3b820531-04a8-42f9-9f9f-efed13990304",
     "prev": "c90f0875-039d-44fc-a070-095207b2f7f0",
     "regions": {
      "05b1f8fb-3ff5-47f8-880c-a9e212d10394": {
       "attrs": {
        "height": 0.4,
        "width": 0.8,
        "x": 0.1,
        "y": 0.5
       },
       "content": {
        "cell": "a03b7659-82e3-4b87-a072-c60cfa58d0c2",
        "part": "whole"
       },
       "id": "05b1f8fb-3ff5-47f8-880c-a9e212d10394"
      },
      "05d1173a-dacf-4d55-a1c4-d25a4450a82d": {
       "attrs": {
        "height": 0.4,
        "width": 0.8,
        "x": 0.1,
        "y": 0.5
       },
       "content": {
        "cell": "807044a7-e521-41ae-83f9-9cfd677b2bd7",
        "part": "whole"
       },
       "id": "05d1173a-dacf-4d55-a1c4-d25a4450a82d"
      },
      "0816124c-7434-4861-a3b5-ca91d4cada26": {
       "attrs": {
        "height": 0.4,
        "width": 0.8,
        "x": 0.1,
        "y": 0.5
       },
       "content": {
        "cell": "82cd29e1-8d82-44f5-8f69-c358daf8df76",
        "part": "whole"
       },
       "id": "0816124c-7434-4861-a3b5-ca91d4cada26"
      },
      "0d09ef50-e9f6-463a-bd9b-a80b598cd9c2": {
       "attrs": {
        "height": 0.4,
        "width": 0.8,
        "x": 0.1,
        "y": 0.5
       },
       "content": {
        "cell": "a551ad97-8da0-49e7-9b74-82c6c56077f6",
        "part": "whole"
       },
       "id": "0d09ef50-e9f6-463a-bd9b-a80b598cd9c2"
      },
      "2083880a-4ce1-4b99-a8a8-13b544950267": {
       "attrs": {
        "height": 0.4,
        "width": 0.8,
        "x": 0.1,
        "y": 0.5
       },
       "content": {
        "cell": "37777a69-8759-4e9a-bc49-d47b41d972c7",
        "part": "whole"
       },
       "id": "2083880a-4ce1-4b99-a8a8-13b544950267"
      },
      "21930dbd-346c-4dc2-aadf-726aff9ad1b6": {
       "attrs": {
        "height": 0.4,
        "width": 0.8,
        "x": 0.1,
        "y": 0.5
       },
       "content": {
        "cell": "be1c29e8-7230-4c9a-90c2-16e187bfeb96",
        "part": "whole"
       },
       "id": "21930dbd-346c-4dc2-aadf-726aff9ad1b6"
      },
      "32bef275-7c46-492c-8fde-ac747cf460e9": {
       "attrs": {
        "height": 0.4,
        "width": 0.8,
        "x": 0.1,
        "y": 0.5
       },
       "content": {
        "cell": "8dce3059-e0fe-4f6f-b1d2-3106e8d7285c",
        "part": "whole"
       },
       "id": "32bef275-7c46-492c-8fde-ac747cf460e9"
      },
      "35d36920-6762-4ba6-b469-867a9b04005c": {
       "attrs": {
        "height": 0.4,
        "width": 0.8,
        "x": 0.1,
        "y": 0.5
       },
       "content": {
        "cell": "4da39228-2386-45a3-9a5a-73176774f28b",
        "part": "whole"
       },
       "id": "35d36920-6762-4ba6-b469-867a9b04005c"
      },
      "377f4464-3050-48cf-8b26-30fe99cfc5b1": {
       "attrs": {
        "height": 0.4,
        "width": 0.8,
        "x": 0.1,
        "y": 0.5
       },
       "content": {
        "cell": "0fa3c312-747b-447f-8dbe-9182338d58ad",
        "part": "whole"
       },
       "id": "377f4464-3050-48cf-8b26-30fe99cfc5b1"
      },
      "3a6909c0-b851-41d4-b302-52f4f52727cd": {
       "attrs": {
        "height": 0.4,
        "width": 0.8,
        "x": 0.1,
        "y": 0.5
       },
       "content": {
        "cell": "f33d2a7c-7088-4f9a-a3a6-3026e90cb6a0",
        "part": "whole"
       },
       "id": "3a6909c0-b851-41d4-b302-52f4f52727cd"
      },
      "3af4484a-88ed-4136-a2e2-f577ec4347ef": {
       "attrs": {
        "height": 0.4,
        "width": 0.8,
        "x": 0.1,
        "y": 0.5
       },
       "content": {
        "cell": "2ca67d27-df29-41d6-95e7-e50909841b75",
        "part": "whole"
       },
       "id": "3af4484a-88ed-4136-a2e2-f577ec4347ef"
      },
      "3e19b117-7d5b-4fea-80f6-5638251055dc": {
       "attrs": {
        "height": 0.4,
        "width": 0.8,
        "x": 0.1,
        "y": 0.5
       },
       "content": {
        "cell": "22974075-0940-4ad6-9ec1-1afe11ee7e1a",
        "part": "whole"
       },
       "id": "3e19b117-7d5b-4fea-80f6-5638251055dc"
      },
      "3ef65745-48a4-487f-b286-8fb7695bcfd3": {
       "attrs": {
        "height": 0.4,
        "width": 0.8,
        "x": 0.1,
        "y": 0.5
       },
       "content": {
        "cell": "437376f8-a2dc-412c-b66c-db69d06d35d3",
        "part": "whole"
       },
       "id": "3ef65745-48a4-487f-b286-8fb7695bcfd3"
      },
      "3f7d295a-e169-40fb-bc32-b5dc57707dd5": {
       "attrs": {
        "height": 0.4,
        "width": 0.8,
        "x": 0.1,
        "y": 0.5
       },
       "content": {
        "cell": "13d990e0-643b-488c-b675-948115dfc089",
        "part": "whole"
       },
       "id": "3f7d295a-e169-40fb-bc32-b5dc57707dd5"
      },
      "3f9bf3cc-1614-4e7e-9cde-1c9a6e9134ae": {
       "attrs": {
        "height": 0.4,
        "width": 0.8,
        "x": 0.1,
        "y": 0.5
       },
       "content": {
        "cell": "b4010a3d-ccb2-4266-b3fb-874a1c4df56f",
        "part": "whole"
       },
       "id": "3f9bf3cc-1614-4e7e-9cde-1c9a6e9134ae"
      },
      "422825de-a8a3-4191-b957-6eed2d324bff": {
       "attrs": {
        "height": 0.4,
        "width": 0.8,
        "x": 0.1,
        "y": 0.5
       },
       "content": {
        "cell": "be14a180-2c14-4285-8033-84cd5cf4d918",
        "part": "whole"
       },
       "id": "422825de-a8a3-4191-b957-6eed2d324bff"
      },
      "430f1725-96f9-4d39-ba36-5c7cfcab4313": {
       "attrs": {
        "height": 0.4,
        "width": 0.8,
        "x": 0.1,
        "y": 0.5
       },
       "content": {
        "cell": "548cb8e9-2d36-46bf-a99f-14d474465cd1",
        "part": "whole"
       },
       "id": "430f1725-96f9-4d39-ba36-5c7cfcab4313"
      },
      "48e23027-5a1e-4a3a-9d33-31ff1852bd4b": {
       "attrs": {
        "height": 0.4,
        "width": 0.8,
        "x": 0.1,
        "y": 0.5
       },
       "content": {
        "cell": "46442fe3-3ff6-4008-a6c5-884ac0034739",
        "part": "whole"
       },
       "id": "48e23027-5a1e-4a3a-9d33-31ff1852bd4b"
      },
      "4c640c66-df27-496a-b963-c5b95bba8a59": {
       "attrs": {
        "height": 0.4,
        "width": 0.8,
        "x": 0.1,
        "y": 0.5
       },
       "content": {
        "cell": "b56371c9-fc65-488d-bcfd-9860900d9116",
        "part": "whole"
       },
       "id": "4c640c66-df27-496a-b963-c5b95bba8a59"
      },
      "570fd428-64fd-4173-a479-b0757f964c80": {
       "attrs": {
        "height": 0.4,
        "width": 0.8,
        "x": 0.1,
        "y": 0.5
       },
       "content": {
        "cell": "75749b2c-6ab7-42a7-ae2c-3815076115a7",
        "part": "whole"
       },
       "id": "570fd428-64fd-4173-a479-b0757f964c80"
      },
      "58d8b78a-c974-4736-bf6e-b53dc9568701": {
       "attrs": {
        "height": 0.4,
        "width": 0.8,
        "x": 0.1,
        "y": 0.5
       },
       "content": {
        "cell": "6dd83292-ad2f-4d69-a496-9bd984824fff",
        "part": "whole"
       },
       "id": "58d8b78a-c974-4736-bf6e-b53dc9568701"
      },
      "5a3ff019-3fa0-4858-97dc-42d9cd4aa8b9": {
       "attrs": {
        "height": 0.4,
        "width": 0.8,
        "x": 0.1,
        "y": 0.5
       },
       "content": {
        "cell": "e2827346-e5f4-47fc-a07d-2e995d101e50",
        "part": "whole"
       },
       "id": "5a3ff019-3fa0-4858-97dc-42d9cd4aa8b9"
      },
      "5da4d3ae-877c-4f32-9af9-9bb689c7b2bc": {
       "attrs": {
        "height": 0.4,
        "width": 0.8,
        "x": 0.1,
        "y": 0.5
       },
       "content": {
        "cell": "67a60374-bbad-4e5e-b67a-3fc487e7678d",
        "part": "whole"
       },
       "id": "5da4d3ae-877c-4f32-9af9-9bb689c7b2bc"
      },
      "5f1d6ffe-f66d-4e34-a4a8-a44dc6641831": {
       "attrs": {
        "height": 0.4,
        "width": 0.8,
        "x": 0.1,
        "y": 0.5
       },
       "content": {
        "cell": "11e4722a-041d-4bc0-a760-9ffbfccd049f",
        "part": "whole"
       },
       "id": "5f1d6ffe-f66d-4e34-a4a8-a44dc6641831"
      },
      "63d4ad46-6ced-4ef8-8a2b-26cadacffd6e": {
       "attrs": {
        "height": 0.4,
        "width": 0.8,
        "x": 0.1,
        "y": 0.5
       },
       "content": {
        "cell": "2431bbb4-5212-4705-994a-d14d05f02993",
        "part": "whole"
       },
       "id": "63d4ad46-6ced-4ef8-8a2b-26cadacffd6e"
      },
      "7072e172-5332-40db-85d3-34934fa2caf1": {
       "attrs": {
        "height": 0.4,
        "width": 0.8,
        "x": 0.1,
        "y": 0.5
       },
       "content": {
        "cell": "f42e3d62-29c9-40e7-a26e-f698183458c1",
        "part": "whole"
       },
       "id": "7072e172-5332-40db-85d3-34934fa2caf1"
      },
      "745ef262-7e3f-41d4-93d7-556849be3ed1": {
       "attrs": {
        "height": 0.4,
        "width": 0.8,
        "x": 0.1,
        "y": 0.5
       },
       "content": {
        "cell": "102ec9ba-389c-4aec-9b37-12ef2481f372",
        "part": "whole"
       },
       "id": "745ef262-7e3f-41d4-93d7-556849be3ed1"
      },
      "7c615779-09d1-4361-8a10-b120d19b6294": {
       "attrs": {
        "height": 0.4,
        "width": 0.8,
        "x": 0.1,
        "y": 0.5
       },
       "content": {
        "cell": "eccb5d7c-f84b-4401-898e-6c3fc2934d30",
        "part": "whole"
       },
       "id": "7c615779-09d1-4361-8a10-b120d19b6294"
      },
      "7f149e0f-4734-4bca-adde-ed92095888fe": {
       "attrs": {
        "height": 0.4,
        "width": 0.8,
        "x": 0.1,
        "y": 0.5
       },
       "content": {
        "cell": "101395fe-facb-4c06-855f-883483d44872",
        "part": "whole"
       },
       "id": "7f149e0f-4734-4bca-adde-ed92095888fe"
      },
      "8c7ac466-7bc6-46f6-aefb-48f5e955b9ac": {
       "attrs": {
        "height": 0.4,
        "width": 0.8,
        "x": 0.1,
        "y": 0.5
       },
       "content": {
        "cell": "ae7e9d8c-9ecb-4b21-b410-4c0052629e05",
        "part": "whole"
       },
       "id": "8c7ac466-7bc6-46f6-aefb-48f5e955b9ac"
      },
      "8f2bf76c-dcec-4f4f-838f-be9f3f5b7004": {
       "attrs": {
        "height": 0.4,
        "width": 0.8,
        "x": 0.1,
        "y": 0.5
       },
       "content": {
        "cell": "dcab0899-6050-4b51-b218-c48aa335cbee",
        "part": "whole"
       },
       "id": "8f2bf76c-dcec-4f4f-838f-be9f3f5b7004"
      },
      "94e726ff-403c-46a6-9c0b-b035416f02c8": {
       "attrs": {
        "height": 0.4,
        "width": 0.8,
        "x": 0.1,
        "y": 0.5
       },
       "content": {
        "cell": "ad224e3e-7125-4d3d-aa82-8ca642683a08",
        "part": "whole"
       },
       "id": "94e726ff-403c-46a6-9c0b-b035416f02c8"
      },
      "9cb1381c-0ae1-4725-bd86-1ad75e3f24d9": {
       "attrs": {
        "height": 0.4,
        "width": 0.8,
        "x": 0.1,
        "y": 0.5
       },
       "content": {
        "cell": "2f85f058-5271-40f4-befb-4cb102a1d395",
        "part": "whole"
       },
       "id": "9cb1381c-0ae1-4725-bd86-1ad75e3f24d9"
      },
      "9e3b92c2-7355-45c3-918b-5617fffb07aa": {
       "attrs": {
        "height": 0.4,
        "width": 0.8,
        "x": 0.1,
        "y": 0.5
       },
       "content": {
        "cell": "bf20c29a-a34b-4e66-8e48-ebd0a2a8dd2d",
        "part": "whole"
       },
       "id": "9e3b92c2-7355-45c3-918b-5617fffb07aa"
      },
      "a0858b55-cabe-4822-b9b2-5bc38e75b0e6": {
       "attrs": {
        "height": 0.4,
        "width": 0.8,
        "x": 0.1,
        "y": 0.5
       },
       "content": {
        "cell": "c3b3c5fd-14a2-410e-934c-577f2197355e",
        "part": "whole"
       },
       "id": "a0858b55-cabe-4822-b9b2-5bc38e75b0e6"
      },
      "af78fa69-737d-48a1-a73a-daf5b6062c72": {
       "attrs": {
        "height": 0.4,
        "width": 0.8,
        "x": 0.1,
        "y": 0.5
       },
       "content": {
        "cell": "b777e5f7-4554-4c08-b1fe-3ec2868aa0a8",
        "part": "whole"
       },
       "id": "af78fa69-737d-48a1-a73a-daf5b6062c72"
      },
      "b352ee49-9a98-47c7-982f-809dfeb6bed3": {
       "attrs": {
        "height": 0.4,
        "width": 0.8,
        "x": 0.1,
        "y": 0.5
       },
       "content": {
        "cell": "b1509784-99b7-4f8a-a21e-390b7ddf46e0",
        "part": "whole"
       },
       "id": "b352ee49-9a98-47c7-982f-809dfeb6bed3"
      },
      "b6c9842b-ee8c-4664-924b-2e4262bcfd0e": {
       "attrs": {
        "height": 0.4,
        "width": 0.8,
        "x": 0.1,
        "y": 0.5
       },
       "content": {
        "cell": "df40f679-3d17-41b7-9832-b30932ac73c8",
        "part": "whole"
       },
       "id": "b6c9842b-ee8c-4664-924b-2e4262bcfd0e"
      },
      "bc4ca16a-b2a1-4a8b-817d-3c12a9360676": {
       "attrs": {
        "height": 0.4,
        "width": 0.8,
        "x": 0.1,
        "y": 0.5
       },
       "content": {
        "cell": "2a8ce3d6-9a10-413d-b442-f71a342312cb",
        "part": "whole"
       },
       "id": "bc4ca16a-b2a1-4a8b-817d-3c12a9360676"
      },
      "be586f68-327b-414b-9e13-99b9370d310e": {
       "attrs": {
        "height": 0.4,
        "width": 0.8,
        "x": 0.1,
        "y": 0.5
       },
       "content": {
        "cell": "35a3f940-eafe-49d5-a664-0dae667e6f97",
        "part": "whole"
       },
       "id": "be586f68-327b-414b-9e13-99b9370d310e"
      },
      "c6546d76-50a9-4a82-9618-544fbabf4fb4": {
       "attrs": {
        "height": 0.8,
        "width": 0.8,
        "x": 0.1,
        "y": 0.1
       },
       "content": {
        "cell": "25c037ac-8b58-49d3-a181-6aa17ea35a09",
        "part": "whole"
       },
       "id": "c6546d76-50a9-4a82-9618-544fbabf4fb4"
      },
      "d19cce03-e70c-4275-959f-1c034cc1f8a9": {
       "attrs": {
        "height": 0.4,
        "width": 0.8,
        "x": 0.1,
        "y": 0.5
       },
       "content": {
        "cell": "6b2c13c5-f982-443f-b750-acbe3ec626aa",
        "part": "whole"
       },
       "id": "d19cce03-e70c-4275-959f-1c034cc1f8a9"
      },
      "da380ec2-7b3f-4df4-b412-de0a317f6d56": {
       "attrs": {
        "height": 0.4,
        "width": 0.8,
        "x": 0.1,
        "y": 0.5
       },
       "content": {
        "cell": "15e41f96-b13b-4001-beb9-d353a92dbc5c",
        "part": "whole"
       },
       "id": "da380ec2-7b3f-4df4-b412-de0a317f6d56"
      },
      "da8a11e8-a8c1-4072-90b4-a3e07b8f098c": {
       "attrs": {
        "height": 0.4,
        "width": 0.8,
        "x": 0.1,
        "y": 0.5
       },
       "content": {
        "cell": "b568145e-9eb8-4a7a-b707-69298de87da8",
        "part": "whole"
       },
       "id": "da8a11e8-a8c1-4072-90b4-a3e07b8f098c"
      },
      "dc912d4b-618e-4afb-acdc-2272eb821693": {
       "attrs": {
        "height": 0.4,
        "width": 0.8,
        "x": 0.1,
        "y": 0.5
       },
       "content": {
        "cell": "b0f69602-a1a2-4491-88f6-58141daed464",
        "part": "whole"
       },
       "id": "dc912d4b-618e-4afb-acdc-2272eb821693"
      },
      "dca9032a-7382-45c3-8276-58943d5e5883": {
       "attrs": {
        "height": 0.4,
        "width": 0.8,
        "x": 0.1,
        "y": 0.5
       },
       "content": {
        "cell": "6fede881-f2c1-4dbb-bc5b-7b4083a41319",
        "part": "whole"
       },
       "id": "dca9032a-7382-45c3-8276-58943d5e5883"
      },
      "e5186da3-b74c-4a4f-971b-3a75ca5683e6": {
       "attrs": {
        "height": 0.4,
        "width": 0.8,
        "x": 0.1,
        "y": 0.5
       },
       "content": {
        "cell": "59805859-bfe3-4f0c-91f2-caef265a7a98",
        "part": "whole"
       },
       "id": "e5186da3-b74c-4a4f-971b-3a75ca5683e6"
      },
      "e5322c1e-d440-4123-8334-929d9abfbac6": {
       "attrs": {
        "height": 0.4,
        "width": 0.8,
        "x": 0.1,
        "y": 0.5
       },
       "content": {
        "cell": "89a3f266-89ae-4b1c-9072-54a4e4b57d93",
        "part": "whole"
       },
       "id": "e5322c1e-d440-4123-8334-929d9abfbac6"
      },
      "fb2a711a-e471-4ea0-ad9e-48ef6beb1096": {
       "attrs": {
        "height": 0.4,
        "width": 0.8,
        "x": 0.1,
        "y": 0.5
       },
       "content": {
        "cell": "769f3ac3-424d-42b7-a357-3cd70630973e",
        "part": "whole"
       },
       "id": "fb2a711a-e471-4ea0-ad9e-48ef6beb1096"
      },
      "fd2caaa5-dca5-4e5f-b639-7850bf9493bc": {
       "attrs": {
        "height": 0.4,
        "width": 0.8,
        "x": 0.1,
        "y": 0.5
       },
       "content": {
        "cell": "3c3ba47a-841e-4638-b91e-452cd02f111a",
        "part": "whole"
       },
       "id": "fd2caaa5-dca5-4e5f-b639-7850bf9493bc"
      }
     }
    },
    "51778d7b-4aa2-4e24-ac72-a0968d916334": {
     "id": "51778d7b-4aa2-4e24-ac72-a0968d916334",
     "prev": "d54c183e-82ed-4e21-ad2c-369c83b62457",
     "regions": {
      "511df6db-b1f6-44ab-bd1f-769eabad63bd": {
       "attrs": {
        "height": 0.8,
        "width": 0.8,
        "x": 0.1,
        "y": 0.1
       },
       "content": {
        "cell": "463affe4-5604-4dec-8836-586349219e69",
        "part": "whole"
       },
       "id": "511df6db-b1f6-44ab-bd1f-769eabad63bd"
      },
      "c0b2c40b-22df-4f92-8a41-d532c737031f": {
       "attrs": {
        "height": 0.22409356725146198,
        "width": 0.8,
        "x": 0.09894736842105263,
        "y": 0.6740350877192982
       },
       "content": {
        "cell": "a480a6da-bd37-4d1e-80f0-8dc1aa3cdc6f",
        "part": "whole"
       },
       "id": "c0b2c40b-22df-4f92-8a41-d532c737031f",
       "y": 0.8
      }
     }
    },
    "5565fe68-2610-4972-8819-a9dcab390b97": {
     "id": "5565fe68-2610-4972-8819-a9dcab390b97",
     "prev": "86671071-c20b-4178-a694-719bdb876955",
     "regions": {
      "8514ac4d-fc2a-4ef7-906b-a6aad0deec30": {
       "attrs": {
        "height": 0.8,
        "width": 0.8,
        "x": 0.1,
        "y": 0.1
       },
       "content": {
        "cell": "a0725b93-1258-4d04-ba13-448ea4427dda",
        "part": "whole"
       },
       "id": "8514ac4d-fc2a-4ef7-906b-a6aad0deec30"
      }
     }
    },
    "5a66d71d-cb38-4146-8bb1-c94c79a20b3d": {
     "id": "5a66d71d-cb38-4146-8bb1-c94c79a20b3d",
     "prev": "5565fe68-2610-4972-8819-a9dcab390b97",
     "regions": {
      "5368bfa2-eb60-4e20-adb5-dd65c37bfe83": {
       "attrs": {
        "height": 0.8,
        "width": 0.8,
        "x": 0.1,
        "y": 0.1
       },
       "content": {
        "cell": "aa357512-ca20-45d2-9c54-0add8be17ff7",
        "part": "whole"
       },
       "id": "5368bfa2-eb60-4e20-adb5-dd65c37bfe83"
      }
     }
    },
    "845fd08d-6969-49be-be0f-7b79a415ddf6": {
     "id": "845fd08d-6969-49be-be0f-7b79a415ddf6",
     "layout": "grid",
     "prev": "5a66d71d-cb38-4146-8bb1-c94c79a20b3d",
     "regions": {
      "61355b4f-9b45-489a-9ea9-2357b281dbcd": {
       "attrs": {
        "height": 0.4166666666666667,
        "pad": 0.01,
        "treemap:weight": 1,
        "width": 1,
        "x": 0,
        "y": 0.5833333333333334
       },
       "content": {
        "cell": "4c2878dd-901c-44a7-97d8-83ce2a57cf73",
        "part": "whole"
       },
       "id": "61355b4f-9b45-489a-9ea9-2357b281dbcd"
      },
      "6e6f8079-52b4-4d0b-8425-cad967d982bb": {
       "attrs": {
        "height": 0.4166666666666667,
        "pad": 0.01,
        "treemap:weight": 1,
        "width": 1,
        "x": -0.0005263157894736842,
        "y": 0.16666666666666666
       },
       "content": {
        "cell": "669db2d1-b955-40ed-927e-0a3adef02e87",
        "part": "whole"
       },
       "id": "6e6f8079-52b4-4d0b-8425-cad967d982bb"
      },
      "d948d8ab-4481-4261-801e-6d1594682e88": {
       "attrs": {
        "height": 0.25,
        "pad": 0.01,
        "treemap:weight": 1,
        "width": 1,
        "x": 0,
        "y": 0
       },
       "content": {
        "cell": "b920b873-d1ac-48dc-97a3-35e693973cdc",
        "part": "whole"
       },
       "height": 0.233,
       "id": "d948d8ab-4481-4261-801e-6d1594682e88",
       "y": 0
      }
     }
    },
    "86671071-c20b-4178-a694-719bdb876955": {
     "id": "86671071-c20b-4178-a694-719bdb876955",
     "prev": "f6438d83-4db1-4988-84ae-85e116bd4b12",
     "regions": {
      "77f55b9c-2d6b-4f42-9f6f-5e3817b267bd": {
       "attrs": {
        "height": 0.8,
        "width": 0.8,
        "x": 0.1,
        "y": 0.1
       },
       "content": {
        "cell": "68f0caa6-eed1-442f-a9dc-0307d8935308",
        "part": "whole"
       },
       "id": "77f55b9c-2d6b-4f42-9f6f-5e3817b267bd"
      }
     }
    },
    "8c32f22e-ca53-436d-8c4d-47995f88366e": {
     "id": "8c32f22e-ca53-436d-8c4d-47995f88366e",
     "prev": "c694fcd9-ab5d-477b-8934-e4f9b1d9933e",
     "regions": {
      "b37bf11f-d2d3-4504-9b1a-628f3989b760": {
       "attrs": {
        "height": 0.8,
        "width": 0.8,
        "x": 0.1,
        "y": 0.1
       },
       "content": {
        "cell": "db28461d-d250-4a7a-9204-613b5bea6dc9",
        "part": "whole"
       },
       "id": "b37bf11f-d2d3-4504-9b1a-628f3989b760"
      }
     }
    },
    "c694fcd9-ab5d-477b-8934-e4f9b1d9933e": {
     "id": "c694fcd9-ab5d-477b-8934-e4f9b1d9933e",
     "prev": "fbef2e0a-6863-4375-9ee6-9e09dad496f7",
     "regions": {
      "e7ac7c77-cf75-4d4e-8766-e4bd5c9a783d": {
       "attrs": {
        "height": 0.8,
        "width": 0.8,
        "x": 0.1,
        "y": 0.1
       },
       "content": {
        "cell": "4a6287e7-dfc4-465d-9ae4-7d656abc6402",
        "part": "whole"
       },
       "id": "e7ac7c77-cf75-4d4e-8766-e4bd5c9a783d"
      }
     }
    },
    "c90f0875-039d-44fc-a070-095207b2f7f0": {
     "id": "c90f0875-039d-44fc-a070-095207b2f7f0",
     "prev": "51778d7b-4aa2-4e24-ac72-a0968d916334",
     "regions": {
      "010eb39b-4c26-48bd-9b9a-4a8e8741aebd": {
       "attrs": {
        "height": 0.8,
        "width": 0.8,
        "x": 0.1,
        "y": 0.1
       },
       "content": {
        "cell": "48351ca5-84dd-4281-abd0-aaabb587b001",
        "part": "whole"
       },
       "id": "010eb39b-4c26-48bd-9b9a-4a8e8741aebd"
      }
     }
    },
    "d54c183e-82ed-4e21-ad2c-369c83b62457": {
     "id": "d54c183e-82ed-4e21-ad2c-369c83b62457",
     "prev": "3245d4ca-f536-4407-93cd-34766063b205",
     "regions": {
      "1b7791a9-caf6-41bb-ba92-564c5b16fda4": {
       "attrs": {
        "height": 0.8,
        "width": 0.8,
        "x": 0.1,
        "y": 0.1
       },
       "content": {
        "cell": "8133930c-7eb4-4b7f-99d0-0e303f2583c4",
        "part": "whole"
       },
       "id": "1b7791a9-caf6-41bb-ba92-564c5b16fda4"
      }
     }
    },
    "f6438d83-4db1-4988-84ae-85e116bd4b12": {
     "id": "f6438d83-4db1-4988-84ae-85e116bd4b12",
     "prev": "f7f326c0-2a8a-4a78-8713-4b715f87f9f7",
     "regions": {
      "048ff781-06f9-4e41-bcbc-9ac50f2be9f4": {
       "attrs": {
        "height": 0.8,
        "width": 0.8,
        "x": 0.1,
        "y": 0.1
       },
       "content": {
        "cell": "8a920b74-02b4-4fa7-8018-28b0382ee02c",
        "part": "whole"
       },
       "id": "048ff781-06f9-4e41-bcbc-9ac50f2be9f4"
      },
      "0c5dfea7-1c61-450c-b686-64cd1ffcfbc8": {
       "attrs": {
        "height": 0.4,
        "width": 0.8,
        "x": 0.1,
        "y": 0.5
       },
       "content": {
        "cell": "c0319310-dc3b-4e3c-8378-fd829e9b3fd1",
        "part": "whole"
       },
       "id": "0c5dfea7-1c61-450c-b686-64cd1ffcfbc8"
      },
      "52ba87da-9e3e-4a63-96f1-1f95195e7be1": {
       "attrs": {
        "height": 0.4,
        "width": 0.8,
        "x": 1.7999999999999965,
        "y": 0.5
       },
       "content": {
        "cell": "239899b4-00fa-4529-b559-c7614b5a9473",
        "part": "whole"
       },
       "id": "52ba87da-9e3e-4a63-96f1-1f95195e7be1",
       "x": 0.1,
       "y": 0.3
      }
     }
    },
    "f7f326c0-2a8a-4a78-8713-4b715f87f9f7": {
     "id": "f7f326c0-2a8a-4a78-8713-4b715f87f9f7",
     "prev": "12fd3ff2-7e7c-4c20-ad63-94b85f9c320f",
     "regions": {
      "73dae73d-8fa9-4da9-b546-7eae59d302a0": {
       "attrs": {
        "height": 0.8,
        "width": 0.8,
        "x": 0.1,
        "y": 0.1
       },
       "content": {
        "cell": "8ecb68a2-b932-43c9-a725-dab7103f3223",
        "part": "whole"
       },
       "id": "73dae73d-8fa9-4da9-b546-7eae59d302a0"
      }
     }
    },
    "fbef2e0a-6863-4375-9ee6-9e09dad496f7": {
     "id": "fbef2e0a-6863-4375-9ee6-9e09dad496f7",
     "prev": "1bfc7cd5-24f5-46dc-aead-4c5cc4dd0b97",
     "regions": {
      "9d2c2b9b-42c6-4725-bb6e-df25b425c668": {
       "attrs": {
        "height": 0.8,
        "width": 0.8,
        "x": 0.1,
        "y": 0.1
       },
       "content": {
        "cell": "22865d0f-c79e-4a5c-b195-ad238bd5cef7",
        "part": "whole"
       },
       "id": "9d2c2b9b-42c6-4725-bb6e-df25b425c668"
      }
     }
    }
   },
   "themes": {
    "default": "d72a47ac-f7be-4ea6-bf86-2a411d824967",
    "theme": {}
   }
  }
 },
 "nbformat": 4,
 "nbformat_minor": 1
}
