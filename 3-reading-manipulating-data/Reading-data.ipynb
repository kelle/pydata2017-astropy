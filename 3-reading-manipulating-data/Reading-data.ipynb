{
 "cells": [
  {
   "cell_type": "markdown",
   "metadata": {},
   "source": [
    "# Reading, manipulating, and writing data with Astropy\n",
    "\n",
    "Reading and manipulating tabular data is something every astronomer has to do. Astropy supports reading and writing tables to both ASCII and binary file formats through its [unified input/output interface](http://docs.astropy.org/en/latest/io/unified.html). The core object for representing tables is the `Table`. In this tutorial, we'll learn about the class in general, then do some specific examples of reading and writing both ascii and FITS tables.\n",
    "\n",
    "For more information about the features presented below, see the\n",
    "[astropy.table](http://docs.astropy.org/en/stable/table/index.html) documentation."
   ]
  },
  {
   "cell_type": "code",
   "execution_count": null,
   "metadata": {
    "collapsed": true
   },
   "outputs": [],
   "source": [
    "# Imports we'll need throughout the tutorial:\n",
    "import astropy.units as u\n",
    "import numpy as np\n",
    "import matplotlib as mpl\n",
    "import matplotlib.pyplot as plt\n",
    "%matplotlib inline\n",
    "\n",
    "from astropy.table import Table, QTable\n",
    "from astropy.io import ascii, fits"
   ]
  },
  {
   "cell_type": "markdown",
   "metadata": {},
   "source": [
    "# Astropy Tables"
   ]
  },
  {
   "cell_type": "markdown",
   "metadata": {},
   "source": [
    "The astropy [Table](http://docs.astropy.org/en/stable/table/index.html) class provides an extension of NumPy structured arrays for storing and manipulating heterogeneous tables of data. [Table](http://docs.astropy.org/en/stable/table/index.html) supports many convenient features that may be familiar to users of other packages that support table data (e.g., `Pandas`). To highlight a few:\n",
    "\n",
    "- `Table` objects can be modified in place by adding or removing columns, changing column names, or adding new rows of data.\n",
    "- `Table`s support dealing with missing values.\n",
    "- `Table`s support database operations like joins, concatenation, and grouping.\n",
    "- `Table`s support Astropy [Units and Quantities](http://astropy.readthedocs.org/en/stable/units/index.html), especially with the `QTable` class."
   ]
  },
  {
   "cell_type": "markdown",
   "metadata": {},
   "source": [
    "## Creating an astropy `Table` from scratch\n",
    "\n",
    "\n",
    "Table objects can be constructed in a variety of ways:\n",
    "\n",
    "- By reading an existing table from a file or web URL\n",
    "- By adding columns of data one by one\n",
    "- By adding rows of data one by one\n",
    "- From an existing data structure in memory, i.e. from a:\n",
    "\n",
    "  - List of data columns\n",
    "  - Dict of data columns\n",
    "  - List of row dicts\n",
    "  - Numpy homgeneous array or structured array\n",
    "  - List of row records\n",
    "  \n",
    "See the documentation section on [Constructing a table](http://astropy.readthedocs.org/en/stable/table/construct_table.html) for the gory details and plenty of examples.\n",
    "\n",
    "Let's create our first table object by creating an empty table and start by adding a single column:"
   ]
  },
  {
   "cell_type": "code",
   "execution_count": null,
   "metadata": {
    "collapsed": true
   },
   "outputs": [],
   "source": [
    "tbl = Table()\n",
    "tbl['name'] = ['Graham Chapman', 'John Cleese', 'Terry Gilliam', \n",
    "               'Eric Idle', 'Terry Jones', 'Michael Palin']"
   ]
  },
  {
   "cell_type": "markdown",
   "metadata": {},
   "source": [
    "In this case, the column name is given as a string index to the table object, and the data type and number of rows are inferred directly from the data. Once the table has a column, however, any new columns we add must have the same number of rows:"
   ]
  },
  {
   "cell_type": "code",
   "execution_count": null,
   "metadata": {
    "collapsed": true
   },
   "outputs": [],
   "source": [
    "tbl['age'] = [np.nan, 78, 77, 74, 75, 74]\n",
    "\n",
    "# whereas, this would fail because it isn't the same length as the table:\n",
    "# tbl['age'] = [77, 77]"
   ]
  },
  {
   "cell_type": "markdown",
   "metadata": {},
   "source": [
    "#### Displaying or viewing tables\n",
    "\n",
    "An instantiated table object can be viewed in a number of ways. In a Jupyter notebook, showing the table will produce a nice HTML representation of the table:"
   ]
  },
  {
   "cell_type": "code",
   "execution_count": null,
   "metadata": {},
   "outputs": [],
   "source": [
    "tbl"
   ]
  },
  {
   "cell_type": "markdown",
   "metadata": {},
   "source": [
    "If you did the same in a terminal session you get a different view that isn't as pretty but does give a bit more information about the table. In a terminal session, it would look like this:"
   ]
  },
  {
   "cell_type": "code",
   "execution_count": null,
   "metadata": {},
   "outputs": [],
   "source": [
    "print(tbl)"
   ]
  },
  {
   "cell_type": "markdown",
   "metadata": {},
   "source": [
    "We can access the table column names and data types using the `colnames` and `dtype` attributes:"
   ]
  },
  {
   "cell_type": "code",
   "execution_count": null,
   "metadata": {},
   "outputs": [],
   "source": [
    "tbl.colnames"
   ]
  },
  {
   "cell_type": "code",
   "execution_count": null,
   "metadata": {},
   "outputs": [],
   "source": [
    "tbl.dtype"
   ]
  },
  {
   "cell_type": "markdown",
   "metadata": {},
   "source": [
    "For long tables, there is also a handy ``show_in_notebook()`` method that allows more interactive exploration like searching, and paged views of the data:"
   ]
  },
  {
   "cell_type": "code",
   "execution_count": null,
   "metadata": {},
   "outputs": [],
   "source": [
    "tbl.show_in_notebook()"
   ]
  },
  {
   "cell_type": "markdown",
   "metadata": {},
   "source": [
    "#### Accessing sections of the data\n",
    "\n",
    "We can access the columns and rows the same as we would with numpy structured arrays: string indices access column names, and numeric indices access rows. In the examples below, notice that the returned objects are `Column`, `Row` or `Table` objects depending on the selection:"
   ]
  },
  {
   "cell_type": "code",
   "execution_count": null,
   "metadata": {},
   "outputs": [],
   "source": [
    "tbl['name']  # access entire column"
   ]
  },
  {
   "cell_type": "code",
   "execution_count": null,
   "metadata": {},
   "outputs": [],
   "source": [
    "tbl['name'][1] # row index 1 of column"
   ]
  },
  {
   "cell_type": "code",
   "execution_count": null,
   "metadata": {},
   "outputs": [],
   "source": [
    "tbl[1]  # row object for row index 1"
   ]
  },
  {
   "cell_type": "code",
   "execution_count": null,
   "metadata": {},
   "outputs": [],
   "source": [
    "tbl[1]['name']  # name column of row index 1"
   ]
  },
  {
   "cell_type": "code",
   "execution_count": null,
   "metadata": {},
   "outputs": [],
   "source": [
    "tbl[1:3]  # select a range of rows and return a new table"
   ]
  },
  {
   "cell_type": "code",
   "execution_count": null,
   "metadata": {},
   "outputs": [],
   "source": [
    "tbl[[1, 3]] # select specific row indices and return a new table"
   ]
  },
  {
   "cell_type": "code",
   "execution_count": null,
   "metadata": {},
   "outputs": [],
   "source": [
    "tbl['name', 'age'] # access a subset of columns"
   ]
  },
  {
   "cell_type": "markdown",
   "metadata": {},
   "source": [
    "#### Masking rows from a table\n",
    "\n",
    "Like Numpy arrays, we can also use boolean arrays or masks to filter tables. For example, to get the subset of rows where `'age'` is < 75 and finite:"
   ]
  },
  {
   "cell_type": "code",
   "execution_count": null,
   "metadata": {},
   "outputs": [],
   "source": [
    "mask = (tbl['age'] < 75) & np.isfinite(tbl['age'])\n",
    "tbl[mask]  # Create a new table with just the rows where the mask is True"
   ]
  },
  {
   "cell_type": "markdown",
   "metadata": {},
   "source": [
    "#### Modifying a table\n",
    "\n",
    "Once the table exists with defined columns there are a number of ways to modify the table in place.  These are fully documented in the section [Modifying a Table](http://astropy.readthedocs.org/en/stable/table/modify_table.html#modifying-a-table).\n",
    "\n",
    "We already saw an example above of how to add new columns, but let's add another column. We can also add new rows using the [add_row()](http://astropy.readthedocs.org/en/stable/api/astropy.table.Table.html#astropy.table.Table.add_row) method:"
   ]
  },
  {
   "cell_type": "code",
   "execution_count": null,
   "metadata": {
    "collapsed": true
   },
   "outputs": [],
   "source": [
    "tbl['british'] = [True, True, False, True, True, True]"
   ]
  },
  {
   "cell_type": "code",
   "execution_count": null,
   "metadata": {},
   "outputs": [],
   "source": [
    "tbl.add_row(('Eddie Izzard', 55, True))  # add a new row to the end\n",
    "tbl"
   ]
  },
  {
   "cell_type": "markdown",
   "metadata": {},
   "source": [
    "Notice that the `age` column really has too many output digits given that the age should be an integer.  We can change the display behavior by setting the format using a Python format string:"
   ]
  },
  {
   "cell_type": "code",
   "execution_count": null,
   "metadata": {},
   "outputs": [],
   "source": [
    "tbl['age'].format = '%.0f'\n",
    "tbl"
   ]
  },
  {
   "cell_type": "markdown",
   "metadata": {},
   "source": [
    "#### Converting a table to a numpy structured array\n",
    "\n",
    "Sometimes you may not want or be able to use a `Table` object and prefer to work with a plain numpy array.  This is easily done by passing the table to the `np.array()` constructor.  \n",
    "\n",
    "Note that this makes a copy of the data.  If you have a huge table and don't want to waste memory, supply `copy=False` to the constructor, but be warned that changing the output numpy array will change the original table."
   ]
  },
  {
   "cell_type": "code",
   "execution_count": null,
   "metadata": {},
   "outputs": [],
   "source": [
    "np.array(tbl)"
   ]
  },
  {
   "cell_type": "markdown",
   "metadata": {},
   "source": [
    "Batches of or individual columns and rows can also be converted to plain numpy arrays.\n",
    "\n",
    "To retrieve column data as a numpy array (as a view):"
   ]
  },
  {
   "cell_type": "code",
   "execution_count": null,
   "metadata": {},
   "outputs": [],
   "source": [
    "tbl['age'].data"
   ]
  },
  {
   "cell_type": "markdown",
   "metadata": {},
   "source": [
    "Or, to create a copy of the data"
   ]
  },
  {
   "cell_type": "code",
   "execution_count": null,
   "metadata": {},
   "outputs": [],
   "source": [
    "np.array(tbl['age'])"
   ]
  },
  {
   "cell_type": "markdown",
   "metadata": {},
   "source": [
    "---\n",
    "\n",
    "# Reading tabular data into `Table` objects\n",
    "\n",
    "Tabular data in any format supported by the [unified input/ouput interface](http://docs.astropy.org/en/latest/io/unified.html) can be read in as a `Table` object using the [Table.read()](http://astropy.readthedocs.org/en/stable/api/astropy.table.Table.html#astropy.table.Table.read) method. Some notable examples are FITS files with a table, CSV or other delimited ASCII table, or Latex tables. Let's see some examples using files included with this repository:"
   ]
  },
  {
   "cell_type": "code",
   "execution_count": null,
   "metadata": {},
   "outputs": [],
   "source": [
    "!ls -l example_table_data*"
   ]
  },
  {
   "cell_type": "code",
   "execution_count": null,
   "metadata": {},
   "outputs": [],
   "source": [
    "tbl1 = Table.read('data/example_table_data.fits')\n",
    "tbl1"
   ]
  },
  {
   "cell_type": "markdown",
   "metadata": {},
   "source": [
    "The `Table.read()` method will try to figure out what type of file and data structure the input file contains:"
   ]
  },
  {
   "cell_type": "code",
   "execution_count": null,
   "metadata": {},
   "outputs": [],
   "source": [
    "!head -n 8 data/example_table_data.csv"
   ]
  },
  {
   "cell_type": "code",
   "execution_count": null,
   "metadata": {
    "collapsed": true
   },
   "outputs": [],
   "source": [
    "tbl2 = Table.read('data/example_table_data.csv')"
   ]
  },
  {
   "cell_type": "markdown",
   "metadata": {},
   "source": [
    "but sometimes you have to specify other options to help it out:"
   ]
  },
  {
   "cell_type": "code",
   "execution_count": null,
   "metadata": {},
   "outputs": [],
   "source": [
    "!head -n 8 data/example_table_data.tex"
   ]
  },
  {
   "cell_type": "code",
   "execution_count": null,
   "metadata": {
    "collapsed": true
   },
   "outputs": [],
   "source": [
    "tbl3 = Table.read('data/example_table_data.tex', format='ascii.aastex')"
   ]
  },
  {
   "cell_type": "code",
   "execution_count": null,
   "metadata": {},
   "outputs": [],
   "source": [
    "!head -n 8 data/example_table_data.txt"
   ]
  },
  {
   "cell_type": "code",
   "execution_count": null,
   "metadata": {
    "collapsed": true
   },
   "outputs": [],
   "source": [
    "tbl4 = Table.read('data/example_table_data.txt', format='ascii', delimiter='|')"
   ]
  },
  {
   "cell_type": "markdown",
   "metadata": {},
   "source": [
    "A number of common astronomical ascii formats are supported such as IPAC, sextractor, daophot, and CDS - see [the documentation](http://docs.astropy.org/en/latest/io/unified.html) for a full list, or the docstring:"
   ]
  },
  {
   "cell_type": "code",
   "execution_count": null,
   "metadata": {
    "collapsed": true
   },
   "outputs": [],
   "source": [
    "Table.read?"
   ]
  },
  {
   "cell_type": "markdown",
   "metadata": {},
   "source": [
    "--- \n",
    "\n",
    "# Writing `Table` objects\n",
    "\n",
    "To write a table object to disk as a binary or ascii file, use the [Table.write()](http://astropy.readthedocs.org/en/stable/api/astropy.table.Table.html#astropy.table.Table.write) method. This acts just like the `.read()` method, in that in some cases it can automatically guess the format from the filename, but may require specifying the format or other parameters (e.g., delimiter).\n",
    "\n",
    "An example writing a FITS file:"
   ]
  },
  {
   "cell_type": "code",
   "execution_count": null,
   "metadata": {
    "collapsed": true
   },
   "outputs": [],
   "source": [
    "tbl1.write('test.fits', overwrite=True)"
   ]
  },
  {
   "cell_type": "markdown",
   "metadata": {},
   "source": [
    "And with ASCII files of various formats:"
   ]
  },
  {
   "cell_type": "code",
   "execution_count": null,
   "metadata": {},
   "outputs": [],
   "source": [
    "# VO table\n",
    "tbl1.write('test.vot', format='votable', overwrite=True)\n",
    "!head -n 30 test.vot"
   ]
  },
  {
   "cell_type": "code",
   "execution_count": null,
   "metadata": {
    "collapsed": true
   },
   "outputs": [],
   "source": [
    "tbl1.write('test.dat', format='ascii')"
   ]
  },
  {
   "cell_type": "code",
   "execution_count": null,
   "metadata": {
    "collapsed": true
   },
   "outputs": [],
   "source": [
    "tbl1.write('test.csv', format='ascii.csv')"
   ]
  },
  {
   "cell_type": "code",
   "execution_count": null,
   "metadata": {
    "collapsed": true
   },
   "outputs": [],
   "source": [
    "tbl1.write('test.ipac', format='ascii')"
   ]
  },
  {
   "cell_type": "markdown",
   "metadata": {},
   "source": [
    "While the above is often sufficient, it's important to know that the base-line format does *not* support quite a few of the \"advanced\" features, like inclusion of units.  To do that you'll likely want to use the astropy table \"enhanced\" CSV:"
   ]
  },
  {
   "cell_type": "code",
   "execution_count": null,
   "metadata": {
    "collapsed": true
   },
   "outputs": [],
   "source": [
    "tbl1.write('test.ecsv', format='ascii.ecsv')"
   ]
  },
  {
   "cell_type": "markdown",
   "metadata": {},
   "source": [
    "## Example: retrieving spectroscopic objects from the SDSS\n",
    "\n",
    "In the example below, we'll query the [SDSS](http://sdss.org) spectroscopic catalog to retrieve object information for all sources within 0.5 degrees of the star HD 69497. We'll then save the table as a FITS file."
   ]
  },
  {
   "cell_type": "code",
   "execution_count": null,
   "metadata": {},
   "outputs": [],
   "source": [
    "from astroquery.sdss import SDSS\n",
    "import astropy.coordinates as coord"
   ]
  },
  {
   "cell_type": "code",
   "execution_count": null,
   "metadata": {},
   "outputs": [],
   "source": [
    "sc = coord.SkyCoord.from_name('HD 69497')\n",
    "sc"
   ]
  },
  {
   "cell_type": "code",
   "execution_count": null,
   "metadata": {
    "collapsed": true
   },
   "outputs": [],
   "source": [
    "sdss_data = SDSS.query_region(sc, radius=0.5*u.deg, spectro=True)"
   ]
  },
  {
   "cell_type": "code",
   "execution_count": null,
   "metadata": {},
   "outputs": [],
   "source": [
    "sdss_data"
   ]
  },
  {
   "cell_type": "code",
   "execution_count": null,
   "metadata": {
    "collapsed": true
   },
   "outputs": [],
   "source": [
    "sdss_data.write('SDSS_star.fits', overwrite=True)"
   ]
  },
  {
   "cell_type": "markdown",
   "metadata": {},
   "source": [
    "---\n",
    "\n",
    "# Table columns with units\n",
    "\n",
    "See the [`Quantity` and Tables documentation](http://docs.astropy.org/en/latest/table/mixin_columns.html#quantity-and-qtable) for more information about this section.\n",
    "\n",
    "Columns of normal `Table` objects can keep track of units, but do not support Quantity-like propagation of units. For example:"
   ]
  },
  {
   "cell_type": "code",
   "execution_count": null,
   "metadata": {},
   "outputs": [],
   "source": [
    "tbl = Table()\n",
    "tbl['name'] = ['Graham Chapman', 'John Cleese', 'Terry Gilliam', \n",
    "               'Eric Idle', 'Terry Jones', 'Michael Palin']\n",
    "tbl['age'] = [np.nan, 78, 77, 74, 75, 74] * u.year\n",
    "tbl"
   ]
  },
  {
   "cell_type": "markdown",
   "metadata": {},
   "source": [
    "Notice that now the 'age' column has a unit `'yr'` listed above its data type.\n",
    "\n",
    "While `Column` objects can store a unit, they do not act like `Quantity` objects. For example, operations with `Columns` do not propagate or update units like you'd expect:"
   ]
  },
  {
   "cell_type": "code",
   "execution_count": null,
   "metadata": {},
   "outputs": [],
   "source": [
    "(tbl['age'] ** 2).unit"
   ]
  },
  {
   "cell_type": "markdown",
   "metadata": {},
   "source": [
    "To use `Table`'s that are fully unit aware and use `Quantity` objects to store column data, instead use the `QTable` class. This class behaves similar to the `Table` and can be created in the same way:"
   ]
  },
  {
   "cell_type": "code",
   "execution_count": null,
   "metadata": {},
   "outputs": [],
   "source": [
    "qtbl = QTable()\n",
    "qtbl['name'] = ['Graham Chapman', 'John Cleese', 'Terry Gilliam', \n",
    "                'Eric Idle', 'Terry Jones', 'Michael Palin']\n",
    "qtbl['age'] = [np.nan, 78, 77, 74, 75, 74] * u.year\n",
    "qtbl"
   ]
  },
  {
   "cell_type": "code",
   "execution_count": null,
   "metadata": {},
   "outputs": [],
   "source": [
    "type(qtbl['age'])"
   ]
  },
  {
   "cell_type": "code",
   "execution_count": null,
   "metadata": {},
   "outputs": [],
   "source": [
    "(qtbl['age'] ** 2).unit"
   ]
  },
  {
   "cell_type": "markdown",
   "metadata": {},
   "source": [
    "`Table` and `QTable` objects can be easily converted to the other:"
   ]
  },
  {
   "cell_type": "code",
   "execution_count": null,
   "metadata": {},
   "outputs": [],
   "source": [
    "QTable(tbl)"
   ]
  },
  {
   "cell_type": "code",
   "execution_count": null,
   "metadata": {},
   "outputs": [],
   "source": [
    "Table(qtbl)"
   ]
  },
  {
   "cell_type": "markdown",
   "metadata": {},
   "source": [
    "---\n",
    "\n",
    "# Combining tables\n",
    "\n",
    "Tables can be combined in a number of ways. If two tables have the same columns but different rows, we may want to \"stack\" them vertically to create a new table that contains all rows. If two tables have different columns, but are row-matched, we may want to \"stack\" them horizontally to create a new table that contains all columns. We may also want to do something more complicated, like a database join operation. \n",
    "\n",
    "All of these are supported between `Table` objects with the `vstack`, `hstack`, and `join` functions. Let's look at a few examples. "
   ]
  },
  {
   "cell_type": "code",
   "execution_count": null,
   "metadata": {
    "collapsed": true
   },
   "outputs": [],
   "source": [
    "from astropy.table import vstack, hstack, join"
   ]
  },
  {
   "cell_type": "markdown",
   "metadata": {},
   "source": [
    "### Combining tables that have the same columns (`vstack`)\n",
    "\n",
    "Let's first create two tables that share columns but have different rows:"
   ]
  },
  {
   "cell_type": "code",
   "execution_count": null,
   "metadata": {},
   "outputs": [],
   "source": [
    "tbl_a = Table()\n",
    "tbl_a['cheese'] = [\"Red Leicester\", \"Tilsit\", \"Caerphilly\", \"Bel Paese\", \"Red Windsor\"]\n",
    "tbl_a['in stock'] = ['no', 'no', 'no', 'no', 'no']\n",
    "\n",
    "tbl_b = Table()\n",
    "tbl_b['cheese'] = [\"Stilton\", \"Gruyère\", \"Emmental\", \"Norwegian Jarlsberg\", \"Liptauer\"]\n",
    "tbl_b['in stock'] = ['no', 'no', 'no', 'no', 'no']"
   ]
  },
  {
   "cell_type": "code",
   "execution_count": null,
   "metadata": {},
   "outputs": [],
   "source": [
    "tbl_a.colnames, tbl_b.colnames"
   ]
  },
  {
   "cell_type": "code",
   "execution_count": null,
   "metadata": {},
   "outputs": [],
   "source": [
    "cheese = vstack((tbl_a, tbl_b))\n",
    "cheese"
   ]
  },
  {
   "cell_type": "markdown",
   "metadata": {},
   "source": [
    "### Combining tables that have the same rows (`hstack`)\n",
    "\n",
    "Let's first create two tables that are row-matched but have different columns:"
   ]
  },
  {
   "cell_type": "code",
   "execution_count": null,
   "metadata": {
    "collapsed": true
   },
   "outputs": [],
   "source": [
    "tbl_a = Table()\n",
    "tbl_a['name'] = ['Arthur',\n",
    "                 'Lancelot',\n",
    "                 'Galahad',\n",
    "                 'Robin']\n",
    "\n",
    "tbl_b = Table()\n",
    "tbl_b['title'] = ['King of the Britons',\n",
    "                  'the Brave',\n",
    "                  'the Pure',\n",
    "                  'Not-Quite-So-Brave-as-Sir-Lancelot']"
   ]
  },
  {
   "cell_type": "code",
   "execution_count": null,
   "metadata": {},
   "outputs": [],
   "source": [
    "len(tbl_a), len(tbl_b)"
   ]
  },
  {
   "cell_type": "code",
   "execution_count": null,
   "metadata": {},
   "outputs": [],
   "source": [
    "knights = hstack((tbl_a, tbl_b))\n",
    "knights"
   ]
  },
  {
   "cell_type": "markdown",
   "metadata": {},
   "source": [
    "### Database joins (`join`)\n",
    "\n",
    "Let's first create two tables that share a column but have disparate rows and data. For example, imagine we had one table with source names and metadata (e.g., sky position), and a second table with time series photometry. We might want a new table with all of the photometry, but with the metadata from the first table joined in to each row of the second. "
   ]
  },
  {
   "cell_type": "code",
   "execution_count": null,
   "metadata": {
    "collapsed": true
   },
   "outputs": [],
   "source": [
    "from astropy.time import Time"
   ]
  },
  {
   "cell_type": "code",
   "execution_count": null,
   "metadata": {},
   "outputs": [],
   "source": [
    "tbl_a = Table()\n",
    "tbl_a['name'] = ['Arcturus', 'Rigel', 'Betelgeuse']\n",
    "tbl_a['ra'] = [213.913315, 78.6344670, 88.7929389] * u.deg\n",
    "tbl_a['dec'] = [19.1782489, -8.2016383, 7.4070639] * u.deg\n",
    "\n",
    "tbl_b = Table()\n",
    "tbl_b['name'] = np.array([], dtype='S10')\n",
    "tbl_b['time'] = [] * u.hour\n",
    "tbl_b['mag'] = [] \n",
    "\n",
    "tbl_b.add_row(['Arcturus', 15.2523*u.hour, -0.043])\n",
    "tbl_b.add_row(['Arcturus', 16.955*u.hour, -0.041])\n",
    "tbl_b.add_row(['Arcturus', 18.011*u.hour, -0.044])\n",
    "tbl_b.add_row(['Rigel', 20.011*u.hour, 0.12])\n",
    "tbl_b.add_row(['Betelgeuse', 22.334*u.hour, 0.421])\n",
    "tbl_b.add_row(['Betelgeuse', 23.930*u.hour, 0.424])"
   ]
  },
  {
   "cell_type": "code",
   "execution_count": null,
   "metadata": {},
   "outputs": [],
   "source": [
    "bright_stars = join(tbl_a, tbl_b, keys='name')\n",
    "bright_stars"
   ]
  },
  {
   "cell_type": "markdown",
   "metadata": {},
   "source": [
    "---\n",
    "\n",
    "# Exercises:\n",
    "\n",
    "### Read the provided data\n",
    "\n",
    "We have provided two FITS files in the `data/` directory that contain subsets of files from the Sloan Digital Sky Survey (SDSS) APOGEE survey. APOGEE is a stellar spectroscopic survey that has measured radial velocities and chemical abundances for a few hundred thousand stars. Each star observed was \"visited\" multiple times, but the visit spectra were combined to obtain a higher signal to noise spectrum for each star. We have provided catalog data measured both from the combined spectrum (`data/apogee-allStar.fits`) and from each individual visit spectrum (`data/apogee-allVisit.fits`) for 100 APOGEE targets. The targets observed by APOGEE were visited a different number of times, so some stars will have as few as 2 or 3 visits, whereas others may have many more.\n",
    "\n",
    "#### Start by reading in these two files, which each contain a single FITS table:"
   ]
  },
  {
   "cell_type": "code",
   "execution_count": null,
   "metadata": {
    "collapsed": true
   },
   "outputs": [],
   "source": [
    "# stars = ...\n",
    "# visits = ...\n",
    "\n",
    "stars = Table.read('data/apogee-allStar.fits')\n",
    "visits = Table.read('data/apogee-allVisit.fits')"
   ]
  },
  {
   "cell_type": "markdown",
   "metadata": {},
   "source": [
    "#### Print out a list of all of the column names for each table:"
   ]
  },
  {
   "cell_type": "code",
   "execution_count": null,
   "metadata": {},
   "outputs": [],
   "source": [
    "print(stars.colnames)\n",
    "print(visits.colnames)"
   ]
  },
  {
   "cell_type": "markdown",
   "metadata": {},
   "source": [
    "There are a *lot* of columns in each table! For our purposes, we only care about the following column names:\n",
    "\n",
    "__`stars`:__\n",
    "* `APOGEE_ID` - a unique source identifier\n",
    "* `RA` - the right ascension in degrees\n",
    "* `DEC` - the declination in degrees\n",
    "* `NVISITS` - the number of visits for this target\n",
    "\n",
    "__`visits`:__\n",
    "* `APOGEE_ID` - the same unique source identifier as above\n",
    "* `VHELIO` - heliocentric radial velocity\n",
    "* `JD` - Julian date (time) of the visit observation"
   ]
  },
  {
   "cell_type": "markdown",
   "metadata": {},
   "source": [
    "---\n",
    "\n",
    "#### Now explore the data a bit:\n",
    "\n",
    "- How many rows are in the visits table?\n",
    "- Display the `stars` table using the notebook-specific method `.show_in_notebook()`\n",
    "    - Using the search bar from this method, how many stars have the flag `VERY_BRIGHT_NEIGHBOR` set?"
   ]
  },
  {
   "cell_type": "code",
   "execution_count": null,
   "metadata": {},
   "outputs": [],
   "source": [
    "stars.show_in_notebook()"
   ]
  },
  {
   "cell_type": "markdown",
   "metadata": {},
   "source": [
    "---\n",
    "\n",
    "#### Modify the stars table:\n",
    "\n",
    "Let's now add a column to the stars table. The right ascension provided is in decimal degrees. Using `astropy.units`, create a new column called `RA_HOUR` that contains the right ascension in decimal hours instead (_hint: use the unit `u.hourangle` for the angular hour unit_)"
   ]
  },
  {
   "cell_type": "code",
   "execution_count": null,
   "metadata": {
    "collapsed": true
   },
   "outputs": [],
   "source": []
  },
  {
   "cell_type": "markdown",
   "metadata": {},
   "source": [
    "#### Delete the `'TARGET_ID'` column from the stars table:"
   ]
  },
  {
   "cell_type": "code",
   "execution_count": null,
   "metadata": {
    "collapsed": true
   },
   "outputs": [],
   "source": []
  },
  {
   "cell_type": "markdown",
   "metadata": {},
   "source": [
    "#### Rename the `'RA'` column to `'RA_DEG'`"
   ]
  },
  {
   "cell_type": "code",
   "execution_count": null,
   "metadata": {
    "collapsed": true
   },
   "outputs": [],
   "source": []
  },
  {
   "cell_type": "markdown",
   "metadata": {},
   "source": [
    "#### Filter out rows in the `visits` table with bad velocity measurements:\n",
    "\n",
    "Define a new table `clean_visits` that contains only the rows of the visits table that have good measurements of the velocity (`VHELIO`). A bad velocity will have a value of -9999."
   ]
  },
  {
   "cell_type": "code",
   "execution_count": null,
   "metadata": {
    "collapsed": true
   },
   "outputs": [],
   "source": []
  },
  {
   "cell_type": "markdown",
   "metadata": {},
   "source": [
    "#### Join the `visits` and `stars` tables on the key `APOGEE_ID`"
   ]
  },
  {
   "cell_type": "code",
   "execution_count": null,
   "metadata": {
    "collapsed": true
   },
   "outputs": [],
   "source": []
  },
  {
   "cell_type": "code",
   "execution_count": null,
   "metadata": {
    "collapsed": true
   },
   "outputs": [],
   "source": []
  }
 ],
 "metadata": {
  "anaconda-cloud": {},
  "kernelspec": {
   "display_name": "Python [default]",
   "language": "python",
   "name": "python3"
  },
  "language_info": {
   "codemirror_mode": {
    "name": "ipython",
    "version": 3
   },
   "file_extension": ".py",
   "mimetype": "text/x-python",
   "name": "python",
   "nbconvert_exporter": "python",
   "pygments_lexer": "ipython3",
   "version": "3.5.3"
  }
 },
 "nbformat": 4,
 "nbformat_minor": 1
}
